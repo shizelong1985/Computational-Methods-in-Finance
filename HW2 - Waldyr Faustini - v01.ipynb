{
 "cells": [
  {
   "cell_type": "markdown",
   "metadata": {},
   "source": [
    "# Homework 2 - FE621\n",
    "Waldyr Faustini"
   ]
  },
  {
   "cell_type": "code",
   "execution_count": 254,
   "metadata": {},
   "outputs": [
    {
     "name": "stderr",
     "output_type": "stream",
     "text": [
      "C:\\ProgramData\\Anaconda3\\lib\\site-packages\\tqdm\\std.py:697: FutureWarning: The Panel class is removed from pandas. Accessing it from the top-level namespace will also be removed in the next version\n",
      "  from pandas import Panel\n"
     ]
    }
   ],
   "source": [
    "import numpy as np\n",
    "from tqdm.notebook import tqdm\n",
    "import pandas as pd\n",
    "import matplotlib.pyplot as plt\n",
    "pd.set_option('display.max_columns', None)\n",
    "tqdm.pandas() # for progress bars\n",
    "pd.options.mode.chained_assignment = None  # default='warn'\n"
   ]
  },
  {
   "cell_type": "markdown",
   "metadata": {},
   "source": [
    "# Problem 1"
   ]
  },
  {
   "cell_type": "markdown",
   "metadata": {},
   "source": [
    "## a) Build pricer"
   ]
  },
  {
   "cell_type": "code",
   "execution_count": 204,
   "metadata": {},
   "outputs": [],
   "source": [
    "def euro_vanilla_pricer(N, T, S, K, r, sigma, option_type):\n",
    "    \n",
    "    # Trigeorgis 1992 coeffs\n",
    "    dt = T/N\n",
    "    nu = r - 0.5 * sigma**2\n",
    "    dx_u = np.sqrt(sigma**2 * dt + nu**2 * dt**2)\n",
    "    dx_d = - dx_u\n",
    "    p_u = 0.5 * (1 + nu * dt/dx_u)\n",
    "    p_d = 1 - p_u\n",
    "    \n",
    "    # one-period discount factor\n",
    "    disc = np.exp(- r * dt)\n",
    "    walk_up = np.exp(dx_u - dx_d)\n",
    "    \n",
    "    # initialize asset price at maturity, starting with the bottom one\n",
    "    # we will use the convention that 0 denotes the lowest value\n",
    "    ST = np.zeros(N+1)\n",
    "    ST[0] = S * np.exp(N * dx_d)\n",
    "    for i in range(1, N+1, 1):\n",
    "        ST[i] = ST[i-1]*walk_up\n",
    "    \n",
    "    value = np.zeros(N+1)\n",
    "    for j in range(N+1):\n",
    "        if option_type == 'call':\n",
    "            value[j] = max(ST[j] - K, 0)\n",
    "        else: \n",
    "            value[j] = max(K - ST[j], 0)\n",
    "            \n",
    "    # now we just propagate back - since these are European options,\n",
    "    # value at each node is just the propagated discounted expectation\n",
    "    for i in range(N-1, -1, -1):\n",
    "        for j in range(i+1):\n",
    "            value[j] = disc * (p_u * value[j+1] + p_d * value[j])\n",
    "    \n",
    "    return value[0]"
   ]
  },
  {
   "cell_type": "markdown",
   "metadata": {},
   "source": [
    "**Test**: to see if this works, we check whether the put-call parity $$c(t) - p(t) = S(t) - K e^{-r(T-t)}$$ holds"
   ]
  },
  {
   "cell_type": "code",
   "execution_count": 205,
   "metadata": {},
   "outputs": [
    {
     "name": "stdout",
     "output_type": "stream",
     "text": [
      "Euro call price 12.37\n"
     ]
    }
   ],
   "source": [
    "call_price_eur = euro_vanilla_pricer(N=2000, T=1 , S=100, K=100, r=0.01, sigma=0.3, option_type='call')\n",
    "print(\"Euro call price %.2f\" % call_price_eur)"
   ]
  },
  {
   "cell_type": "code",
   "execution_count": 206,
   "metadata": {},
   "outputs": [
    {
     "name": "stdout",
     "output_type": "stream",
     "text": [
      "Euro put price 11.37\n"
     ]
    }
   ],
   "source": [
    "put_price_eur = euro_vanilla_pricer(N=2000, T=1 , S=100, K=100, r=0.01, sigma=0.3, option_type='put')\n",
    "print(\"Euro put price %.2f\" % put_price_eur)"
   ]
  },
  {
   "cell_type": "code",
   "execution_count": 207,
   "metadata": {},
   "outputs": [
    {
     "name": "stdout",
     "output_type": "stream",
     "text": [
      "0.995\n",
      "0.995\n"
     ]
    }
   ],
   "source": [
    "# left-hand side\n",
    "print(round(call_price_eur-put_price_eur,4))\n",
    "\n",
    "# right-hand side\n",
    "print(round(100 - 100 * np.exp(-0.01*1.0),4))"
   ]
  },
  {
   "cell_type": "code",
   "execution_count": 208,
   "metadata": {},
   "outputs": [],
   "source": [
    "def american_vanilla_pricer(N, T, S, K, r, sigma, option_type):\n",
    "    \n",
    "    # Trigeorgis 1992 coeffs\n",
    "    dt = T/N\n",
    "    nu = r - 0.5 * sigma**2\n",
    "    dx_u = np.sqrt(sigma**2 * dt + nu**2 * dt**2)\n",
    "    dx_d = - dx_u\n",
    "    p_u = 0.5 * (1 + nu * dt/dx_u)\n",
    "    p_d = 1 - p_u\n",
    "    \n",
    "    # one-period discount factor and other constants\n",
    "    disc = np.exp(- r * dt)\n",
    "    walk_up = np.exp(dx_u - dx_d)\n",
    "    d_p_u = disc * p_u\n",
    "    d_p_d = disc * p_d\n",
    "    edxd = np.exp(dx_d)\n",
    "    \n",
    "    # initialize asset price at maturity, starting with the bottom one\n",
    "    # we will use the convention that 0 denotes the lowest value\n",
    "    ST = np.zeros(N+1)\n",
    "    ST[0] = S * np.exp(N * dx_d)\n",
    "    for i in range(1, N+1, 1):\n",
    "        ST[i] = ST[i-1]*walk_up\n",
    "    \n",
    "    value = np.zeros(N+1)\n",
    "    for j in range(N+1):\n",
    "        if option_type == 'call':\n",
    "            value[j] = max(ST[j] - K, 0)\n",
    "        else: \n",
    "            value[j] = max(K - ST[j], 0)\n",
    "    \n",
    "    # now we just propagate back, including the early stop condition\n",
    "    for i in range(N-1, -1, -1):\n",
    "        for j in range(i+1):\n",
    "            \n",
    "            value[j] = d_p_d * value[j] + d_p_u * value[j+1]\n",
    "            \n",
    "            # however, there might be early exercise\n",
    "            ST[j] = ST[j]/edxd\n",
    "            \n",
    "            if option_type == 'call':\n",
    "                value[j] = max(value[j], ST[j] - K)\n",
    "            else:\n",
    "                value[j] = max(value[j], K - ST[j])\n",
    "    \n",
    "    return value[0]"
   ]
  },
  {
   "cell_type": "markdown",
   "metadata": {},
   "source": [
    "**Test**: for an American call without dividends, its value should be the same as the equivalent European one (i.e. optimal exercise is at maturity)"
   ]
  },
  {
   "cell_type": "code",
   "execution_count": 209,
   "metadata": {},
   "outputs": [
    {
     "name": "stdout",
     "output_type": "stream",
     "text": [
      "Call price (American):  12.3668\n",
      "Call price (European):  12.3668\n"
     ]
    }
   ],
   "source": [
    "call_price_amer = american_vanilla_pricer(N=2000, T=1 , S=100, K=100, r=0.01, sigma=0.3, option_type='call')\n",
    "print(\"Call price (American): \", round(call_price_amer, 4))\n",
    "print(\"Call price (European): \", round(call_price_eur, 4))"
   ]
  },
  {
   "cell_type": "markdown",
   "metadata": {},
   "source": [
    "**Second test**: values for American puts should be greater or equal than the equivalent European option"
   ]
  },
  {
   "cell_type": "code",
   "execution_count": 210,
   "metadata": {},
   "outputs": [
    {
     "name": "stdout",
     "output_type": "stream",
     "text": [
      "Put price (American):  11.4462\n",
      "Put price (European):  11.3718\n"
     ]
    }
   ],
   "source": [
    "put_price_amer = american_vanilla_pricer(N=2000, T=1 , S=100, K=100, r=0.01, sigma=0.3, option_type='put')\n",
    "print(\"Put price (American): \", round(put_price_amer, 4))\n",
    "print(\"Put price (European): \", round(put_price_eur, 4))"
   ]
  },
  {
   "cell_type": "markdown",
   "metadata": {},
   "source": [
    "## 1.b"
   ]
  },
  {
   "cell_type": "markdown",
   "metadata": {},
   "source": [
    "Reading back data from HW 1 (DATA2). Volatility was obtained in the `vol_bisect` column via the bisection method. Focus on Amazon data.\n",
    "\n",
    "We will be using a yearly risk-free rate of 0.07% as taken from the previous assignment."
   ]
  },
  {
   "cell_type": "code",
   "execution_count": 266,
   "metadata": {},
   "outputs": [],
   "source": [
    "data = pd.read_csv('data_2.csv', index_col=0)\n",
    "data = data[data['ticker'] == 'AMZN']"
   ]
  },
  {
   "cell_type": "markdown",
   "metadata": {},
   "source": [
    "Ideally we would like to filter to maturities at 1, 2 and 3 months; since in HW1 we kept at those strictly less than 90 days away, we use ranges as proxy"
   ]
  },
  {
   "cell_type": "markdown",
   "metadata": {},
   "source": [
    "We donwloaded the data around February 23, so let us extract maturities close to the third week of March, April and May"
   ]
  },
  {
   "cell_type": "code",
   "execution_count": 267,
   "metadata": {},
   "outputs": [],
   "source": [
    "data = data[data['maturity'].isin(['2021-03-26', '2021-04-16', '2021-05-21'])]"
   ]
  },
  {
   "cell_type": "markdown",
   "metadata": {},
   "source": [
    "Now remove data for options too deep in/out-of-the-money"
   ]
  },
  {
   "cell_type": "code",
   "execution_count": 268,
   "metadata": {},
   "outputs": [],
   "source": [
    "data['dist_from_ATM'] = np.abs(data['strike'] - data['Close'])"
   ]
  },
  {
   "cell_type": "code",
   "execution_count": 269,
   "metadata": {},
   "outputs": [],
   "source": [
    "data = data.sort_values(['maturity', 'dist_from_ATM'])"
   ]
  },
  {
   "cell_type": "code",
   "execution_count": 270,
   "metadata": {},
   "outputs": [],
   "source": [
    "data = data.groupby('maturity').head(20)"
   ]
  },
  {
   "cell_type": "code",
   "execution_count": 271,
   "metadata": {},
   "outputs": [
    {
     "data": {
      "text/plain": [
       "2021-03-26    20\n",
       "2021-05-21    20\n",
       "2021-04-16    20\n",
       "Name: maturity, dtype: int64"
      ]
     },
     "execution_count": 271,
     "metadata": {},
     "output_type": "execute_result"
    }
   ],
   "source": [
    "# Check\n",
    "data['maturity'].value_counts()"
   ]
  },
  {
   "cell_type": "markdown",
   "metadata": {},
   "source": [
    "Assuming European options:"
   ]
  },
  {
   "cell_type": "code",
   "execution_count": 272,
   "metadata": {},
   "outputs": [
    {
     "data": {
      "application/vnd.jupyter.widget-view+json": {
       "model_id": "cdb9416174404d9095e3d4a5e4558039",
       "version_major": 2,
       "version_minor": 0
      },
      "text/plain": [
       "HBox(children=(HTML(value=''), FloatProgress(value=0.0, max=60.0), HTML(value='')))"
      ]
     },
     "metadata": {},
     "output_type": "display_data"
    },
    {
     "name": "stdout",
     "output_type": "stream",
     "text": [
      "\n"
     ]
    }
   ],
   "source": [
    "data['binom_price_euro'] = data.progress_apply(lambda row: euro_vanilla_pricer(N=200, T=row['time_to_maturity'], S=row['Close'], K=row['strike'], r=0.07/100, sigma=row['vol_bisect'], option_type=row['type']),\n",
    "           axis=1)"
   ]
  },
  {
   "cell_type": "markdown",
   "metadata": {},
   "source": [
    "Assuming American options:"
   ]
  },
  {
   "cell_type": "code",
   "execution_count": 273,
   "metadata": {},
   "outputs": [
    {
     "data": {
      "application/vnd.jupyter.widget-view+json": {
       "model_id": "4faf1b16d8a3470b849cb45f56ae5c81",
       "version_major": 2,
       "version_minor": 0
      },
      "text/plain": [
       "HBox(children=(HTML(value=''), FloatProgress(value=0.0, max=60.0), HTML(value='')))"
      ]
     },
     "metadata": {},
     "output_type": "display_data"
    },
    {
     "name": "stdout",
     "output_type": "stream",
     "text": [
      "\n"
     ]
    }
   ],
   "source": [
    "data['binom_price_amer'] = data.progress_apply(lambda row: american_vanilla_pricer(N=200, T=row['time_to_maturity'], S=row['Close'], K=row['strike'], r=0.07/100, sigma=row['vol_bisect'], option_type=row['type']),\n",
    "           axis=1)"
   ]
  },
  {
   "cell_type": "markdown",
   "metadata": {},
   "source": [
    "Reminder: Black-Scholes values are denoted as `calculated_price`"
   ]
  },
  {
   "cell_type": "code",
   "execution_count": 317,
   "metadata": {},
   "outputs": [
    {
     "data": {
      "image/png": "[encoded data removed]",
      "text/plain": [
       "<Figure size 1080x720 with 6 Axes>"
      ]
     },
     "metadata": {
      "needs_background": "light"
     },
     "output_type": "display_data"
    }
   ],
   "source": [
    "fig, ax = plt.subplots(figsize=(15,10), nrows=3, ncols=2)\n",
    "data['strike'] = data['strike'].astype(int)\n",
    "for i, maturity in enumerate(data['maturity'].unique()):\n",
    "    aux_call = pd.melt(data[(data['maturity'] == maturity) & (data['type']=='call')],\n",
    "            id_vars=['strike'], value_vars=['binom_price_amer', 'binom_price_euro', 'calculated_price', 'bid', 'ask'])\n",
    "    aux_put = pd.melt(data[(data['maturity'] == maturity) & (data['type']=='put')],\n",
    "            id_vars=['strike'], value_vars=['binom_price_amer', 'binom_price_euro', 'calculated_price', 'bid', 'ask'])\n",
    "\n",
    "    # call options\n",
    "    g = sns.barplot(\n",
    "        data=aux_call, #kind=\"bar\",\n",
    "        x=\"strike\", y=\"value\", hue=\"variable\", \n",
    "        ax=ax[i,0]\n",
    "    )\n",
    "    ax[i,0].get_legend().remove()\n",
    "    ax[i,0].set_title(f\"Maturity = {maturity} (calls)\")\n",
    "    \n",
    "    # put options\n",
    "    h = sns.barplot(\n",
    "        data=aux_put, #kind=\"bar\",\n",
    "        x=\"strike\", y=\"value\", hue=\"variable\", \n",
    "        ax=ax[i,1]\n",
    "    )\n",
    "    if i == 0:\n",
    "        ax[i,1].legend(loc=\"upper left\", bbox_to_anchor=(1, 1))\n",
    "    else:\n",
    "        ax[i,1].get_legend().remove()\n",
    "        \n",
    "    ax[i,1].set_title(f\"Maturity = {maturity} (puts)\")\n",
    "\n",
    "plt.tight_layout()\n",
    "plt.show()"
   ]
  },
  {
   "cell_type": "markdown",
   "metadata": {},
   "source": [
    "## 1.c"
   ]
  },
  {
   "cell_type": "markdown",
   "metadata": {},
   "source": [
    "* Models tend to replicate well the observed prices, but sometimes lie outside the bid/ask spread.\n",
    "* No model tends to outperform the others, with all returning very similar prices.\n",
    "* For shorter options, value as a function of strike has greater variance than for longer options"
   ]
  },
  {
   "cell_type": "markdown",
   "metadata": {},
   "source": [
    "## d) Absolute errors"
   ]
  },
  {
   "cell_type": "code",
   "execution_count": 17,
   "metadata": {},
   "outputs": [],
   "source": [
    "def bsm_euro_pricer(T, S, K, r, sigma, option_type, div=0):\n",
    "    \n",
    "    \"\"\"\n",
    "    Returns Black-Scholes formula \n",
    "    \"\"\"\n",
    "    from scipy import stats\n",
    "\n",
    "    phi = 1 if option_type == \"call\" else -1\n",
    "    N = lambda x: stats.norm.cdf(x, loc=0.0, scale=1.0)\n",
    "    d1 = 1 if T == 0 else (np.log(S/K) + (r - div + sigma**2/2)*T)/(sigma*np.sqrt(T))\n",
    "    d2 = d1 - sigma*np.sqrt(T)\n",
    "    return phi*(S * np.exp(-div*T) * N(phi*d1) - K * np.exp(-r*T) * N(phi*d2))"
   ]
  },
  {
   "cell_type": "code",
   "execution_count": 18,
   "metadata": {},
   "outputs": [],
   "source": [
    "N_values = [10, 20, 30, 40, 50, 100, 150, 200, 250, 300, 350, 400]"
   ]
  },
  {
   "cell_type": "code",
   "execution_count": 19,
   "metadata": {},
   "outputs": [
    {
     "data": {
      "application/vnd.jupyter.widget-view+json": {
       "model_id": "fec643370e4c469583e7fe94945cdbb7",
       "version_major": 2,
       "version_minor": 0
      },
      "text/plain": [
       "HBox(children=(HTML(value=''), FloatProgress(value=0.0, max=12.0), HTML(value='')))"
      ]
     },
     "metadata": {},
     "output_type": "display_data"
    },
    {
     "name": "stdout",
     "output_type": "stream",
     "text": [
      "\n"
     ]
    }
   ],
   "source": [
    "error =  [np.abs(bsm_euro_pricer(T=1 , S=100, K=100, r=0.01, sigma=0.3, option_type='put') \n",
    "               - euro_vanilla_pricer(N=N, T=1 , S=100, K=100, r=0.01, sigma=0.3, option_type='put')\n",
    "               ) for N in tqdm(N_values)]"
   ]
  },
  {
   "cell_type": "code",
   "execution_count": 20,
   "metadata": {},
   "outputs": [
    {
     "data": {
      "image/png": "[encoded data removed]",
      "text/plain": [
       "<Figure size 432x288 with 1 Axes>"
      ]
     },
     "metadata": {
      "needs_background": "light"
     },
     "output_type": "display_data"
    },
    {
     "name": "stdout",
     "output_type": "stream",
     "text": [
      "We observe, as expected, convergence towards the correct (BSM) value as N grows\n"
     ]
    }
   ],
   "source": [
    "plt.plot(N_values, error, marker='o')\n",
    "plt.xlabel(\"N (binomial tree height)\")\n",
    "plt.ylabel(\"Absolute error in dollars\")\n",
    "plt.show()\n",
    "\n",
    "print(\"We observe, as expected, convergence towards the correct (BSM) value as N grows\")"
   ]
  },
  {
   "cell_type": "markdown",
   "metadata": {},
   "source": [
    "# Exotic options using trinomial trees"
   ]
  },
  {
   "cell_type": "markdown",
   "metadata": {},
   "source": [
    "## Trinomial tree for European up-or-out call option"
   ]
  },
  {
   "cell_type": "markdown",
   "metadata": {},
   "source": [
    "Some considerations (call Clewlow, Les & Crickland (1996) simply the book, and the barrior option pricing as simply the paper):\n",
    "* Firstly, the algorithm in the book works for American barrier options. This is made explicit when the early exercise feature is implemented in Algorithm 2.24 - thus, we need to remove it to make it European\n",
    "* Secondly, we need to adapt Algorithm 3.3 from a simple European call into the barrier option\n",
    "* Index ranges are from -N to N in Algo 3.3, for a total of 2N+1 indices. We will change this to adapt to Python logic into 0 to 2N by adding a constant of $N$ to every index iteration"
   ]
  },
  {
   "cell_type": "markdown",
   "metadata": {},
   "source": [
    "The function below is generalized for European calls/puts, and both up-and-out and up-and-in barriers:"
   ]
  },
  {
   "cell_type": "code",
   "execution_count": 62,
   "metadata": {},
   "outputs": [],
   "source": [
    "def euro_barrier_pricer_trinom(N, T, S, K, r, div, sigma, H, option_type, barrier_type):\n",
    "    \n",
    "    if barrier_type == 'uo':\n",
    "        condition = lambda s, h: s <= h\n",
    "    elif barrier_type == 'do':\n",
    "        condition = lambda s, h: s >= h\n",
    "        \n",
    "    if option_type == 'call':\n",
    "        payoff = lambda s, k: max(s-k, 0)\n",
    "    elif option_type == 'put':\n",
    "        payoff = lambda s, k: max(k-s, 0)\n",
    "    \n",
    "    # coefficients (from trinomal algo)\n",
    "    dt = T/N\n",
    "    nu = r - div - 0.5 * sigma**2\n",
    "    dx = sigma * np.sqrt(3* dt) # optimal value\n",
    "    edx = np.exp(dx)\n",
    "    disc = np.exp(-r * dt)\n",
    "    \n",
    "    # probabilities (from trinomial algo)\n",
    "    aux = (sigma**2 * dt + nu**2 * dt**2)/dx**2\n",
    "    pu = 0.5 * (aux+ nu * dt/dx)\n",
    "    pm = 1.0 - aux\n",
    "    pd = 0.5 * (aux - nu * dt/dx)\n",
    "    \n",
    "    # to be able to properly evolve spot values back in time,\n",
    "    ST = np.zeros(2*N+1)\n",
    "    ST[0] = S*np.exp(-N*dx)\n",
    "    \n",
    "    for j in range(1, 2*N+1):\n",
    "        ST[j] = ST[j-1]*edx\n",
    "\n",
    "    # here we use a full grid for C instead of a vector    \n",
    "    value = np.zeros((N+1, 2*N+1)) \n",
    "\n",
    "    for j in range(2*N+1):\n",
    "        value[N, j] = payoff(ST[j], K) * condition(ST[j], H) \n",
    "\n",
    "    for i in range(N-1, -1, -1):\n",
    "        for j in range(N-i, N+i+1):\n",
    "            \n",
    "            # since S(t)_j = S(t+delta t)_j, there is no need to bring S back in time\n",
    "            value[i,j] = disc * (pu * value[i+1, j+1] + pm * value[i+1, j] + pd * value[i+1, j-1]) *  condition(ST[j], H) \n",
    "\n",
    "    return value[0,N]\n",
    "    "
   ]
  },
  {
   "cell_type": "markdown",
   "metadata": {},
   "source": [
    "**Test**: a barrier option must be less expensive than its vanilla counterpart, and the prices should converge (in the case of an up-and-out call) as $H \\to \\infty$. We show the plot below explicitly:"
   ]
  },
  {
   "cell_type": "markdown",
   "metadata": {},
   "source": [
    "Using the values asked by the question statement:"
   ]
  },
  {
   "cell_type": "code",
   "execution_count": 51,
   "metadata": {},
   "outputs": [],
   "source": [
    "H_list = range(10, 40, 1)\n",
    "price_list = [euro_barrier_pricer_trinom(N=100, T=0.3, S=10, K=10, r=0.01, div=0.0, sigma=0.2, H=h,\n",
    "                                        option_type='call', barrier_type='uo') for h in H_list]"
   ]
  },
  {
   "cell_type": "code",
   "execution_count": 52,
   "metadata": {},
   "outputs": [
    {
     "data": {
      "image/png": "[encoded data removed]",
      "text/plain": [
       "<Figure size 432x288 with 1 Axes>"
      ]
     },
     "metadata": {
      "needs_background": "light"
     },
     "output_type": "display_data"
    }
   ],
   "source": [
    "plt.plot(H_list, price_list, label='Barrier option')\n",
    "plt.axhline(bsm_euro_pricer(T=0.3, S=10, K=10, r=0.01, sigma=0.2, option_type='call'), color='red', linestyle='--', label='BS vanilla call')\n",
    "plt.xlabel(\"Barrier value\")\n",
    "plt.ylabel(\"Price\")\n",
    "plt.legend()\n",
    "plt.show()"
   ]
  },
  {
   "cell_type": "markdown",
   "metadata": {},
   "source": [
    "For the desired value of $H=11$:"
   ]
  },
  {
   "cell_type": "code",
   "execution_count": 64,
   "metadata": {},
   "outputs": [
    {
     "name": "stdout",
     "output_type": "stream",
     "text": [
      "Price: 0.054\n"
     ]
    }
   ],
   "source": [
    "print(\"Price: %.3f\" % euro_barrier_pricer_trinom(N=1000, T=0.3, S=10, K=10, r=0.01, div=0.0, sigma=0.2, H=11,\n",
    "                                                 option_type='call', barrier_type='uo'))"
   ]
  },
  {
   "cell_type": "markdown",
   "metadata": {},
   "source": [
    "## b) Compare with theoretical result from Westermark's paper"
   ]
  },
  {
   "cell_type": "code",
   "execution_count": 58,
   "metadata": {},
   "outputs": [],
   "source": [
    "def bsm_barrier_call_uo(T, S, K, r, div, sigma, H):\n",
    "    from scipy import stats\n",
    "    \n",
    "    nu = r - div - 0.5*sigma**2  # d2 or d- in BSM\n",
    "    N = lambda x: stats.norm.cdf(x, loc=0.0, scale=1.0)\n",
    "    d = lambda s, k : (np.log(s/k) + nu*T)/(sigma*np.sqrt(T))\n",
    "    c = lambda s, k : bsm_euro_pricer(T=T, S=s, K=k, r=r, div=div, sigma=sigma, option_type='call')\n",
    "    \n",
    "    return (c(S,K) - c(S,H) - (H-K)*np.exp(-r*T) * N(d(S,H)) - \\\n",
    "            ((H/S)**(2*nu/sigma**2)) * (c(H**2/S, K) - c(H**2/S, H) - (H-K)*np.exp(-r*T)*N(d(H,S))))"
   ]
  },
  {
   "cell_type": "code",
   "execution_count": 65,
   "metadata": {},
   "outputs": [
    {
     "name": "stdout",
     "output_type": "stream",
     "text": [
      "Price: 0.053\n"
     ]
    }
   ],
   "source": [
    "print(\"Price: %.3f\" % bsm_barrier_call_uo(T=0.3 , S=10, K=10, r=0.01, div=0.0, sigma=0.2, H=11))"
   ]
  },
  {
   "cell_type": "markdown",
   "metadata": {},
   "source": [
    "Results are comparable!"
   ]
  },
  {
   "cell_type": "markdown",
   "metadata": {},
   "source": [
    "## c) European up-and-in call"
   ]
  },
  {
   "cell_type": "markdown",
   "metadata": {},
   "source": [
    "Using the analytical formula:"
   ]
  },
  {
   "cell_type": "code",
   "execution_count": 66,
   "metadata": {},
   "outputs": [],
   "source": [
    "def bsm_barrier_call_ui(T, S, K, r, div, sigma, H):\n",
    "    from scipy import stats\n",
    "    \n",
    "    nu = r - div - 0.5*sigma**2  # d2 or d- in BSM\n",
    "    N = lambda x: stats.norm.cdf(x, loc=0.0, scale=1.0)\n",
    "    d = lambda s, k : (np.log(s/k) + nu*T)/(sigma*np.sqrt(T))\n",
    "    p = lambda s, k : bsm_euro_pricer(T=T, S=s, K=k, r=r, div=div, sigma=sigma, option_type='put')\n",
    "    c = lambda s, k : bsm_euro_pricer(T=T, S=s, K=k, r=r, div=div, sigma=sigma, option_type='call')\n",
    "    \n",
    "    return (H/S)**(2*nu/sigma**2) * (p(H**2/S,K) - p(H**2/S,H) + (H-K)*np.exp(-r*T)*N(-d(H,S))) + \\\n",
    "            c(S,H) + (H-K)*np.exp(-r*T)*N(d(S,H))"
   ]
  },
  {
   "cell_type": "code",
   "execution_count": 67,
   "metadata": {},
   "outputs": [
    {
     "name": "stdout",
     "output_type": "stream",
     "text": [
      "Price: 0.398\n"
     ]
    }
   ],
   "source": [
    "print(\"Price: %.3f\" % bsm_barrier_call_ui(T=0.3 , S=10, K=10, r=0.01, div=0.0, sigma=0.2, H=11))"
   ]
  },
  {
   "cell_type": "markdown",
   "metadata": {},
   "source": [
    "Using in-out parity:"
   ]
  },
  {
   "cell_type": "code",
   "execution_count": 70,
   "metadata": {},
   "outputs": [
    {
     "name": "stdout",
     "output_type": "stream",
     "text": [
      "Price: 0.398\n"
     ]
    }
   ],
   "source": [
    "print(\"Price: %.3f\" % (-bsm_barrier_call_uo(T=0.3 , S=10, K=10, r=0.01, div=0.0, sigma=0.2, H=11) + \\\n",
    "      bsm_euro_pricer(T=0.3 , S=10, K=10, r=0.01, div=0.0, sigma=0.2, option_type='call') ))"
   ]
  },
  {
   "cell_type": "markdown",
   "metadata": {},
   "source": [
    "Again, perfect fit."
   ]
  },
  {
   "cell_type": "markdown",
   "metadata": {},
   "source": [
    "## d) American up-and-in put"
   ]
  },
  {
   "cell_type": "markdown",
   "metadata": {},
   "source": [
    "For an European up-and-in put we could use the in-out parity as before.\n",
    "However, for American options this is a highly non-trivial (non-Markovian) problem depending on the full trajectory of the underlying. Even with a Monte-Carlo approach we would have to use a criterion for early exercise."
   ]
  },
  {
   "cell_type": "markdown",
   "metadata": {},
   "source": [
    "# Effects of dividends"
   ]
  },
  {
   "cell_type": "markdown",
   "metadata": {},
   "source": [
    "## a) Continuous dividends"
   ]
  },
  {
   "cell_type": "markdown",
   "metadata": {},
   "source": [
    "We first need to create binomial tree with parameters consistent with the required ones. To avoid using $\\sigma$ information, we just go with a multiplicative tree."
   ]
  },
  {
   "cell_type": "markdown",
   "metadata": {},
   "source": [
    ">Instead of returning the price, we return the stopping point"
   ]
  },
  {
   "cell_type": "code",
   "execution_count": 139,
   "metadata": {},
   "outputs": [],
   "source": [
    "def binomial_american_continuous_dividend_exercise_time(N, T, S, K, r, div, option_type, u, d):\n",
    "    \n",
    "    def payoff(s):\n",
    "        if option_type == 'call':\n",
    "            return max(s-K, 0)\n",
    "        else:\n",
    "            return max(K-s, 0)\n",
    "\n",
    "    # one-period discount factor and other constants\n",
    "    dt = T/N\n",
    "    p = (np.exp((r-div) * dt) - d)/(u-d)\n",
    "    disc = np.exp(- r * dt)\n",
    "\n",
    "    # initialize asset price at maturity, starting with the bottom one\n",
    "    # we will use the convention that 0 denotes the lowest value\n",
    "    ST = np.zeros(N+1)\n",
    "    ST[0] = S * d**N\n",
    "    for i in range(1, N+1, 1):\n",
    "        ST[i] = ST[i-1]*(u/d)\n",
    "    \n",
    "    value = np.zeros(N+1)\n",
    "    for j in range(N+1):\n",
    "        value[j] = payoff(ST[j])\n",
    "    \n",
    "    # now we just propagate back\n",
    "    exercise_time = N\n",
    "    for i in range(N-1, -1, -1):\n",
    "        for j in range(i+1):\n",
    "            \n",
    "            value_candidate = p * value[j] + (1-p) * value[j+1]\n",
    "            \n",
    "            # however, there might be early exercise\n",
    "            ST[j] = ST[j]/d\n",
    "            early_exercise_value = payoff(ST[j])\n",
    "            \n",
    "            if value_candidate >= early_exercise_value:\n",
    "                # no early exercise\n",
    "                value[j] = value_candidate\n",
    "            else:\n",
    "                value[j] = early_exercise_value\n",
    "                exercise_time = i\n",
    "\n",
    "    return exercise_time"
   ]
  },
  {
   "cell_type": "markdown",
   "metadata": {},
   "source": [
    "**Test**: for zero dividend we know that early exercise is worthless:"
   ]
  },
  {
   "cell_type": "code",
   "execution_count": 179,
   "metadata": {},
   "outputs": [
    {
     "data": {
      "image/png": "[encoded data removed]",
      "text/plain": [
       "<Figure size 1080x216 with 1 Axes>"
      ]
     },
     "metadata": {
      "needs_background": "light"
     },
     "output_type": "display_data"
    }
   ],
   "source": [
    "K_list = range(1, 100)\n",
    "stop_times = [binomial_american_continuous_dividend_exercise_time(N=2, T=0.5, S=40, K=k, r=0.04, div=0.0, option_type='call', u=1.2, d=0.9)\n",
    "              for k in K_list]\n",
    "fig, ax = plt.subplots(figsize=(15,3))\n",
    "ax.plot(K_list, stop_times, marker='o')\n",
    "ax.set_xlabel(\"Strikes\")\n",
    "ax.set_ylabel(\"Exercise time\")\n",
    "plt.show()"
   ]
  },
  {
   "cell_type": "markdown",
   "metadata": {},
   "source": [
    "As we see $T=2$ always (which is expiry in a 2-period tree)"
   ]
  },
  {
   "cell_type": "markdown",
   "metadata": {},
   "source": [
    "Testing now for the specified parameters:"
   ]
  },
  {
   "cell_type": "code",
   "execution_count": 180,
   "metadata": {},
   "outputs": [
    {
     "data": {
      "image/png": "[encoded data removed]",
      "text/plain": [
       "<Figure size 1080x216 with 1 Axes>"
      ]
     },
     "metadata": {
      "needs_background": "light"
     },
     "output_type": "display_data"
    }
   ],
   "source": [
    "K_list = range(1, 100)\n",
    "stop_times = [binomial_american_continuous_dividend_exercise_time(N=2, T=0.5, S=40, K=k, r=0.04, div=0.02, option_type='call', u=1.2, d=0.9)\n",
    "              for k in K_list]\n",
    "fig, ax = plt.subplots(figsize=(15,3))\n",
    "ax.plot(K_list, stop_times, marker='o')\n",
    "ax.set_xlabel(\"Strikes\")\n",
    "ax.set_ylabel(\"Exercise time\")\n",
    "plt.show()"
   ]
  },
  {
   "cell_type": "markdown",
   "metadata": {},
   "source": [
    "Still same result"
   ]
  },
  {
   "cell_type": "markdown",
   "metadata": {},
   "source": [
    "## b) Discrete dividends at 3 months"
   ]
  },
  {
   "cell_type": "markdown",
   "metadata": {},
   "source": [
    "We follow the presentation in Section 2.7 of the book.\n",
    "To make matters simpler, we pre-compute all spot values"
   ]
  },
  {
   "cell_type": "code",
   "execution_count": 182,
   "metadata": {},
   "outputs": [],
   "source": [
    "def binomial_american_proportional_dividend_exercise_time(N, T, S, K, r, prop_div, div_day, option_type, u, d):\n",
    "    \n",
    "    # div day must be an integer\n",
    "    \n",
    "    def payoff(s):\n",
    "        if option_type == 'call':\n",
    "            return max(s-K, 0)\n",
    "        else:\n",
    "            return max(K-s, 0)\n",
    "\n",
    "    # one-period discount factor and other constants\n",
    "    dt = T/N\n",
    "    p = (np.exp(r * dt) - d)/(u-d)\n",
    "    disc = np.exp(- r * dt)\n",
    "\n",
    "    # evolve S considering the drop in price after dividends\n",
    "    ST = np.zeros((N+1, N+1))\n",
    "    for i in range(0, N+1):\n",
    "        for j in range(i+1): \n",
    "            # for all dates equal or later than ex-dividend date, decrease by 1-div\n",
    "            div_factor = 1 if i < div_day else (1-prop_div)\n",
    "            ST[i, j] = div_factor * S * (u**(i-j)) * (d**j)\n",
    "    \n",
    "    # initialize values for the option\n",
    "    value = np.zeros(N+1)\n",
    "    for j in range(N+1):\n",
    "        value[j] = payoff(ST[N, j])\n",
    "    \n",
    "    # now we just propagate back\n",
    "    exercise_time = N\n",
    "    for i in range(N-1, -1, -1):\n",
    "        for j in range(i+1):\n",
    "            \n",
    "            value_candidate = p * value[j] + (1-p) * value[j+1]\n",
    "            \n",
    "            # however, there might be early exercise\n",
    "            early_exercise_value = payoff(ST[i,j])\n",
    "            \n",
    "            if value_candidate >= early_exercise_value:\n",
    "                # no early exercise\n",
    "                value[j] = value_candidate\n",
    "            else:\n",
    "                value[j] = early_exercise_value\n",
    "                exercise_time = i\n",
    "\n",
    "    return exercise_time"
   ]
  },
  {
   "cell_type": "code",
   "execution_count": 184,
   "metadata": {},
   "outputs": [
    {
     "data": {
      "image/png": "[encoded data removed]",
      "text/plain": [
       "<Figure size 1080x216 with 1 Axes>"
      ]
     },
     "metadata": {
      "needs_background": "light"
     },
     "output_type": "display_data"
    }
   ],
   "source": [
    "K_list = range(1, 100)\n",
    "stop_times = [binomial_american_proportional_dividend_exercise_time(N=2, T=0.5, S=40, K=k, r=0.04, prop_div=0.03, div_day=1, option_type='call', u=1.2, d=0.9)\n",
    "              for k in K_list]\n",
    "fig, ax = plt.subplots(figsize=(15,3))\n",
    "ax.plot(K_list, stop_times, marker='o')\n",
    "ax.set_xlabel(\"Strikes\")\n",
    "ax.set_ylabel(\"Exercise time\")\n",
    "plt.show()"
   ]
  },
  {
   "cell_type": "markdown",
   "metadata": {},
   "source": [
    "We now see a new pattern - for sufficiently low strike prices (that is, when we are deep ITM) it is more worthy to exercise early"
   ]
  },
  {
   "cell_type": "markdown",
   "metadata": {},
   "source": [
    "# Extra problem 2"
   ]
  },
  {
   "cell_type": "markdown",
   "metadata": {},
   "source": [
    "First, we realize that in our constant-variance case, $P_{xy}(1)$ is fixed and will only depend on the points. Let $x = (x_i, x_j)$ and $y = (y_i, y_j)$. Then\n",
    "\n",
    "$$P_{xy}(1) = \\begin{cases}\n",
    "p_u &\\text{if}& x_i = y_i -1  &\\text{and}& x_j = y_j - 1\\\\\n",
    "p_m &\\text{if}& x_i = y_i -1  &\\text{and}& x_j = y_j    \\\\\n",
    "p_d &\\text{if}& x_i = y_i -1  &\\text{and}& x_j = y_j +1  \\\\\n",
    "0 &\\text{otherwise}\n",
    "\\end{cases}$$"
   ]
  },
  {
   "cell_type": "markdown",
   "metadata": {},
   "source": [
    "Let us denote these probabilities then as $P((i,j) \\to (i+1, j'))$ where this number is not zero only for $j' \\in \\{j-1, j, j+1\\}$."
   ]
  },
  {
   "cell_type": "markdown",
   "metadata": {},
   "source": [
    "The code in equations (15) and (16) can be greatly simplified in our case since we choose $\\ell = 1$, because then no iteration over $j$ is needed. Let \n",
    "\n",
    "$$X[i,j] \\equiv \\log S_{ij}$$\n",
    "\n",
    "Because we want a Varswap (with log returns), we choose $g_{log}$ as described in the text, for which (writing all functions as functions of $X[i,j]$):\n",
    "\n",
    "$$\\begin{align*}\n",
    "h_1[i,j] &= 1\\\\\n",
    "h_2[i,j] &= -2 X[i,j]\\\\\n",
    "h_3[i,j] &= f_1[i,j] = X[i,j]^2\\\\\n",
    "f_2[i,j] &= X[i,j]\\\\\n",
    "f_3[i,j] &= 0\n",
    "\\end{align*}$$\n",
    "\n",
    "With this in mind, we can translate the algorithm as: for $i$ in $\\{n-1, n-2, \\ldots, 0\\}$ do:\n",
    "\n",
    "$$\\begin{align*}\n",
    "A[i,j] &\\leftarrow \\sum_{j' \\in \\{j-1, j, j+1\\}} P((i,j) \\to (i+1, j')) h_1[i+1, j']\\\\\n",
    "B[i,j] &\\leftarrow \\sum_{j' \\in \\{j-1, j, j+1\\}} P((i,j) \\to (i+1, j')) h_2[i+1, j']\\\\\n",
    "C[i,j] &\\leftarrow \\sum_{j' \\in \\{j-1, j, j+1\\}} P((i,j) \\to (i+1, j')) (h_3[i+1, j'] + V[i+1, j'])\\\\\n",
    "V[i,j] &\\leftarrow A[i,j]f_1[i,j] + B[i,j] f_2[i,j] + C[i,j] + f_4[i,j]\n",
    "\\end{align*}$$\n",
    "\n"
   ]
  },
  {
   "cell_type": "markdown",
   "metadata": {},
   "source": [
    "Because in our case $h_1 \\equiv 1$, notice that all $A[i,j]$'s are identically equal to $p_u+p_m+p_d = 1$, which simplifies calculation a bit."
   ]
  },
  {
   "cell_type": "markdown",
   "metadata": {},
   "source": [
    "**OBS**: we will assume a notional of 1 and that we can calculate the value of the Varswap as \n",
    "\n",
    "$$\\mathrm{value} = \\frac{10000}{N_{days}} V_{0,0} - K;$$\n",
    "\n",
    "if this is not the case please evaluate on the value of $V_{0,0}$ alone."
   ]
  },
  {
   "cell_type": "code",
   "execution_count": 199,
   "metadata": {},
   "outputs": [],
   "source": [
    "def varswap_pricer_trinom(N, T, S, r, div, sigma, K):\n",
    "    \n",
    "    # coefficients (from trinomal algo)\n",
    "    dt = T/N\n",
    "    nu = r - div - 0.5 * sigma**2\n",
    "    dx = sigma * np.sqrt(3* dt) # optimal value\n",
    "    edx = np.exp(dx)\n",
    "    disc = np.exp(-r * dt)\n",
    "    \n",
    "    # probabilities (from trinomial algo)\n",
    "    aux = (sigma**2 * dt + nu**2 * dt**2)/dx**2\n",
    "    p_u = 0.5 * (aux+ nu * dt/dx)\n",
    "    p_m = 1.0 - aux\n",
    "    p_d = 0.5 * (aux - nu * dt/dx)\n",
    "    \n",
    "    X = np.zeros(2*N+1)\n",
    "    X[0] = np.log(S) - N*dx\n",
    "    \n",
    "    for j in range(1, 2*N+1):\n",
    "        X[j] = X[j-1] + dx\n",
    "\n",
    "    # initialize matrices A=1, B, C, V\n",
    "    B, C, V = np.zeros((N+1, 2*N+1)) , np.zeros((N+1, 2*N+1)) , np.zeros((N+1, 2*N+1)) \n",
    "\n",
    "    for i in range(N-1, -1, -1):\n",
    "        for j in range(N-i, N+i+1):\n",
    "            \n",
    "            # since X(t)_j = X(t+delta t)_j, there is no need to bring S back in time\n",
    "            B[i,j] = p_u * (-2 * X[j+1])            + p_m * (-2 * X[j])          + p_d * (-2 * X[j-1])\n",
    "            C[i,j] = p_u * (X[j+1]**2 + V[i+1,j+1]) + p_m * (X[j]**2 + V[i+1,j]) + p_d * (X[j-1]**2 + V[i+1,j-1])\n",
    "            V[i,j] = X[j]**2 + B[i,j] * X[j] + C[i,j]\n",
    "            \n",
    "    fair_strike = (100**2)*V[0,N]/N\n",
    "    return V[0,N], fair_strike- K"
   ]
  },
  {
   "cell_type": "code",
   "execution_count": 200,
   "metadata": {},
   "outputs": [],
   "source": [
    "v0, value = varswap_pricer_trinom(N=60, T=0.3, S=10, r=0.01, div=0, sigma=0.2, K=10)"
   ]
  },
  {
   "cell_type": "code",
   "execution_count": 201,
   "metadata": {},
   "outputs": [
    {
     "name": "stdout",
     "output_type": "stream",
     "text": [
      "V[0,0] = 0.0120\n"
     ]
    }
   ],
   "source": [
    "print(\"V[0,0] = %.4f\" % v0)"
   ]
  },
  {
   "cell_type": "code",
   "execution_count": 202,
   "metadata": {},
   "outputs": [
    {
     "name": "stdout",
     "output_type": "stream",
     "text": [
      "Value = -8.00\n"
     ]
    }
   ],
   "source": [
    "print(\"Value = %.2f\" % value)"
   ]
  }
 ],
 "metadata": {
  "kernelspec": {
   "display_name": "Python 3",
   "language": "python",
   "name": "python3"
  },
  "language_info": {
   "codemirror_mode": {
    "name": "ipython",
    "version": 3
   },
   "file_extension": ".py",
   "mimetype": "text/x-python",
   "name": "python",
   "nbconvert_exporter": "python",
   "pygments_lexer": "ipython3",
   "version": "3.7.9"
  },
  "toc": {
   "base_numbering": 1,
   "nav_menu": {},
   "number_sections": true,
   "sideBar": true,
   "skip_h1_title": false,
   "title_cell": "Table of Contents",
   "title_sidebar": "Contents",
   "toc_cell": false,
   "toc_position": {},
   "toc_section_display": true,
   "toc_window_display": false
  }
 },
 "nbformat": 4,
 "nbformat_minor": 4
}
