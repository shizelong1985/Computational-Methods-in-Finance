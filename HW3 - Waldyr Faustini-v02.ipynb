{
 "cells": [
  {
   "cell_type": "markdown",
   "metadata": {},
   "source": [
    "# Problem 1"
   ]
  },
  {
   "cell_type": "markdown",
   "metadata": {},
   "source": [
    "## (a) Finite difference for European options (explicit)"
   ]
  },
  {
   "cell_type": "markdown",
   "metadata": {},
   "source": [
    "We start with the Black-Scholes PDE for an European call, $C(S, t)$:\n",
    "\n",
    "$$\\frac{\\partial C}{\\partial t} + r S \\frac{\\partial C}{\\partial S} + \\frac{\\sigma^2 S^2}{2} \\frac{\\partial^2 C}{\\partial S^2} - r C = 0$$"
   ]
  },
  {
   "cell_type": "markdown",
   "metadata": {},
   "source": [
    "We follow Section 3.4 of the textbook. First we set $x = \\log S$ so that we can remove the non-linearities, since eg.\n",
    "\n",
    "$$S \\frac{\\partial C}{\\partial S} = \\frac{\\partial C}{\\partial x}.$$"
   ]
  },
  {
   "cell_type": "markdown",
   "metadata": {},
   "source": [
    "The equation now becomes\n",
    "$$\\frac{\\partial C}{\\partial t} + \\nu \\frac{\\partial C}{\\partial x} + \\frac{\\sigma^2}{2} \\frac{\\partial^2 C}{\\partial x^2} - r C = 0$$"
   ]
  },
  {
   "cell_type": "markdown",
   "metadata": {},
   "source": [
    "where $\\nu = r - \\sigma^2/2$ (including a $-\\delta$ term in case ov dividends)."
   ]
  },
  {
   "cell_type": "markdown",
   "metadata": {},
   "source": [
    "For a call option, the \"theoretical\" boundary conditions are as follows:\n",
    "* $C(S, t=T) = (S-K)^+$ for all $S \\in [0, \\infty[$\n",
    "* $C(S=0, t) = 0$ for all $t \\in [0,T]$ (option completly OTM)\n",
    "* $C(S \\to \\infty, t) \\to S$ for all $t \\in [0,T]$ (option is as worthy as the asset itself)\n",
    "\n",
    "whereas for a put one has formally the same equation, but\n",
    "\n",
    "* $P(S, t=T) = (K-S)^+$ for all $S \\in [0, \\infty[$\n",
    "* $P(S=0, t) = S$ for all $t \\in [0,T]$ (option is as worthy as the asset itself)\n",
    "* $P(S \\to \\infty, t) \\to 0$ for all $t \\in [0,T]$ (option completly OTM)\n",
    "\n"
   ]
  },
  {
   "cell_type": "markdown",
   "metadata": {},
   "source": [
    "\n",
    "The disadvantage of going to log space is that we need to define a second finite-difference step $\\Delta x$ (if we had stayed with $S$, these would have cancelled out). **We choose**\n",
    "\n",
    "$$\\Delta x = \\alpha \\sigma \\sqrt{3 \\Delta t}$$\n",
    "\n",
    "for $\\alpha \\geq 1$, in order to ensure convergence and stability.\n",
    "\n",
    "Since we want to go back in time (as we know the final conditions but not the initial ones) we discretize $C = C(t=i\\Delta t, x=j\\Delta x)$ and write $C_{i,j}$ as a function of $C_{i+1,*}$. To avoid having to consider more than one time step, we discretize the time derivative with a forward difference; for $x$ derivatives we use centered differences. We then have"
   ]
  },
  {
   "cell_type": "markdown",
   "metadata": {},
   "source": [
    "$$\\begin{align*}\n",
    "\\frac{\\partial C}{\\partial t}(i\\Delta t, j\\Delta x) &\\approx \\frac{C_{i+1,j} - C_{i,j}}{\\Delta t }\\\\\n",
    "\\frac{\\partial C}{\\partial S}(i\\Delta t, j\\Delta x) &\\approx \\frac{C_{i+1,j+1} - C_{i+1,j-1}}{2\\Delta x}\\\\\n",
    "\\frac{\\partial^2 C}{\\partial S^2}(i\\Delta t, j\\Delta x) &\\approx \\frac{C_{i+1,j+1} -2 C_{i+1,j} + C_{i+1,j-1}}{(\\Delta x)^2}\n",
    "\\end{align*}$$"
   ]
  },
  {
   "cell_type": "markdown",
   "metadata": {},
   "source": [
    "$$- \\frac{C_{i+1,j} - C_{i,j}}{\\Delta } = r C_{i+1, j} + \\nu  \\left( \\frac{C_{i+1,j+1} - C_{i+1,j-1}}{2\\Delta x} \\right) + \\frac{\\sigma^2}{2} \\left(\\frac{C_{i+1,j+1} -2 C_{i+1,j} + C_{i+1,j-1}}{(\\Delta x)^2} \\right)\\quad(1)$$"
   ]
  },
  {
   "cell_type": "markdown",
   "metadata": {},
   "source": [
    "*Explicitly* writing $C_{i,j}$ as a function of the other terms yields:"
   ]
  },
  {
   "cell_type": "markdown",
   "metadata": {},
   "source": [
    "$$C_{i,j} = p_u C_{i+1, j+1} + p_m C_{i+1, j} + p_d C_{i+1, j-1}$$\n",
    "with \n",
    "$$\\begin{align*}\n",
    "p_u &= \\Delta t \\left( \\frac{\\sigma^2}{2\\Delta x^2} + \\frac{\\nu}{2\\Delta x}\\right)\\\\\n",
    "p_m &= 1 -  \\Delta t \\frac{\\sigma^2}{\\Delta x^2} -r\\Delta t\\\\\n",
    "p_d &= \\Delta t \\left( \\frac{\\sigma^2}{2\\Delta x^2} - \\frac{\\nu}{2\\Delta x}\\right)\n",
    "\\end{align*}$$"
   ]
  },
  {
   "cell_type": "code",
   "execution_count": 3,
   "metadata": {},
   "outputs": [],
   "source": [
    "import numpy as np\n",
    "import pandas as pd\n",
    "import matplotlib.pyplot as plt"
   ]
  },
  {
   "cell_type": "code",
   "execution_count": 4,
   "metadata": {},
   "outputs": [],
   "source": [
    "def explicit_fd_euro(T, K, S0, r, div, sigma, N_timesteps, N_xsteps, option_type):\n",
    "    \n",
    "    def payoff(s, K):\n",
    "        if option_type == 'call':\n",
    "            return max(s-K, 0)\n",
    "        elif option_type == 'put':\n",
    "            return max(K-s, 0)\n",
    "        else:\n",
    "            raise Exception(\"Bad option type\")\n",
    "            \n",
    "    # constants\n",
    "    dt = T/N_timesteps\n",
    "    dx = 1.5 * sigma * np.sqrt(3*dt)\n",
    "    nu = r - div - sigma**2/2\n",
    "    edx = np.exp(dx)\n",
    "    pu = dt * (sigma**2/(2*dx**2) + nu/(2*dx))\n",
    "    pm = 1 - dt * sigma**2/(dx**2) - r*dt\n",
    "    pd = dt * (sigma**2/(2*dx**2) - nu/(2*dx))\n",
    "    \n",
    "    # as we did in the trinomial tree, first build all spot values \n",
    "    # since this is a grid, we have no need to evolve them backwards\n",
    "    St = np.zeros(2*N_xsteps + 1)\n",
    "    St[0] = S0*np.exp(-N_xsteps*dx)\n",
    "    for j in range(1,2*N_xsteps+1):\n",
    "        St[j] = St[j-1]*edx\n",
    "    \n",
    "    # boundary values for the option: payoff\n",
    "    C = np.zeros((N_timesteps+1, 2*N_xsteps+1))\n",
    "    for j in range(2*N_xsteps+1):\n",
    "        C[N_timesteps, j] = payoff(St[j], K)\n",
    "        \n",
    "    # propagate back\n",
    "    for i in range(N_timesteps-1, -1, -1):\n",
    "        \n",
    "        # finite difference evolution\n",
    "        for j in range(1, 2*N_xsteps):\n",
    "            C[i,j] = pu*C[i+1,j+1] + pm*C[i+1,j] + pd*C[i+1,j-1]\n",
    "        \n",
    "        # boundary conditions\n",
    "        if option_type == 'call':\n",
    "            C[i, 0] = C[i, 1]\n",
    "            C[i, 2*N_xsteps] = C[i, 2*N_xsteps-1] + (St[2*N_xsteps] - St[2*N_xsteps-1])\n",
    "        else:\n",
    "            C[i, 0] = C[i, 1] + (St[1] - St[0])\n",
    "            C[i, 2*N_xsteps] = C[i, 2*N_xsteps-1] \n",
    "            \n",
    "            \n",
    "    return C[0,N_xsteps]"
   ]
  },
  {
   "cell_type": "markdown",
   "metadata": {},
   "source": [
    "**Test**: put-call parity"
   ]
  },
  {
   "cell_type": "markdown",
   "metadata": {},
   "source": [
    "$C(t) - P(T)$:"
   ]
  },
  {
   "cell_type": "code",
   "execution_count": 5,
   "metadata": {},
   "outputs": [
    {
     "name": "stdout",
     "output_type": "stream",
     "text": [
      "Call: 10.96\n"
     ]
    }
   ],
   "source": [
    "call_price = explicit_fd_euro(T=1.0, K=100, S0=100, r=0.06, div=0, sigma=0.2, N_timesteps=200, N_xsteps=100, option_type=\"call\")\n",
    "print(\"Call: %.2f\" % call_price)"
   ]
  },
  {
   "cell_type": "code",
   "execution_count": 6,
   "metadata": {},
   "outputs": [
    {
     "name": "stdout",
     "output_type": "stream",
     "text": [
      "Put: 5.14\n"
     ]
    }
   ],
   "source": [
    "put_price = explicit_fd_euro(T=1.0, K=100, S0=100, r=0.06, div=0, sigma=0.2, N_timesteps=200, N_xsteps=100, option_type=\"put\")\n",
    "print(\"Put: %.2f\" % put_price)"
   ]
  },
  {
   "cell_type": "code",
   "execution_count": 7,
   "metadata": {},
   "outputs": [
    {
     "name": "stdout",
     "output_type": "stream",
     "text": [
      "C-P: 5.83\n"
     ]
    }
   ],
   "source": [
    "print(\"C-P: %.2f\" % (call_price - put_price))"
   ]
  },
  {
   "cell_type": "markdown",
   "metadata": {},
   "source": [
    "$S_0  - K e^{-r(T-t)}$:"
   ]
  },
  {
   "cell_type": "code",
   "execution_count": 8,
   "metadata": {},
   "outputs": [
    {
     "name": "stdout",
     "output_type": "stream",
     "text": [
      "S(t)-K_disc: 5.82\n"
     ]
    }
   ],
   "source": [
    "print(\"S(t)-K_disc: %.2f\" % (100 - np.exp(-0.06*(1.0))*100))"
   ]
  },
  {
   "cell_type": "markdown",
   "metadata": {},
   "source": [
    "It works."
   ]
  },
  {
   "cell_type": "markdown",
   "metadata": {},
   "source": [
    "## (b) Finite differences for European options (implicit)"
   ]
  },
  {
   "cell_type": "markdown",
   "metadata": {},
   "source": [
    "In this context, we change the time of the RHS of equation $(1)$ from $i+1$ to $i$:"
   ]
  },
  {
   "cell_type": "markdown",
   "metadata": {},
   "source": [
    "$$- \\frac{C_{i+1,j} - C_{i,j}}{\\Delta t} = r C_{i+1, j} + \\nu  \\left( \\frac{C_{i,j+1} - C_{i,j-1}}{2\\Delta x} \\right) + \\frac{\\sigma^2}{2} \\left(\\frac{C_{i,j+1} -2 C_{i,j} + C_{i,j-1}}{(\\Delta x)^2} \\right)\\quad(1)$$"
   ]
  },
  {
   "cell_type": "markdown",
   "metadata": {},
   "source": [
    "We now need to solve the *implicit* system of equations:"
   ]
  },
  {
   "cell_type": "markdown",
   "metadata": {},
   "source": [
    "$$p_u C_{i,j+1} + p_m C_{i, j} + p_d C_{i, j-1} = C_{i+1, j}$$\n",
    "with \n",
    "$$\\begin{align*}\n",
    "p_u &= - \\frac 12 \\Delta t \\left( \\frac{\\sigma^2}{\\Delta x^2} + \\frac{\\nu}{\\Delta x}\\right)\\\\\n",
    "p_m &= 1 +  \\Delta t \\frac{\\sigma^2}{\\Delta x^2} + r\\Delta t\\\\\n",
    "p_d &= - \\frac 12 \\Delta t \\left( \\frac{\\sigma^2}{\\Delta x^2} - \\frac{\\nu}{\\Delta x}\\right)\n",
    "\\end{align*}$$"
   ]
  },
  {
   "cell_type": "markdown",
   "metadata": {},
   "source": [
    "The system is tridiagonal. In Python, we use the `scipy.linalg.solve_banded` function, which requires us to translate the tridiagonal matrix $A$ in $Ax = b$ into a matrix containing only the tridiagonal elements (see documentation here: https://docs.scipy.org/doc/scipy/reference/generated/scipy.linalg.solve_banded.html#scipy.linalg.solve_banded)"
   ]
  },
  {
   "cell_type": "markdown",
   "metadata": {},
   "source": [
    "$$A \\equiv \\begin{pmatrix}\n",
    "1      & -1     & 0      & \\cdots & \\cdots & \\cdots & 0\\\\\n",
    "p_u    & p_m    & p_d    & 0      & \\cdots & \\cdots & 0\\\\\n",
    "0      & p_u    & p_m    & p_d    & 0      & \\cdots & 0\\\\\n",
    "\\cdots & \\cdots & \\cdots & \\cdots & \\cdots & \\cdots & \\cdots\\\\\n",
    "0      & \\cdots & \\cdots & 0      & p_u    & p_m    & p_d \\\\\n",
    "0      & \\cdots & \\cdots & \\cdots & 0      & 1      & -1\n",
    "\\end{pmatrix}\n",
    "\\rightarrow\n",
    "band = \\begin{pmatrix}\n",
    "*   & -1  & p_d & p_d & \\cdots & p_d & p_d & p_d \\\\\n",
    "1   & p_m & p_m & p_m & \\cdots & p_m & p_m & -1  \\\\\n",
    "p_u & p_u & p_u & p_u & \\cdots & p_u & 1   & * \n",
    "\\end{pmatrix}$$"
   ]
  },
  {
   "cell_type": "markdown",
   "metadata": {},
   "source": [
    "The system we want to solve is:\n",
    "$$A \\cdot C[i, j \\in 0:2 N + 1] = [\\lambda_U, C[i+1, j \\in 1:2N], \\lambda_L]^T$$"
   ]
  },
  {
   "cell_type": "markdown",
   "metadata": {},
   "source": [
    "where $C[i, j \\in 0:2 N + 1]$ is the \"$C_i$\" full vector with $2N+1$ entries, whereas the RHS is its $2N-1$ central components augmented with boundary condition terms."
   ]
  },
  {
   "cell_type": "code",
   "execution_count": 55,
   "metadata": {},
   "outputs": [],
   "source": [
    "def solve_tridiagonal(lambda_u, lambda_l, C, pu, pm, pd):\n",
    "    from scipy.linalg import solve_banded\n",
    "    \"\"\"\n",
    "    Receives a vector C with 2N+1 components, substitutes the edge points\n",
    "    with the correct boundary conditions, and returns another 2N+1-long \n",
    "    vector C' solving the equation AC' = C.\n",
    "    \"\"\"\n",
    "    length = len(C)\n",
    "    assert length > 3, \"Vector is not long enough\"\n",
    "    # build matrix band \n",
    "    first_row = [0, -1] + [pd]*(length-2)\n",
    "    second_row = [1] + [pm]*(length-2) + [-1]\n",
    "    third_row = [pu]*(length-2)+[1,0]\n",
    "    \n",
    "    band = np.array([first_row,\n",
    "                     second_row,\n",
    "                     third_row])\n",
    "    \n",
    "    C = C.copy()\n",
    "    C[0], C[-1] = lambda_u, lambda_l\n",
    "    \n",
    "    return solve_banded((1,1), band, C)"
   ]
  },
  {
   "cell_type": "markdown",
   "metadata": {},
   "source": [
    "### Testing our solver"
   ]
  },
  {
   "cell_type": "code",
   "execution_count": 56,
   "metadata": {},
   "outputs": [],
   "source": [
    "pu=0.3; pm=0.5; pd=0.2"
   ]
  },
  {
   "cell_type": "code",
   "execution_count": 57,
   "metadata": {},
   "outputs": [],
   "source": [
    "x = solve_tridiagonal(20, 15, np.array([1,2,3,4]), pu=0.3, pm=0.5, pd=0.2)"
   ]
  },
  {
   "cell_type": "code",
   "execution_count": 58,
   "metadata": {},
   "outputs": [],
   "source": [
    "from scipy import linalg\n",
    "y = linalg.solve(np.array([[1,-1,0,0],[pu, pm, pd, 0],[0, pu, pm, pd],[0, 0, 1,-1]]), np.array([20, 2, 3,15]))"
   ]
  },
  {
   "cell_type": "code",
   "execution_count": 59,
   "metadata": {},
   "outputs": [
    {
     "data": {
      "text/plain": [
       "True"
      ]
     },
     "execution_count": 59,
     "metadata": {},
     "output_type": "execute_result"
    }
   ],
   "source": [
    "any(x==y)"
   ]
  },
  {
   "cell_type": "code",
   "execution_count": 62,
   "metadata": {},
   "outputs": [],
   "source": [
    "def implicit_fd_euro(T, K, S0, r, div, sigma, N_timesteps, N_xsteps, option_type):\n",
    "    \n",
    "    def payoff(s, K):\n",
    "        if option_type == 'call':\n",
    "            return max(s-K, 0)\n",
    "        elif option_type == 'put':\n",
    "            return max(K-s, 0)\n",
    "        else:\n",
    "            raise Exception(\"Bad option type\")\n",
    "            \n",
    "    # constants\n",
    "    dt = T/N_timesteps\n",
    "    dx = 1.5 * sigma * np.sqrt(3*dt)\n",
    "    nu = r - div - sigma**2/2\n",
    "    edx = np.exp(dx)\n",
    "    pu = -0.5 * dt * (sigma**2/(dx**2) + nu/(dx))\n",
    "    pm = 1 + dt * sigma**2/(dx**2) + r*dt\n",
    "    pd = -0.5 * dt * (sigma**2/(dx**2) - nu/(dx))\n",
    "    \n",
    "    # as we did in the trinomial tree, first build all spot values \n",
    "    # since this is a grid, we have no need to evolve them backwards\n",
    "    St = np.zeros(2*N_xsteps + 1)\n",
    "    St[0] = S0*np.exp(-N_xsteps*dx)\n",
    "    for j in range(1,2*N_xsteps+1):\n",
    "        St[j] = St[j-1]*edx\n",
    "    \n",
    "    # instead of having a matrix C, it is simpler to have two vector versions for \n",
    "    # before and after updates\n",
    "    C = np.zeros(2*N_xsteps+1)\n",
    "    \n",
    "    # boundary values for the option: payoff\n",
    "    for j in range(2*N_xsteps+1):\n",
    "        C[j] = payoff(St[j], K)\n",
    "        \n",
    "    # derivative boundary conditions\n",
    "    if option_type == 'call':\n",
    "        lambda_L = 0.0\n",
    "        lambda_U = St[2*N_xsteps] - St[2*N_xsteps-1]\n",
    "    else:\n",
    "        lambda_L = -1 * (St[1] - St[0])\n",
    "        lambda_U = 0.0\n",
    "    \n",
    "    # we need to revert C for it to match the order in the book\n",
    "    C = C[::-1]\n",
    "    # propagate back\n",
    "    for i in range(N_timesteps-1, -1, -1):\n",
    "        C = solve_tridiagonal(lambda_U, lambda_L, C, pu, pm, pd)\n",
    "\n",
    "    return C[N_xsteps]"
   ]
  },
  {
   "cell_type": "markdown",
   "metadata": {},
   "source": [
    "Same test as before:"
   ]
  },
  {
   "cell_type": "code",
   "execution_count": 64,
   "metadata": {},
   "outputs": [
    {
     "name": "stdout",
     "output_type": "stream",
     "text": [
      "Call: 10.95\n"
     ]
    }
   ],
   "source": [
    "call_price = implicit_fd_euro(T=1.0, K=100, S0=100, r=0.06, div=0, sigma=0.2, N_timesteps=200, N_xsteps=100, option_type=\"call\")\n",
    "print(\"Call: %.2f\" % call_price)"
   ]
  },
  {
   "cell_type": "code",
   "execution_count": 65,
   "metadata": {},
   "outputs": [
    {
     "name": "stdout",
     "output_type": "stream",
     "text": [
      "Put: 5.13\n"
     ]
    }
   ],
   "source": [
    "put_price = implicit_fd_euro(T=1.0, K=100, S0=100, r=0.06, div=0, sigma=0.2, N_timesteps=200, N_xsteps=100, option_type=\"put\")\n",
    "print(\"Put: %.2f\" % put_price)"
   ]
  },
  {
   "cell_type": "code",
   "execution_count": 66,
   "metadata": {},
   "outputs": [
    {
     "name": "stdout",
     "output_type": "stream",
     "text": [
      "C-P: 5.82\n"
     ]
    }
   ],
   "source": [
    "print(\"C-P: %.2f\" % (call_price - put_price))"
   ]
  },
  {
   "cell_type": "markdown",
   "metadata": {},
   "source": [
    "$S_0  - K e^{-r(T-t)}$:"
   ]
  },
  {
   "cell_type": "code",
   "execution_count": 67,
   "metadata": {},
   "outputs": [
    {
     "name": "stdout",
     "output_type": "stream",
     "text": [
      "S(t)-K_disc: 5.82\n"
     ]
    }
   ],
   "source": [
    "print(\"S(t)-K_disc: %.2f\" % (100 - np.exp(-0.06*(1.0))*100))"
   ]
  },
  {
   "cell_type": "markdown",
   "metadata": {},
   "source": [
    "## (c) Crank-Nicolson"
   ]
  },
  {
   "cell_type": "markdown",
   "metadata": {},
   "source": [
    "To derive Crank-Nicolson, we consider both the explicit and implicit methods and average them."
   ]
  },
  {
   "cell_type": "markdown",
   "metadata": {},
   "source": [
    "Explicit:\n",
    "$$- \\frac{C_{i+1,j} - C_{i,j}}{\\Delta t} = r C_{i+1, j} + \\nu  \\left( \\frac{C_{i+1,j+1} - C_{i+1,j-1}}{2\\Delta x} \\right) + \\frac{\\sigma^2}{2} \\left(\\frac{C_{i+1,j+1} -2 C_{i+1,j} + C_{i+1,j-1}}{(\\Delta x)^2} \\right)$$\n",
    "\n",
    "Implicit:\n",
    "$$- \\frac{C_{i+1,j} - C_{i,j}}{\\Delta t} = r C_{i+1, j} + \\nu  \\left( \\frac{C_{i,j+1} - C_{i,j-1}}{2\\Delta x} \\right) + \\frac{\\sigma^2}{2} \\left(\\frac{C_{i,j+1} -2 C_{i,j} + C_{i,j-1}}{(\\Delta x)^2} \\right)$$"
   ]
  },
  {
   "cell_type": "markdown",
   "metadata": {},
   "source": [
    "Sum and divide by 2:"
   ]
  },
  {
   "cell_type": "markdown",
   "metadata": {},
   "source": [
    "$$- \\frac{C_{i+1,j} - C_{i,j}}{\\Delta t} = r \\frac{C_{i+1, j} + C_{i,j}}{2} +   \\frac{\\nu}{2} \\left( \\frac{C_{i+1,j+1} - C_{i+1,j-1}}{2\\Delta x} + \\frac{C_{i,j+1} - C_{i,j-1}}{2\\Delta x} \\right) + \\frac{\\sigma^2}{4} \\left(\\frac{C_{i+1,j+1} -2 C_{i+1,j} + C_{i+1,j-1}}{(\\Delta x)^2}  + \\frac{C_{i,j+1} -2 C_{i,j} + C_{i,j-1}}{(\\Delta x)^2} \\right)$$"
   ]
  },
  {
   "cell_type": "markdown",
   "metadata": {},
   "source": [
    "Now we collect terms:"
   ]
  },
  {
   "cell_type": "markdown",
   "metadata": {},
   "source": [
    "$$p_u C_{i,j+1} + p_m C_{i,j} + p_d C_{i,j-1} = - p_u C_{i+1,j+1} - (p_m-2) C_{i+1,j} - p_d C_{i+1,j-1}$$"
   ]
  },
  {
   "cell_type": "markdown",
   "metadata": {},
   "source": [
    "with\n",
    "$$\\begin{align*}\n",
    "p_u &= - \\frac 14 \\Delta t \\left( \\frac{\\sigma^2}{\\Delta x^2} + \\frac{\\nu}{\\Delta x}\\right)\\\\\n",
    "p_m &= 1 +  \\Delta t \\frac{\\sigma^2}{2\\Delta x^2} + \\frac 12 r\\Delta t\\\\\n",
    "p_d &= - \\frac 14 \\Delta t \\left( \\frac{\\sigma^2}{\\Delta x^2} - \\frac{\\nu}{\\Delta x}\\right)\n",
    "\\end{align*}$$"
   ]
  },
  {
   "cell_type": "markdown",
   "metadata": {},
   "source": [
    "The tridiagonal solver is exactly the same as before. However, we must change the right-hand-side."
   ]
  },
  {
   "cell_type": "code",
   "execution_count": 80,
   "metadata": {},
   "outputs": [],
   "source": [
    "def crank_nicolson_fd_euro(T, K, S0, r, div, sigma, N_timesteps, N_xsteps, option_type):\n",
    "    \n",
    "    def payoff(s, K):\n",
    "        if option_type == 'call':\n",
    "            return max(s-K, 0)\n",
    "        elif option_type == 'put':\n",
    "            return max(K-s, 0)\n",
    "        else:\n",
    "            raise Exception(\"Bad option type\")\n",
    "            \n",
    "    # constants\n",
    "    dt = T/N_timesteps\n",
    "    dx = 1.5 * sigma * np.sqrt(3*dt)\n",
    "    nu = r - div - sigma**2/2\n",
    "    edx = np.exp(dx)\n",
    "    pu = -0.25 * dt * (sigma**2/(dx**2) + nu/(dx))\n",
    "    pm = 1 + 0.5*dt * sigma**2/(dx**2) + 0.5 * r * dt\n",
    "    pd = -0.25 * dt * (sigma**2/(dx**2) - nu/(dx))\n",
    "    \n",
    "    # as we did in the trinomial tree, first build all spot values \n",
    "    # since this is a grid, we have no need to evolve them backwards\n",
    "    St = np.zeros(2*N_xsteps + 1)\n",
    "    St[0] = S0*np.exp(-N_xsteps*dx)\n",
    "    for j in range(1,2*N_xsteps+1):\n",
    "        St[j] = St[j-1]*edx\n",
    "    \n",
    "    # instead of having a matrix C, it is simpler to have two vector versions for \n",
    "    # before and after updates\n",
    "    C = np.zeros(2*N_xsteps+1)\n",
    "    \n",
    "    # boundary values for the option: payoff\n",
    "    for j in range(2*N_xsteps+1):\n",
    "        C[j] = payoff(St[j], K)\n",
    "        \n",
    "    # derivative boundary conditions\n",
    "    if option_type == 'call':\n",
    "        lambda_L = 0.0\n",
    "        lambda_U = St[2*N_xsteps] - St[2*N_xsteps-1]\n",
    "    else:\n",
    "        lambda_L = -1 * (St[1] - St[0])\n",
    "        lambda_U = 0.0\n",
    "    \n",
    "    # we need to revert C for it to match the order in the book\n",
    "    C = C[::-1]\n",
    "    # propagate back\n",
    "    for i in range(N_timesteps-1, -1, -1):\n",
    "        rhs = np.zeros(2*N_xsteps+1)\n",
    "        for j in range(1,2*N_xsteps):\n",
    "            rhs[j] = -pu*C[j-1] - (pm-2)*C[j] - pd*C[j+1]\n",
    "            \n",
    "        C = solve_tridiagonal(lambda_U, lambda_L, rhs, pu, pm, pd)\n",
    "\n",
    "    return C[N_xsteps]"
   ]
  },
  {
   "cell_type": "markdown",
   "metadata": {},
   "source": [
    "Same test as before:"
   ]
  },
  {
   "cell_type": "code",
   "execution_count": 81,
   "metadata": {},
   "outputs": [
    {
     "name": "stdout",
     "output_type": "stream",
     "text": [
      "Call: 10.96\n"
     ]
    }
   ],
   "source": [
    "call_price = crank_nicolson_fd_euro(T=1.0, K=100, S0=100, r=0.06, div=0, sigma=0.2, N_timesteps=200, N_xsteps=100, option_type=\"call\")\n",
    "print(\"Call: %.2f\" % call_price)"
   ]
  },
  {
   "cell_type": "code",
   "execution_count": 82,
   "metadata": {},
   "outputs": [
    {
     "name": "stdout",
     "output_type": "stream",
     "text": [
      "Put: 5.13\n"
     ]
    }
   ],
   "source": [
    "put_price = crank_nicolson_fd_euro(T=1.0, K=100, S0=100, r=0.06, div=0, sigma=0.2, N_timesteps=200, N_xsteps=100, option_type=\"put\")\n",
    "print(\"Put: %.2f\" % put_price)"
   ]
  },
  {
   "cell_type": "code",
   "execution_count": 83,
   "metadata": {},
   "outputs": [
    {
     "name": "stdout",
     "output_type": "stream",
     "text": [
      "C-P: 5.82\n"
     ]
    }
   ],
   "source": [
    "print(\"C-P: %.2f\" % (call_price - put_price))"
   ]
  },
  {
   "cell_type": "markdown",
   "metadata": {},
   "source": [
    "$S_0  - K e^{-r(T-t)}$:"
   ]
  },
  {
   "cell_type": "code",
   "execution_count": 84,
   "metadata": {},
   "outputs": [
    {
     "name": "stdout",
     "output_type": "stream",
     "text": [
      "S(t)-K_disc: 5.82\n"
     ]
    }
   ],
   "source": [
    "print(\"S(t)-K_disc: %.2f\" % (100 - np.exp(-0.06*(1.0))*100))"
   ]
  },
  {
   "cell_type": "markdown",
   "metadata": {},
   "source": [
    "## d) Error estimates"
   ]
  },
  {
   "cell_type": "markdown",
   "metadata": {},
   "source": [
    "Both the **implicit** and **explicit** methods have convergence speed $O(\\Delta t, \\Delta x^2)$ whereas Crank-Nicolson has speed $O(\\Delta t^2, \\Delta x^2)$.\n"
   ]
  },
  {
   "cell_type": "markdown",
   "metadata": {},
   "source": [
    "Let us define an error estimate for the explicit/implicit method as\n",
    "$$\\epsilon =  \\Delta t + \\Delta x^2\\quad(*)$$\n",
    "NOTE: this is not dimensionless, but has units of time + number. So any analysis here should be taken with a grain of salt."
   ]
  },
  {
   "cell_type": "markdown",
   "metadata": {},
   "source": [
    "We will use the best estimates provided in the book: \n",
    "$$ \\Delta t = \\frac{1}{3} \\left(\\frac{\\Delta x}{\\sigma}\\right)^2 \\quad(**)$$"
   ]
  },
  {
   "cell_type": "markdown",
   "metadata": {},
   "source": [
    "Joining this back into $(*)$ yields\n",
    "$$\\epsilon = \\Delta x^2 \\left(1 + \\frac{1}{3 \\sigma^2}\\right)\\Rightarrow \\boxed{\\Delta x_{implicit/explicit} = \\sqrt{\\frac{\\epsilon}{1 + {1}/{3 \\sigma^2}}}}$$"
   ]
  },
  {
   "cell_type": "markdown",
   "metadata": {},
   "source": [
    "For **Crank-Nicolson**, we change $(*)$ into \n",
    "$$\\epsilon = \\Delta t^2 + \\Delta x^2$$"
   ]
  },
  {
   "cell_type": "markdown",
   "metadata": {},
   "source": [
    "which, by using $(**)$ again, yields\n",
    "$$\\frac{1}{9\\sigma^4} (\\Delta x)^4 + (\\Delta x)^2 - \\epsilon = 0$$"
   ]
  },
  {
   "cell_type": "markdown",
   "metadata": {},
   "source": [
    "This is a quadratic equation for $(\\Delta x)^2$, which can be solved as\n",
    "$$\\boxed{\\Delta x_{C-K} = \\sqrt{- \\frac{9\\sigma^4}{2} +\\sqrt{ \\left( \\frac{9\\sigma^4}{2} \\right)^2 + {9\\sigma^4 \\epsilon}}}}$$"
   ]
  },
  {
   "cell_type": "markdown",
   "metadata": {},
   "source": [
    "In any case, solving for $\\Delta x$ above we can find $\\Delta t$ from $(**)$; then, since \n",
    "\n",
    "$$N = \\frac{T}{\\Delta T}$$\n",
    "\n",
    "we can immediately identify the number of time steps. Finally, we choose the number of space points $N_j$ by imposing\n",
    "$$\\boxed{N \\geq 3 \\left(\\frac{2 N_j+1}{n_{SD}}\\right)^2}$$\n",
    "\n",
    "where $n_{SD}$ is chosen as at least 15. This yields"
   ]
  },
  {
   "cell_type": "markdown",
   "metadata": {},
   "source": [
    "$$\\boxed{N_j \\approx \\frac{1}{2} \\left(15 \\sqrt{\\frac{N}{3}} - 1\\right)}$$"
   ]
  },
  {
   "cell_type": "markdown",
   "metadata": {},
   "source": [
    "## e) Comparing methods"
   ]
  },
  {
   "cell_type": "code",
   "execution_count": 85,
   "metadata": {},
   "outputs": [],
   "source": [
    "S0 = 100\n",
    "K = 100\n",
    "T = 1\n",
    "sigma = 0.20\n",
    "r = 0.06\n",
    "div = 0.02"
   ]
  },
  {
   "cell_type": "code",
   "execution_count": 87,
   "metadata": {},
   "outputs": [],
   "source": [
    "eps = 1e-4  # error requested"
   ]
  },
  {
   "cell_type": "markdown",
   "metadata": {},
   "source": [
    "**Parameters for explicit method**"
   ]
  },
  {
   "cell_type": "code",
   "execution_count": 129,
   "metadata": {},
   "outputs": [],
   "source": [
    "dx = np.sqrt(eps/(1+1/(3*sigma**2)))\n",
    "dt = dx**2/(3*sigma**2)"
   ]
  },
  {
   "cell_type": "code",
   "execution_count": 130,
   "metadata": {},
   "outputs": [
    {
     "name": "stdout",
     "output_type": "stream",
     "text": [
      "Explicit/implicit: N = 11200, Nj = 457\n"
     ]
    }
   ],
   "source": [
    "N = int(np.floor(T/dt))\n",
    "Nj = int(np.floor(0.5*(15*np.sqrt(N/3)-1)))\n",
    "print(f\"Explicit/implicit: N = {N}, Nj = {Nj}\")"
   ]
  },
  {
   "cell_type": "markdown",
   "metadata": {},
   "source": [
    "**Parameters for Crank-Nicolson**"
   ]
  },
  {
   "cell_type": "code",
   "execution_count": 131,
   "metadata": {},
   "outputs": [],
   "source": [
    "aux = 9*sigma**4/(2*1**2)\n",
    "dx = np.sqrt(-aux + np.sqrt(aux**2 + 9*sigma**4 *eps/(1**2)))\n",
    "dt = dx**2/(3*sigma**2)"
   ]
  },
  {
   "cell_type": "code",
   "execution_count": 132,
   "metadata": {},
   "outputs": [
    {
     "name": "stdout",
     "output_type": "stream",
     "text": [
      "Crank-Nicolson: N = 1208, Nj = 149\n"
     ]
    }
   ],
   "source": [
    "N_CK = int(np.floor(T/dt))\n",
    "Nj_CK = int(np.floor(0.5*(15*np.sqrt(N_CK/3)-1)))\n",
    "print(f\"Crank-Nicolson: N = {N_CK}, Nj = {Nj_CK}\")"
   ]
  },
  {
   "cell_type": "markdown",
   "metadata": {},
   "source": [
    "**Comparing methods**"
   ]
  },
  {
   "cell_type": "code",
   "execution_count": 128,
   "metadata": {},
   "outputs": [
    {
     "name": "stdout",
     "output_type": "stream",
     "text": [
      "Explicit:\t call = 9.7281, put = 5.8846\n",
      "Implicit:\t call = 9.7279, put = 5.8845\n",
      "Crank-Nicolson:\t call = 9.7235, put = 5.88\n"
     ]
    }
   ],
   "source": [
    "call = explicit_fd_euro(T=1.0, K=100, S0=100, r=0.06, div=0.02, sigma=0.2, N_timesteps=N, N_xsteps=Nj, option_type=\"call\")\n",
    "put = explicit_fd_euro(T=1.0, K=100, S0=100, r=0.06, div=0.02, sigma=0.2, N_timesteps=N, N_xsteps=Nj, option_type=\"put\")\n",
    "print(f\"Explicit:\\t call = {round(call, 4)}, put = {round(put, 4)}\")\n",
    "\n",
    "call = implicit_fd_euro(T=1.0, K=100, S0=100, r=0.06, div=0.02, sigma=0.2, N_timesteps=N, N_xsteps=Nj, option_type=\"call\")\n",
    "put = implicit_fd_euro(T=1.0, K=100, S0=100, r=0.06, div=0.02, sigma=0.2, N_timesteps=N, N_xsteps=Nj, option_type=\"put\")\n",
    "print(f\"Implicit:\\t call = {round(call, 4)}, put = {round(put, 4)}\")\n",
    "\n",
    "call = crank_nicolson_fd_euro(T=1.0, K=100, S0=100, r=0.06, div=0.02, sigma=0.2, N_timesteps=N_CK, N_xsteps=Nj_CK, option_type=\"call\")\n",
    "put = crank_nicolson_fd_euro(T=1.0, K=100, S0=100, r=0.06, div=0.02, sigma=0.2, N_timesteps=N_CK, N_xsteps=Nj_CK, option_type=\"put\")\n",
    "print(f\"Crank-Nicolson:\\t call = {round(call, 4)}, put = {round(put, 4)}\")"
   ]
  },
  {
   "cell_type": "markdown",
   "metadata": {},
   "source": [
    "## f) Numerical parameter estimation"
   ]
  },
  {
   "cell_type": "markdown",
   "metadata": {},
   "source": [
    "Copying Black-Scholes code from HW1, and editing to include dividends:"
   ]
  },
  {
   "cell_type": "code",
   "execution_count": 116,
   "metadata": {},
   "outputs": [],
   "source": [
    "def bsm_value(S, K, T, r, div, sigma, option_type):  # T here stands for time to maturity\n",
    "    from scipy import stats\n",
    "    assert option_type in ['put', 'call'], \"Invalid option type\"\n",
    "    \n",
    "    phi = 1 if option_type == 'call' else -1  # multiplication factor to adjust for option type\n",
    "    \n",
    "    N = lambda x: stats.norm.cdf(x, loc=0.0, scale=1.0)\n",
    "    d1 = 1 if T == 0 else (np.log(S/K) + (r - div + sigma**2/2)*T)/(sigma*np.sqrt(T))\n",
    "    d2 = d1 - sigma*np.sqrt(T)\n",
    "    \n",
    "    return phi*(np.exp(-div*T) * S * N(phi*d1) - K * np.exp(-r*T) * N(phi*d2))"
   ]
  },
  {
   "cell_type": "markdown",
   "metadata": {},
   "source": [
    "Theoretical values:"
   ]
  },
  {
   "cell_type": "code",
   "execution_count": 119,
   "metadata": {},
   "outputs": [
    {
     "name": "stdout",
     "output_type": "stream",
     "text": [
      "Black-Scholes:\t call = 9.7285, put = 5.8851\n"
     ]
    }
   ],
   "source": [
    "call_bsm = bsm_value(S=100, K=100, r=0.06, div=0.02, sigma=0.2, T=1.0, option_type='call')\n",
    "put_bsm = bsm_value(S=100, K=100, r=0.06, div=0.02, sigma=0.2, T=1.0, option_type='put')\n",
    "print(f\"Black-Scholes:\\t call = {round(call_bsm, 4)}, put = {round(put_bsm, 4)}\")"
   ]
  },
  {
   "cell_type": "markdown",
   "metadata": {},
   "source": [
    "We build our empirical parameter estimator as follows:\n",
    "\n",
    "* Starting with a given $N$, we derive $N_j$ from ${N_j \\approx \\frac{1}{2} \\left(15 \\sqrt{\\frac{N}{3}} - 1\\right)}$\n",
    "\n",
    "* Then, we derive $\\Delta t = T/N$ and $\\Delta x = \\alpha \\sigma \\sqrt{3 \\Delta t}$ for $\\alpha > 1$ (in practice we choose 1.5)\n",
    "\n",
    "* We calculate the error by comparing with the BSM value\n",
    "\n",
    "* If we haven't reached the error yet, we increase $N$ "
   ]
  },
  {
   "cell_type": "markdown",
   "metadata": {},
   "source": [
    "#### Important disclaimer\n",
    "For an error like $10^{-4}$ as requested, the code is taking a significant amount of time (because it requires N larger than 100,000). Due to time feasibility, we decided to work with a different error of $10^{-3}$"
   ]
  },
  {
   "cell_type": "code",
   "execution_count": 178,
   "metadata": {},
   "outputs": [],
   "source": [
    "def estimate_parameters(true_solution,\n",
    "                        solver,\n",
    "                        error_target,\n",
    "                        model_params_dict):\n",
    "    N, error = 1, np.infty\n",
    "    while error > error_target:\n",
    "        N *= 2\n",
    "        Nj = int(np.ceil(0.5 * (15*np.sqrt(N/3) -1)))\n",
    "        sol = solver(**model_params_dict, N_timesteps=N, N_xsteps=Nj)\n",
    "        dt = T/N\n",
    "        dx = 1.5 * model_params_dict['sigma'] * np.sqrt(3*dt)\n",
    "        error = np.abs(sol - true_solution)\n",
    "        print(f\"N =\\t{N}, error =\\t{round(error,6)}\")\n",
    "    \n",
    "    return {'N': N, 'Nj': Nj, 'dx': dx, 'dt': dt, 'error': error}"
   ]
  },
  {
   "cell_type": "code",
   "execution_count": 186,
   "metadata": {},
   "outputs": [],
   "source": [
    "params_dict_call = {'S0': 100, 'K': 100, 'r': 0.06, 'div': 0.02, 'sigma': 0.2, 'T':1.0, 'option_type': 'call'}\n",
    "params_dict_put = {'S0': 100, 'K': 100, 'r': 0.06, 'div': 0.02, 'sigma': 0.2, 'T':1.0, 'option_type': 'put'}"
   ]
  },
  {
   "cell_type": "code",
   "execution_count": 187,
   "metadata": {},
   "outputs": [
    {
     "name": "stdout",
     "output_type": "stream",
     "text": [
      "N =\t2, error =\t2.495\n",
      "N =\t4, error =\t1.516407\n",
      "N =\t8, error =\t0.748043\n",
      "N =\t16, error =\t0.338216\n",
      "N =\t32, error =\t0.160438\n",
      "N =\t64, error =\t0.078626\n",
      "N =\t128, error =\t0.038958\n",
      "N =\t256, error =\t0.019395\n",
      "N =\t512, error =\t0.009677\n",
      "N =\t1024, error =\t0.004833\n",
      "N =\t2048, error =\t0.002415\n",
      "N =\t4096, error =\t0.001207\n",
      "N =\t8192, error =\t0.000604\n"
     ]
    }
   ],
   "source": [
    "#Explicit\n",
    "res_expl_call = estimate_parameters(call_bsm, explicit_fd_euro, 1e-3, params_dict_call)\n",
    "res_expl_call.update({'method': 'explicit'})"
   ]
  },
  {
   "cell_type": "code",
   "execution_count": 181,
   "metadata": {},
   "outputs": [
    {
     "name": "stdout",
     "output_type": "stream",
     "text": [
      "N =\t2, error =\t3.232702\n",
      "N =\t4, error =\t2.107196\n",
      "N =\t8, error =\t1.122849\n",
      "N =\t16, error =\t0.514438\n",
      "N =\t32, error =\t0.238026\n",
      "N =\t64, error =\t0.115524\n",
      "N =\t128, error =\t0.057034\n",
      "N =\t256, error =\t0.028347\n",
      "N =\t512, error =\t0.014132\n",
      "N =\t1024, error =\t0.007056\n",
      "N =\t2048, error =\t0.003525\n",
      "N =\t4096, error =\t0.001762\n",
      "N =\t8192, error =\t0.000881\n"
     ]
    }
   ],
   "source": [
    "#Implicit\n",
    "res_impl_call = estimate_parameters(call_bsm, implicit_fd_euro, 1e-3, params_dict_call)\n",
    "res_impl_call.update({'method': 'implicit'})"
   ]
  },
  {
   "cell_type": "code",
   "execution_count": 182,
   "metadata": {},
   "outputs": [
    {
     "name": "stdout",
     "output_type": "stream",
     "text": [
      "N =\t2, error =\t2.891976\n",
      "N =\t4, error =\t1.826343\n",
      "N =\t8, error =\t0.937376\n",
      "N =\t16, error =\t0.424912\n",
      "N =\t32, error =\t0.198904\n",
      "N =\t64, error =\t0.097019\n",
      "N =\t128, error =\t0.047984\n",
      "N =\t256, error =\t0.023868\n",
      "N =\t512, error =\t0.011904\n",
      "N =\t1024, error =\t0.005944\n",
      "N =\t2048, error =\t0.00297\n",
      "N =\t4096, error =\t0.001485\n",
      "N =\t8192, error =\t0.000742\n"
     ]
    }
   ],
   "source": [
    "#Crank-Nicolson\n",
    "res_cn_call = estimate_parameters(call_bsm, crank_nicolson_fd_euro, 1e-3, params_dict_call)\n",
    "res_cn_call.update({'method': 'crank-nicolson'})"
   ]
  },
  {
   "cell_type": "code",
   "execution_count": 171,
   "metadata": {},
   "outputs": [
    {
     "data": {
      "text/html": [
       "<div>\n",
       "<style scoped>\n",
       "    .dataframe tbody tr th:only-of-type {\n",
       "        vertical-align: middle;\n",
       "    }\n",
       "\n",
       "    .dataframe tbody tr th {\n",
       "        vertical-align: top;\n",
       "    }\n",
       "\n",
       "    .dataframe thead th {\n",
       "        text-align: right;\n",
       "    }\n",
       "</style>\n",
       "<table border=\"1\" class=\"dataframe\">\n",
       "  <thead>\n",
       "    <tr style=\"text-align: right;\">\n",
       "      <th></th>\n",
       "      <th>N</th>\n",
       "      <th>Nj</th>\n",
       "      <th>dx</th>\n",
       "      <th>dt</th>\n",
       "      <th>error</th>\n",
       "      <th>method</th>\n",
       "    </tr>\n",
       "  </thead>\n",
       "  <tbody>\n",
       "    <tr>\n",
       "      <th>0</th>\n",
       "      <td>8192</td>\n",
       "      <td>392</td>\n",
       "      <td>0.005741</td>\n",
       "      <td>0.000122</td>\n",
       "      <td>0.000604</td>\n",
       "      <td>explicit</td>\n",
       "    </tr>\n",
       "    <tr>\n",
       "      <th>1</th>\n",
       "      <td>8192</td>\n",
       "      <td>392</td>\n",
       "      <td>0.005741</td>\n",
       "      <td>0.000122</td>\n",
       "      <td>0.000881</td>\n",
       "      <td>implicit</td>\n",
       "    </tr>\n",
       "    <tr>\n",
       "      <th>2</th>\n",
       "      <td>8192</td>\n",
       "      <td>392</td>\n",
       "      <td>0.005741</td>\n",
       "      <td>0.000122</td>\n",
       "      <td>0.000742</td>\n",
       "      <td>crank-nicolson</td>\n",
       "    </tr>\n",
       "  </tbody>\n",
       "</table>\n",
       "</div>"
      ],
      "text/plain": [
       "      N   Nj        dx        dt     error          method\n",
       "0  8192  392  0.005741  0.000122  0.000604        explicit\n",
       "1  8192  392  0.005741  0.000122  0.000881        implicit\n",
       "2  8192  392  0.005741  0.000122  0.000742  crank-nicolson"
      ]
     },
     "execution_count": 171,
     "metadata": {},
     "output_type": "execute_result"
    }
   ],
   "source": [
    "import pandas as pd\n",
    "pd.DataFrame(\n",
    "    [res_expl_call,\n",
    "     res_impl_call,\n",
    "     res_cn_call])"
   ]
  },
  {
   "cell_type": "markdown",
   "metadata": {},
   "source": [
    "In our case, all numbers turned out to be the same. This is not expected - Crank-Nicolson is supposed to converge faster."
   ]
  },
  {
   "cell_type": "markdown",
   "metadata": {},
   "source": [
    "## g) Plotting implicit probabilities"
   ]
  },
  {
   "cell_type": "markdown",
   "metadata": {},
   "source": [
    "There are two interpretations for this problem. \n",
    "* Plot $p_u$ etc as functions of $\\sigma$ alone, as it appears explicitly in the formulas\n",
    "* Plot $p_u$ etc including the dependency of $\\Delta x$ in $\\sigma$, since $\\Delta x \\propto \\sigma \\sqrt{\\Delta t}$."
   ]
  },
  {
   "cell_type": "markdown",
   "metadata": {},
   "source": [
    "We will go with the former one."
   ]
  },
  {
   "cell_type": "code",
   "execution_count": 183,
   "metadata": {},
   "outputs": [],
   "source": [
    "sigma_range = np.arange(0.05, 0.65, 0.05)"
   ]
  },
  {
   "cell_type": "code",
   "execution_count": 192,
   "metadata": {},
   "outputs": [],
   "source": [
    "r    = 0.06\n",
    "S0   = 100\n",
    "K    = 100\n",
    "div  = 0.02\n",
    "sigma= 0.2\n",
    "T    = 1.0"
   ]
  },
  {
   "cell_type": "code",
   "execution_count": 196,
   "metadata": {},
   "outputs": [],
   "source": [
    "N = 100\n",
    "dt = T/N\n",
    "dx = sigma*np.sqrt(3*dt)"
   ]
  },
  {
   "cell_type": "code",
   "execution_count": 197,
   "metadata": {},
   "outputs": [
    {
     "data": {
      "image/png": "[encoded data removed]",
      "text/plain": [
       "<Figure size 432x288 with 1 Axes>"
      ]
     },
     "metadata": {
      "needs_background": "light"
     },
     "output_type": "display_data"
    }
   ],
   "source": [
    "pd.DataFrame({\n",
    "    'p_u': [-0.5*dt*(s**2/(dx**2) + (r-div-s**2/2)/dx) for s in sigma_range],\n",
    "    'p_m': [1 + dt*s**2/(dx**2) + r*dt for s in sigma_range],\n",
    "    'p_d': [-0.5*dt*(s**2/(dx**2) - (r-div-s**2/2)/dx) for s in sigma_range],\n",
    "    'sigma': sigma_range}).\\\n",
    "    set_index('sigma').plot()\n",
    "plt.title(\"Implicit method \"); plt.show()"
   ]
  },
  {
   "cell_type": "markdown",
   "metadata": {},
   "source": [
    "It is interesting to see how both $p_u$ and $p_d$ almost coincide, and decrease as $\\sigma$ increases, whereas $p_m$ goes i the opposite direction. Also, **these cannot be interpreted as probabilities** since they reach negative values."
   ]
  },
  {
   "cell_type": "markdown",
   "metadata": {},
   "source": [
    "## h) Comparing methods (again)"
   ]
  },
  {
   "cell_type": "code",
   "execution_count": 205,
   "metadata": {},
   "outputs": [],
   "source": [
    "N = 1000\n",
    "Nj = int(np.ceil(0.5 * (15*np.sqrt(N/3)-1)))"
   ]
  },
  {
   "cell_type": "code",
   "execution_count": 208,
   "metadata": {},
   "outputs": [
    {
     "name": "stdout",
     "output_type": "stream",
     "text": [
      "Explicit:\t call = 9.7236, put = 5.8799\n",
      "Implicit:\t call = 9.7213, put = 5.8779\n",
      "Crank-Nicolson:\t call = 9.7224, put = 5.8789\n",
      "Black-Scholes:\t call = 9.7285, put = 5.8851\n"
     ]
    }
   ],
   "source": [
    "call = explicit_fd_euro(T=1.0, K=100, S0=100, r=0.06, div=0.02, sigma=0.2, N_timesteps=N, N_xsteps=Nj, option_type=\"call\")\n",
    "put = explicit_fd_euro(T=1.0, K=100, S0=100, r=0.06, div=0.02, sigma=0.2, N_timesteps=N, N_xsteps=Nj, option_type=\"put\")\n",
    "print(f\"Explicit:\\t call = {round(call, 4)}, put = {round(put, 4)}\")\n",
    "\n",
    "call = implicit_fd_euro(T=1.0, K=100, S0=100, r=0.06, div=0.02, sigma=0.2, N_timesteps=N, N_xsteps=Nj, option_type=\"call\")\n",
    "put = implicit_fd_euro(T=1.0, K=100, S0=100, r=0.06, div=0.02, sigma=0.2, N_timesteps=N, N_xsteps=Nj, option_type=\"put\")\n",
    "print(f\"Implicit:\\t call = {round(call, 4)}, put = {round(put, 4)}\")\n",
    "\n",
    "call = crank_nicolson_fd_euro(T=1.0, K=100, S0=100, r=0.06, div=0.02, sigma=0.2, N_timesteps=N, N_xsteps=Nj, option_type=\"call\")\n",
    "put = crank_nicolson_fd_euro(T=1.0, K=100, S0=100, r=0.06, div=0.02, sigma=0.2, N_timesteps=N, N_xsteps=Nj, option_type=\"put\")\n",
    "print(f\"Crank-Nicolson:\\t call = {round(call, 4)}, put = {round(put, 4)}\")\n",
    "print(f\"Black-Scholes:\\t call = {round(call_bsm, 4)}, put = {round(put_bsm, 4)}\")"
   ]
  },
  {
   "cell_type": "markdown",
   "metadata": {},
   "source": [
    "Implicit and Crank-Nicolson methods are closer to each other. In this particular situation, the explicit method is closest to the Black-Scholes theoretical value."
   ]
  },
  {
   "cell_type": "markdown",
   "metadata": {},
   "source": [
    "## i) Greeks"
   ]
  },
  {
   "cell_type": "markdown",
   "metadata": {},
   "source": [
    "We will numerically calculate the greeks by approximating the derivatives.\n",
    "For the Explicit method, we can estimate delta, gamma and theta during the calculation, whereas for vega we use a re-evaluation."
   ]
  },
  {
   "cell_type": "markdown",
   "metadata": {},
   "source": [
    "**Obs**: we define theta by normalizing by 252, and normalize vega dividing by 100"
   ]
  },
  {
   "cell_type": "code",
   "execution_count": 209,
   "metadata": {},
   "outputs": [],
   "source": [
    "def explicit_fd_euro(T, K, S0, r, div, sigma, N_timesteps, N_xsteps, option_type,\n",
    "                     calculate_greeks=False):\n",
    "    \n",
    "    def payoff(s, K):\n",
    "        if option_type == 'call':\n",
    "            return max(s-K, 0)\n",
    "        elif option_type == 'put':\n",
    "            return max(K-s, 0)\n",
    "        else:\n",
    "            raise Exception(\"Bad option type\")\n",
    "            \n",
    "    # constants\n",
    "    dt = T/N_timesteps\n",
    "    dx = 1.5 * sigma * np.sqrt(3*dt)\n",
    "    nu = r - div - sigma**2/2\n",
    "    edx = np.exp(dx)\n",
    "    pu = dt * (sigma**2/(2*dx**2) + nu/(2*dx))\n",
    "    pm = 1 - dt * sigma**2/(dx**2) - r*dt\n",
    "    pd = dt * (sigma**2/(2*dx**2) - nu/(2*dx))\n",
    "    \n",
    "    # as we did in the trinomial tree, first build all spot values \n",
    "    # since this is a grid, we have no need to evolve them backwards\n",
    "    St = np.zeros(2*N_xsteps + 1)\n",
    "    St[0] = S0*np.exp(-N_xsteps*dx)\n",
    "    for j in range(1,2*N_xsteps+1):\n",
    "        St[j] = St[j-1]*edx\n",
    "    \n",
    "    # boundary values for the option: payoff\n",
    "    C = np.zeros((N_timesteps+1, 2*N_xsteps+1))\n",
    "    for j in range(2*N_xsteps+1):\n",
    "        C[N_timesteps, j] = payoff(St[j], K)\n",
    "        \n",
    "    # propagate back\n",
    "    for i in range(N_timesteps-1, -1, -1):\n",
    "        \n",
    "        # finite difference evolution\n",
    "        for j in range(1, 2*N_xsteps):\n",
    "            C[i,j] = pu*C[i+1,j+1] + pm*C[i+1,j] + pd*C[i+1,j-1]\n",
    "        \n",
    "        # boundary conditions\n",
    "        if option_type == 'call':\n",
    "            C[i, 0] = C[i, 1]\n",
    "            C[i, 2*N_xsteps] = C[i, 2*N_xsteps-1] + (St[2*N_xsteps] - St[2*N_xsteps-1])\n",
    "        else:\n",
    "            C[i, 0] = C[i, 1] + (St[1] - St[0])\n",
    "            C[i, 2*N_xsteps] = C[i, 2*N_xsteps-1] \n",
    "            \n",
    "    # Greeks estimation\n",
    "    if calculate_greeks:\n",
    "        j = N_xsteps\n",
    "        delta = (C[0, j+1] - C[0, j-1])/(St[j+1]-St[j-1])\n",
    "        gamma = (\n",
    "            (C[0, j+1] - C[0, j])/(St[j+1]-St[j]) - (C[0, j] - C[0, j-1])/(St[j]-St[j-1])\n",
    "        )/(0.5 * (St[j+1] - St[j-1]))\n",
    "        theta = (C[1,j] - C[0,j])/dt\n",
    "        \n",
    "        return C[0, j], delta, gamma, theta\n",
    "            \n",
    "    return C[0,N_xsteps]"
   ]
  },
  {
   "cell_type": "code",
   "execution_count": 210,
   "metadata": {},
   "outputs": [],
   "source": [
    "price, delta, gamma, theta = explicit_fd_euro(T=1.0, K=100, S0=100, r=0.06, div=0.02, sigma=0.2, \n",
    "                                              N_timesteps=N, N_xsteps=Nj, option_type=\"call\", calculate_greeks=True)"
   ]
  },
  {
   "cell_type": "code",
   "execution_count": 214,
   "metadata": {},
   "outputs": [],
   "source": [
    "eps = 1e-3\n",
    "sigma = 0.2\n",
    "vega = (\n",
    "    explicit_fd_euro(T=1.0, K=100, S0=100, r=0.06, div=0.02, sigma=sigma*(1+eps), N_timesteps=N, N_xsteps=Nj, option_type=\"call\") - \\\n",
    "    explicit_fd_euro(T=1.0, K=100, S0=100, r=0.06, div=0.02, sigma=sigma*(1-eps), N_timesteps=N, N_xsteps=Nj, option_type=\"call\")\n",
    ")/(2*sigma*eps)"
   ]
  },
  {
   "cell_type": "code",
   "execution_count": 226,
   "metadata": {},
   "outputs": [
    {
     "name": "stdout",
     "output_type": "stream",
     "text": [
      "Price = 9.7236\n",
      "Delta = 0.6057\n",
      "Gamma = 0.0187\n",
      "Theta = -0.0222\n",
      "Vega  = 0.3736\n"
     ]
    }
   ],
   "source": [
    "print(f\"Price = %.4f\" % price)\n",
    "print(f\"Delta = %.4f\" % delta)\n",
    "print(f\"Gamma = %.4f\" % gamma)\n",
    "print(f\"Theta = %.4f\" % (theta/252))\n",
    "print(f\"Vega  = %.4f\" % (vega/100))"
   ]
  },
  {
   "cell_type": "markdown",
   "metadata": {},
   "source": [
    "# Problem 2"
   ]
  },
  {
   "cell_type": "markdown",
   "metadata": {},
   "source": [
    "## a) Download option data"
   ]
  },
  {
   "cell_type": "markdown",
   "metadata": {},
   "source": [
    "We will reuse code from HW2 and filter 10 strikes closest to ATM."
   ]
  },
  {
   "cell_type": "code",
   "execution_count": 307,
   "metadata": {},
   "outputs": [],
   "source": [
    "pd.set_option('display.max_columns', None)\n",
    "r = 0.07/100"
   ]
  },
  {
   "cell_type": "code",
   "execution_count": 308,
   "metadata": {},
   "outputs": [],
   "source": [
    "data = pd.read_csv('../HW2/data_2.csv', index_col=0)\n",
    "data = data[data['ticker'] == 'AMZN']\n",
    "data = data[data['maturity'].isin(['2021-03-26', '2021-04-16', '2021-05-21'])]"
   ]
  },
  {
   "cell_type": "code",
   "execution_count": 309,
   "metadata": {},
   "outputs": [
    {
     "data": {
      "text/plain": [
       "2021-05-21    10\n",
       "2021-04-16    10\n",
       "2021-03-26    10\n",
       "Name: maturity, dtype: int64"
      ]
     },
     "execution_count": 309,
     "metadata": {},
     "output_type": "execute_result"
    }
   ],
   "source": [
    "data['dist_from_ATM'] = np.abs(data['strike'] - data['Close'])\n",
    "data = data.sort_values(['maturity', 'dist_from_ATM'])\n",
    "data = data.groupby('maturity').head(10)\n",
    "data['maturity'].value_counts()"
   ]
  },
  {
   "cell_type": "code",
   "execution_count": 310,
   "metadata": {},
   "outputs": [
    {
     "data": {
      "text/html": [
       "<div>\n",
       "<style scoped>\n",
       "    .dataframe tbody tr th:only-of-type {\n",
       "        vertical-align: middle;\n",
       "    }\n",
       "\n",
       "    .dataframe tbody tr th {\n",
       "        vertical-align: top;\n",
       "    }\n",
       "\n",
       "    .dataframe thead th {\n",
       "        text-align: right;\n",
       "    }\n",
       "</style>\n",
       "<table border=\"1\" class=\"dataframe\">\n",
       "  <thead>\n",
       "    <tr style=\"text-align: right;\">\n",
       "      <th></th>\n",
       "      <th>contractSymbol</th>\n",
       "      <th>lastTradeDate</th>\n",
       "      <th>strike</th>\n",
       "      <th>lastPrice</th>\n",
       "      <th>bid</th>\n",
       "      <th>ask</th>\n",
       "      <th>change</th>\n",
       "      <th>percentChange</th>\n",
       "      <th>volume</th>\n",
       "      <th>openInterest</th>\n",
       "      <th>impliedVolatility</th>\n",
       "      <th>inTheMoney</th>\n",
       "      <th>contractSize</th>\n",
       "      <th>currency</th>\n",
       "      <th>type</th>\n",
       "      <th>maturity</th>\n",
       "      <th>download_date</th>\n",
       "      <th>time_to_maturity</th>\n",
       "      <th>day_identifier</th>\n",
       "      <th>ticker</th>\n",
       "      <th>Close</th>\n",
       "      <th>Volume</th>\n",
       "      <th>option_price</th>\n",
       "      <th>vol_bisect</th>\n",
       "      <th>calculated_price</th>\n",
       "      <th>dist_from_ATM</th>\n",
       "    </tr>\n",
       "  </thead>\n",
       "  <tbody>\n",
       "    <tr>\n",
       "      <th>4079</th>\n",
       "      <td>AMZN210326C03190000</td>\n",
       "      <td>2021-02-23 19:27:48</td>\n",
       "      <td>3190.0</td>\n",
       "      <td>117.00</td>\n",
       "      <td>113.80</td>\n",
       "      <td>116.20</td>\n",
       "      <td>6.220001</td>\n",
       "      <td>5.614733</td>\n",
       "      <td>19.0</td>\n",
       "      <td>65.0</td>\n",
       "      <td>0.307052</td>\n",
       "      <td>True</td>\n",
       "      <td>REGULAR</td>\n",
       "      <td>USD</td>\n",
       "      <td>call</td>\n",
       "      <td>2021-03-26</td>\n",
       "      <td>2021-02-24</td>\n",
       "      <td>0.083333</td>\n",
       "      <td>DATA_2</td>\n",
       "      <td>AMZN</td>\n",
       "      <td>3194.5</td>\n",
       "      <td>4677222</td>\n",
       "      <td>115.000</td>\n",
       "      <td>0.312538</td>\n",
       "      <td>117.215587</td>\n",
       "      <td>4.5</td>\n",
       "    </tr>\n",
       "    <tr>\n",
       "      <th>4222</th>\n",
       "      <td>AMZN210326P03190000</td>\n",
       "      <td>2021-02-23 20:48:39</td>\n",
       "      <td>3190.0</td>\n",
       "      <td>105.27</td>\n",
       "      <td>107.10</td>\n",
       "      <td>109.10</td>\n",
       "      <td>2.109993</td>\n",
       "      <td>2.045359</td>\n",
       "      <td>33.0</td>\n",
       "      <td>90.0</td>\n",
       "      <td>0.300113</td>\n",
       "      <td>False</td>\n",
       "      <td>REGULAR</td>\n",
       "      <td>USD</td>\n",
       "      <td>put</td>\n",
       "      <td>2021-03-26</td>\n",
       "      <td>2021-02-24</td>\n",
       "      <td>0.083333</td>\n",
       "      <td>DATA_2</td>\n",
       "      <td>AMZN</td>\n",
       "      <td>3194.5</td>\n",
       "      <td>4677222</td>\n",
       "      <td>108.100</td>\n",
       "      <td>0.303359</td>\n",
       "      <td>109.158874</td>\n",
       "      <td>4.5</td>\n",
       "    </tr>\n",
       "    <tr>\n",
       "      <th>4080</th>\n",
       "      <td>AMZN210326C03200000</td>\n",
       "      <td>2021-02-23 20:57:11</td>\n",
       "      <td>3200.0</td>\n",
       "      <td>111.00</td>\n",
       "      <td>108.65</td>\n",
       "      <td>111.15</td>\n",
       "      <td>3.000000</td>\n",
       "      <td>2.777778</td>\n",
       "      <td>117.0</td>\n",
       "      <td>231.0</td>\n",
       "      <td>0.306419</td>\n",
       "      <td>False</td>\n",
       "      <td>REGULAR</td>\n",
       "      <td>USD</td>\n",
       "      <td>call</td>\n",
       "      <td>2021-03-26</td>\n",
       "      <td>2021-02-24</td>\n",
       "      <td>0.083333</td>\n",
       "      <td>DATA_2</td>\n",
       "      <td>AMZN</td>\n",
       "      <td>3194.5</td>\n",
       "      <td>4677222</td>\n",
       "      <td>109.900</td>\n",
       "      <td>0.314485</td>\n",
       "      <td>113.116320</td>\n",
       "      <td>5.5</td>\n",
       "    </tr>\n",
       "    <tr>\n",
       "      <th>4223</th>\n",
       "      <td>AMZN210326P03200000</td>\n",
       "      <td>2021-02-23 20:36:57</td>\n",
       "      <td>3200.0</td>\n",
       "      <td>111.46</td>\n",
       "      <td>111.90</td>\n",
       "      <td>113.95</td>\n",
       "      <td>-12.099998</td>\n",
       "      <td>-9.792812</td>\n",
       "      <td>37.0</td>\n",
       "      <td>231.0</td>\n",
       "      <td>0.299220</td>\n",
       "      <td>True</td>\n",
       "      <td>REGULAR</td>\n",
       "      <td>USD</td>\n",
       "      <td>put</td>\n",
       "      <td>2021-03-26</td>\n",
       "      <td>2021-02-24</td>\n",
       "      <td>0.083333</td>\n",
       "      <td>DATA_2</td>\n",
       "      <td>AMZN</td>\n",
       "      <td>3194.5</td>\n",
       "      <td>4677222</td>\n",
       "      <td>112.925</td>\n",
       "      <td>0.298054</td>\n",
       "      <td>112.386623</td>\n",
       "      <td>5.5</td>\n",
       "    </tr>\n",
       "    <tr>\n",
       "      <th>4081</th>\n",
       "      <td>AMZN210326C03205000</td>\n",
       "      <td>2021-02-23 17:07:56</td>\n",
       "      <td>3205.0</td>\n",
       "      <td>86.75</td>\n",
       "      <td>106.15</td>\n",
       "      <td>108.80</td>\n",
       "      <td>-23.390000</td>\n",
       "      <td>-21.236607</td>\n",
       "      <td>2.0</td>\n",
       "      <td>24.0</td>\n",
       "      <td>0.306434</td>\n",
       "      <td>False</td>\n",
       "      <td>REGULAR</td>\n",
       "      <td>USD</td>\n",
       "      <td>call</td>\n",
       "      <td>2021-03-26</td>\n",
       "      <td>2021-02-24</td>\n",
       "      <td>0.083333</td>\n",
       "      <td>DATA_2</td>\n",
       "      <td>AMZN</td>\n",
       "      <td>3194.5</td>\n",
       "      <td>4677222</td>\n",
       "      <td>107.475</td>\n",
       "      <td>0.310219</td>\n",
       "      <td>109.191121</td>\n",
       "      <td>10.5</td>\n",
       "    </tr>\n",
       "  </tbody>\n",
       "</table>\n",
       "</div>"
      ],
      "text/plain": [
       "           contractSymbol        lastTradeDate  strike  lastPrice     bid  \\\n",
       "4079  AMZN210326C03190000  2021-02-23 19:27:48  3190.0     117.00  113.80   \n",
       "4222  AMZN210326P03190000  2021-02-23 20:48:39  3190.0     105.27  107.10   \n",
       "4080  AMZN210326C03200000  2021-02-23 20:57:11  3200.0     111.00  108.65   \n",
       "4223  AMZN210326P03200000  2021-02-23 20:36:57  3200.0     111.46  111.90   \n",
       "4081  AMZN210326C03205000  2021-02-23 17:07:56  3205.0      86.75  106.15   \n",
       "\n",
       "         ask     change  percentChange  volume  openInterest  \\\n",
       "4079  116.20   6.220001       5.614733    19.0          65.0   \n",
       "4222  109.10   2.109993       2.045359    33.0          90.0   \n",
       "4080  111.15   3.000000       2.777778   117.0         231.0   \n",
       "4223  113.95 -12.099998      -9.792812    37.0         231.0   \n",
       "4081  108.80 -23.390000     -21.236607     2.0          24.0   \n",
       "\n",
       "      impliedVolatility  inTheMoney contractSize currency  type    maturity  \\\n",
       "4079           0.307052        True      REGULAR      USD  call  2021-03-26   \n",
       "4222           0.300113       False      REGULAR      USD   put  2021-03-26   \n",
       "4080           0.306419       False      REGULAR      USD  call  2021-03-26   \n",
       "4223           0.299220        True      REGULAR      USD   put  2021-03-26   \n",
       "4081           0.306434       False      REGULAR      USD  call  2021-03-26   \n",
       "\n",
       "     download_date  time_to_maturity day_identifier ticker   Close   Volume  \\\n",
       "4079    2021-02-24          0.083333         DATA_2   AMZN  3194.5  4677222   \n",
       "4222    2021-02-24          0.083333         DATA_2   AMZN  3194.5  4677222   \n",
       "4080    2021-02-24          0.083333         DATA_2   AMZN  3194.5  4677222   \n",
       "4223    2021-02-24          0.083333         DATA_2   AMZN  3194.5  4677222   \n",
       "4081    2021-02-24          0.083333         DATA_2   AMZN  3194.5  4677222   \n",
       "\n",
       "      option_price  vol_bisect  calculated_price  dist_from_ATM  \n",
       "4079       115.000    0.312538        117.215587            4.5  \n",
       "4222       108.100    0.303359        109.158874            4.5  \n",
       "4080       109.900    0.314485        113.116320            5.5  \n",
       "4223       112.925    0.298054        112.386623            5.5  \n",
       "4081       107.475    0.310219        109.191121           10.5  "
      ]
     },
     "execution_count": 310,
     "metadata": {},
     "output_type": "execute_result"
    }
   ],
   "source": [
    "data.head()"
   ]
  },
  {
   "cell_type": "markdown",
   "metadata": {},
   "source": [
    "### b) Option pricing"
   ]
  },
  {
   "cell_type": "markdown",
   "metadata": {},
   "source": [
    "We will use $N = 2000$ which ensures the error rate."
   ]
  },
  {
   "cell_type": "code",
   "execution_count": 311,
   "metadata": {},
   "outputs": [
    {
     "name": "stderr",
     "output_type": "stream",
     "text": [
      "C:\\ProgramData\\Anaconda3\\lib\\site-packages\\tqdm\\std.py:697: FutureWarning: The Panel class is removed from pandas. Accessing it from the top-level namespace will also be removed in the next version\n",
      "  from pandas import Panel\n"
     ]
    }
   ],
   "source": [
    "from tqdm.notebook import tqdm\n",
    "tqdm.pandas() # for progress bars"
   ]
  },
  {
   "cell_type": "code",
   "execution_count": 312,
   "metadata": {},
   "outputs": [],
   "source": [
    "N = 2000"
   ]
  },
  {
   "cell_type": "code",
   "execution_count": 313,
   "metadata": {},
   "outputs": [
    {
     "data": {
      "application/vnd.jupyter.widget-view+json": {
       "model_id": "8464a5bf024d4e939170039274d4f3df",
       "version_major": 2,
       "version_minor": 0
      },
      "text/plain": [
       "HBox(children=(HTML(value=''), FloatProgress(value=0.0, max=30.0), HTML(value='')))"
      ]
     },
     "metadata": {},
     "output_type": "display_data"
    },
    {
     "name": "stdout",
     "output_type": "stream",
     "text": [
      "\n"
     ]
    }
   ],
   "source": [
    "data['explicit_price'] = data.progress_apply(lambda row: explicit_fd_euro(T=row['time_to_maturity'], S0=row['Close'], \n",
    "                                                                          K=row['strike'], r=0.07/100, sigma=row['vol_bisect'],\n",
    "                                                                          option_type=row['type'],\n",
    "                                                                          div=0,\n",
    "                                                                          N_timesteps=N,\n",
    "                                                                          N_xsteps=int(np.ceil(row['vol_bisect'] * (15*np.sqrt(N/3)-1)))),\n",
    "           axis=1)"
   ]
  },
  {
   "cell_type": "code",
   "execution_count": 314,
   "metadata": {},
   "outputs": [
    {
     "data": {
      "application/vnd.jupyter.widget-view+json": {
       "model_id": "f1a277ff687c4157af1b776a9183bea3",
       "version_major": 2,
       "version_minor": 0
      },
      "text/plain": [
       "HBox(children=(HTML(value=''), FloatProgress(value=0.0, max=30.0), HTML(value='')))"
      ]
     },
     "metadata": {},
     "output_type": "display_data"
    },
    {
     "name": "stdout",
     "output_type": "stream",
     "text": [
      "\n"
     ]
    }
   ],
   "source": [
    "data['implicit_price'] = data.progress_apply(lambda row: implicit_fd_euro(T=row['time_to_maturity'], S0=row['Close'], \n",
    "                                                                          K=row['strike'], r=0.07/100, sigma=row['vol_bisect'],\n",
    "                                                                          option_type=row['type'],\n",
    "                                                                          div=0,\n",
    "                                                                          N_timesteps=N,\n",
    "                                                                          N_xsteps=int(np.ceil(row['vol_bisect'] * (15*np.sqrt(N/3)-1)))),\n",
    "           axis=1)"
   ]
  },
  {
   "cell_type": "code",
   "execution_count": 315,
   "metadata": {},
   "outputs": [
    {
     "data": {
      "application/vnd.jupyter.widget-view+json": {
       "model_id": "80c76b752e80449cb01e8d2e9ddcf58d",
       "version_major": 2,
       "version_minor": 0
      },
      "text/plain": [
       "HBox(children=(HTML(value=''), FloatProgress(value=0.0, max=30.0), HTML(value='')))"
      ]
     },
     "metadata": {},
     "output_type": "display_data"
    },
    {
     "name": "stdout",
     "output_type": "stream",
     "text": [
      "\n"
     ]
    }
   ],
   "source": [
    "data['crank_nicolson_price'] = data.progress_apply(lambda row: crank_nicolson_fd_euro(T=row['time_to_maturity'], S0=row['Close'], \n",
    "                                                                          K=row['strike'], r=0.07/100, sigma=row['vol_bisect'],\n",
    "                                                                          option_type=row['type'],\n",
    "                                                                          div=0,\n",
    "                                                                          N_timesteps=N,\n",
    "                                                                          N_xsteps=int(np.ceil(row['vol_bisect'] * (15*np.sqrt(N/3)-1)))),\n",
    "           axis=1)"
   ]
  },
  {
   "cell_type": "code",
   "execution_count": 316,
   "metadata": {},
   "outputs": [
    {
     "data": {
      "text/html": [
       "<div>\n",
       "<style scoped>\n",
       "    .dataframe tbody tr th:only-of-type {\n",
       "        vertical-align: middle;\n",
       "    }\n",
       "\n",
       "    .dataframe tbody tr th {\n",
       "        vertical-align: top;\n",
       "    }\n",
       "\n",
       "    .dataframe thead th {\n",
       "        text-align: right;\n",
       "    }\n",
       "</style>\n",
       "<table border=\"1\" class=\"dataframe\">\n",
       "  <thead>\n",
       "    <tr style=\"text-align: right;\">\n",
       "      <th></th>\n",
       "      <th>bid</th>\n",
       "      <th>ask</th>\n",
       "      <th>explicit_price</th>\n",
       "      <th>implicit_price</th>\n",
       "      <th>crank_nicolson_price</th>\n",
       "    </tr>\n",
       "  </thead>\n",
       "  <tbody>\n",
       "    <tr>\n",
       "      <th>4079</th>\n",
       "      <td>113.80</td>\n",
       "      <td>116.20</td>\n",
       "      <td>117.212</td>\n",
       "      <td>117.198</td>\n",
       "      <td>117.205</td>\n",
       "    </tr>\n",
       "    <tr>\n",
       "      <th>4222</th>\n",
       "      <td>107.10</td>\n",
       "      <td>109.10</td>\n",
       "      <td>109.156</td>\n",
       "      <td>109.142</td>\n",
       "      <td>109.149</td>\n",
       "    </tr>\n",
       "    <tr>\n",
       "      <th>4080</th>\n",
       "      <td>108.65</td>\n",
       "      <td>111.15</td>\n",
       "      <td>113.117</td>\n",
       "      <td>113.103</td>\n",
       "      <td>113.110</td>\n",
       "    </tr>\n",
       "    <tr>\n",
       "      <th>4223</th>\n",
       "      <td>111.90</td>\n",
       "      <td>113.95</td>\n",
       "      <td>112.389</td>\n",
       "      <td>112.375</td>\n",
       "      <td>112.382</td>\n",
       "    </tr>\n",
       "    <tr>\n",
       "      <th>4081</th>\n",
       "      <td>106.15</td>\n",
       "      <td>108.80</td>\n",
       "      <td>109.195</td>\n",
       "      <td>109.181</td>\n",
       "      <td>109.188</td>\n",
       "    </tr>\n",
       "  </tbody>\n",
       "</table>\n",
       "</div>"
      ],
      "text/plain": [
       "         bid     ask  explicit_price  implicit_price  crank_nicolson_price\n",
       "4079  113.80  116.20         117.212         117.198               117.205\n",
       "4222  107.10  109.10         109.156         109.142               109.149\n",
       "4080  108.65  111.15         113.117         113.103               113.110\n",
       "4223  111.90  113.95         112.389         112.375               112.382\n",
       "4081  106.15  108.80         109.195         109.181               109.188"
      ]
     },
     "execution_count": 316,
     "metadata": {},
     "output_type": "execute_result"
    }
   ],
   "source": [
    "data[['bid', 'ask', 'explicit_price', 'implicit_price','crank_nicolson_price']].head().round(3)"
   ]
  },
  {
   "cell_type": "markdown",
   "metadata": {},
   "source": [
    "## c) Calculate Greeks"
   ]
  },
  {
   "cell_type": "code",
   "execution_count": 317,
   "metadata": {},
   "outputs": [],
   "source": [
    "data = data.reset_index(drop=True)"
   ]
  },
  {
   "cell_type": "code",
   "execution_count": 318,
   "metadata": {},
   "outputs": [
    {
     "data": {
      "application/vnd.jupyter.widget-view+json": {
       "model_id": "cce01b07257f4965897ecd9dadb9a9b9",
       "version_major": 2,
       "version_minor": 0
      },
      "text/plain": [
       "HBox(children=(HTML(value=''), FloatProgress(value=0.0, max=30.0), HTML(value='')))"
      ]
     },
     "metadata": {},
     "output_type": "display_data"
    },
    {
     "name": "stdout",
     "output_type": "stream",
     "text": [
      "\n"
     ]
    }
   ],
   "source": [
    "data['aux'] = data.progress_apply(lambda row: explicit_fd_euro(T=row['time_to_maturity'], S0=row['Close'], \n",
    "                                                                          K=row['strike'], r=0.07/100, sigma=row['vol_bisect'],\n",
    "                                                                          option_type=row['type'],\n",
    "                                                                          div=0,\n",
    "                                                                          N_timesteps=N,\n",
    "                                                                          N_xsteps=int(np.ceil(row['vol_bisect'] * (15*np.sqrt(N/3)-1))),\n",
    "                                                                          calculate_greeks=True),\n",
    "           axis=1)"
   ]
  },
  {
   "cell_type": "code",
   "execution_count": 319,
   "metadata": {},
   "outputs": [],
   "source": [
    "greeks = pd.DataFrame(data['aux'].tolist())\n",
    "greeks.columns = ['price', 'delta', 'gamma', 'theta']\n",
    "greeks['theta'] = greeks['theta']/252"
   ]
  },
  {
   "cell_type": "code",
   "execution_count": 320,
   "metadata": {},
   "outputs": [],
   "source": [
    "eps = 1e-3"
   ]
  },
  {
   "cell_type": "code",
   "execution_count": 321,
   "metadata": {},
   "outputs": [
    {
     "data": {
      "application/vnd.jupyter.widget-view+json": {
       "model_id": "b735a7fac1c54314bc34a1f9bf3537c5",
       "version_major": 2,
       "version_minor": 0
      },
      "text/plain": [
       "HBox(children=(HTML(value=''), FloatProgress(value=0.0, max=30.0), HTML(value='')))"
      ]
     },
     "metadata": {},
     "output_type": "display_data"
    },
    {
     "name": "stdout",
     "output_type": "stream",
     "text": [
      "\n"
     ]
    }
   ],
   "source": [
    "greeks['vega'] = data.progress_apply(lambda row: \n",
    "                                (explicit_fd_euro(T=row['time_to_maturity'], S0=row['Close'], \n",
    "                                                                          K=row['strike'], r=0.07/100, sigma=row['vol_bisect']*(1+eps),\n",
    "                                                                          option_type=row['type'],\n",
    "                                                                          div=0,\n",
    "                                                                          N_timesteps=N,\n",
    "                                                                          N_xsteps=int(np.ceil(row['vol_bisect'] * (15*np.sqrt(N/3)-1))),\n",
    "                                                                          calculate_greeks=False) - \\\n",
    "                                 explicit_fd_euro(T=row['time_to_maturity'], S0=row['Close'], \n",
    "                                                                          K=row['strike'], r=0.07/100, sigma=row['vol_bisect']*(1-eps),\n",
    "                                                                          option_type=row['type'],\n",
    "                                                                          div=0,\n",
    "                                                                          N_timesteps=N,\n",
    "                                                                          N_xsteps=int(np.ceil(row['vol_bisect'] * (15*np.sqrt(N/3)-1))),\n",
    "                                                                          calculate_greeks=False)\n",
    "                                )/(2*row['vol_bisect']*eps*100),axis=1)     "
   ]
  },
  {
   "cell_type": "code",
   "execution_count": 322,
   "metadata": {},
   "outputs": [],
   "source": [
    "data = data.join(greeks)"
   ]
  },
  {
   "cell_type": "code",
   "execution_count": 323,
   "metadata": {},
   "outputs": [],
   "source": [
    "data['mid'] = data[['ask', 'bid']].mean(axis=1)"
   ]
  },
  {
   "cell_type": "code",
   "execution_count": 324,
   "metadata": {},
   "outputs": [],
   "source": [
    "results = data[['time_to_maturity', 'strike', 'type', 'ask', 'bid', 'mid', 'vol_bisect', 'explicit_price', 'implicit_price', 'crank_nicolson_price']]"
   ]
  },
  {
   "cell_type": "code",
   "execution_count": 325,
   "metadata": {},
   "outputs": [
    {
     "data": {
      "text/html": [
       "<div>\n",
       "<style scoped>\n",
       "    .dataframe tbody tr th:only-of-type {\n",
       "        vertical-align: middle;\n",
       "    }\n",
       "\n",
       "    .dataframe tbody tr th {\n",
       "        vertical-align: top;\n",
       "    }\n",
       "\n",
       "    .dataframe thead th {\n",
       "        text-align: right;\n",
       "    }\n",
       "</style>\n",
       "<table border=\"1\" class=\"dataframe\">\n",
       "  <thead>\n",
       "    <tr style=\"text-align: right;\">\n",
       "      <th></th>\n",
       "      <th>time_to_maturity</th>\n",
       "      <th>strike</th>\n",
       "      <th>type</th>\n",
       "      <th>ask</th>\n",
       "      <th>bid</th>\n",
       "      <th>mid</th>\n",
       "      <th>vol_bisect</th>\n",
       "      <th>explicit_price</th>\n",
       "      <th>implicit_price</th>\n",
       "      <th>crank_nicolson_price</th>\n",
       "    </tr>\n",
       "  </thead>\n",
       "  <tbody>\n",
       "    <tr>\n",
       "      <th>0</th>\n",
       "      <td>0.083333</td>\n",
       "      <td>3190.0</td>\n",
       "      <td>call</td>\n",
       "      <td>116.20</td>\n",
       "      <td>113.80</td>\n",
       "      <td>115.000</td>\n",
       "      <td>0.312538</td>\n",
       "      <td>117.212253</td>\n",
       "      <td>117.197876</td>\n",
       "      <td>117.205065</td>\n",
       "    </tr>\n",
       "    <tr>\n",
       "      <th>1</th>\n",
       "      <td>0.083333</td>\n",
       "      <td>3190.0</td>\n",
       "      <td>put</td>\n",
       "      <td>109.10</td>\n",
       "      <td>107.10</td>\n",
       "      <td>108.100</td>\n",
       "      <td>0.303359</td>\n",
       "      <td>109.156368</td>\n",
       "      <td>109.142414</td>\n",
       "      <td>109.149392</td>\n",
       "    </tr>\n",
       "    <tr>\n",
       "      <th>2</th>\n",
       "      <td>0.083333</td>\n",
       "      <td>3200.0</td>\n",
       "      <td>call</td>\n",
       "      <td>111.15</td>\n",
       "      <td>108.65</td>\n",
       "      <td>109.900</td>\n",
       "      <td>0.314485</td>\n",
       "      <td>113.117484</td>\n",
       "      <td>113.102999</td>\n",
       "      <td>113.110242</td>\n",
       "    </tr>\n",
       "    <tr>\n",
       "      <th>3</th>\n",
       "      <td>0.083333</td>\n",
       "      <td>3200.0</td>\n",
       "      <td>put</td>\n",
       "      <td>113.95</td>\n",
       "      <td>111.90</td>\n",
       "      <td>112.925</td>\n",
       "      <td>0.298054</td>\n",
       "      <td>112.388865</td>\n",
       "      <td>112.375140</td>\n",
       "      <td>112.382003</td>\n",
       "    </tr>\n",
       "    <tr>\n",
       "      <th>4</th>\n",
       "      <td>0.083333</td>\n",
       "      <td>3205.0</td>\n",
       "      <td>call</td>\n",
       "      <td>108.80</td>\n",
       "      <td>106.15</td>\n",
       "      <td>107.475</td>\n",
       "      <td>0.310219</td>\n",
       "      <td>109.194826</td>\n",
       "      <td>109.180549</td>\n",
       "      <td>109.187688</td>\n",
       "    </tr>\n",
       "  </tbody>\n",
       "</table>\n",
       "</div>"
      ],
      "text/plain": [
       "   time_to_maturity  strike  type     ask     bid      mid  vol_bisect  \\\n",
       "0          0.083333  3190.0  call  116.20  113.80  115.000    0.312538   \n",
       "1          0.083333  3190.0   put  109.10  107.10  108.100    0.303359   \n",
       "2          0.083333  3200.0  call  111.15  108.65  109.900    0.314485   \n",
       "3          0.083333  3200.0   put  113.95  111.90  112.925    0.298054   \n",
       "4          0.083333  3205.0  call  108.80  106.15  107.475    0.310219   \n",
       "\n",
       "   explicit_price  implicit_price  crank_nicolson_price  \n",
       "0      117.212253      117.197876            117.205065  \n",
       "1      109.156368      109.142414            109.149392  \n",
       "2      113.117484      113.102999            113.110242  \n",
       "3      112.388865      112.375140            112.382003  \n",
       "4      109.194826      109.180549            109.187688  "
      ]
     },
     "execution_count": 325,
     "metadata": {},
     "output_type": "execute_result"
    }
   ],
   "source": [
    "results.head()"
   ]
  },
  {
   "cell_type": "code",
   "execution_count": 326,
   "metadata": {},
   "outputs": [
    {
     "data": {
      "image/png": "[encoded data removed]",
      "text/plain": [
       "<Figure size 1080x720 with 6 Axes>"
      ]
     },
     "metadata": {
      "needs_background": "light"
     },
     "output_type": "display_data"
    }
   ],
   "source": [
    "import seaborn as sns\n",
    "fig, ax = plt.subplots(figsize=(15,10), nrows=3, ncols=2)\n",
    "\n",
    "for i, maturity in enumerate(results['time_to_maturity'].unique()):\n",
    "    aux_call = pd.melt(results[(results['time_to_maturity'] == maturity) & (results['type']=='call')],\n",
    "            id_vars=['strike'], value_vars=['bid', 'mid', 'ask', 'explicit_price', 'implicit_price', 'crank_nicolson_price' ])\n",
    "    aux_put = pd.melt(results[(results['time_to_maturity'] == maturity) & (results['type']=='put')],\n",
    "            id_vars=['strike'], value_vars=['bid', 'mid', 'ask', 'explicit_price', 'implicit_price', 'crank_nicolson_price' ])\n",
    "\n",
    "    # call options\n",
    "    g = sns.barplot(\n",
    "        data=aux_call, #kind=\"bar\",\n",
    "        x=\"strike\", y=\"value\", hue=\"variable\", \n",
    "        ax=ax[i,0]\n",
    "    )\n",
    "    ax[i,0].get_legend().remove()\n",
    "    ax[i,0].set_title(f\"Maturity = {maturity} (calls)\")\n",
    "    \n",
    "    # put options\n",
    "    h = sns.barplot(\n",
    "        data=aux_put, #kind=\"bar\",\n",
    "        x=\"strike\", y=\"value\", hue=\"variable\", \n",
    "        ax=ax[i,1]\n",
    "    )\n",
    "    if i == 0:\n",
    "        ax[i,1].legend(loc=\"upper left\", bbox_to_anchor=(1, 1))\n",
    "    else:\n",
    "        ax[i,1].get_legend().remove()\n",
    "        \n",
    "    ax[i,1].set_title(f\"Maturity = {maturity} (puts)\")\n",
    "\n",
    "plt.tight_layout()\n",
    "plt.show()"
   ]
  },
  {
   "cell_type": "markdown",
   "metadata": {},
   "source": [
    "Our methods' prices consistently are higher (lower) than the bid/ask ones for calls (puts), indicating there might be some discrepancies associated with dividends or the choice for the risk-free rate."
   ]
  },
  {
   "cell_type": "markdown",
   "metadata": {},
   "source": [
    "# Problem 3"
   ]
  },
  {
   "cell_type": "markdown",
   "metadata": {},
   "source": [
    "## a) Discretizing"
   ]
  },
  {
   "cell_type": "markdown",
   "metadata": {},
   "source": [
    "For the PDE\n",
    "\n",
    "$$\\frac{\\partial V}{\\partial t} + 2 \\cos(S) \\frac{\\partial V}{\\partial S} + 0.2 S^{3/2} \\frac{\\partial^2 V}{\\partial S^2} - rV  0$$"
   ]
  },
  {
   "cell_type": "markdown",
   "metadata": {},
   "source": [
    "let us call $\\mu(S) = 2\\cos(S)$ and $\\sigma(S) = 0.2 S^{3/2}$. The under the explicit scheme, same as before\n",
    "\n",
    "$$\\begin{align*}\n",
    "\\frac{\\partial V}{\\partial t} (i,j) &= \\frac{V_{i+1,j} - V_{i,j}}{\\Delta t}\\\\\n",
    "\\frac{\\partial V}{\\partial S} (i,j) &= \\frac{V_{i+1,j+1} - V_{i+1,j-1}}{2 \\Delta S}\\\\\n",
    "\\frac{\\partial^2 V}{\\partial S^2} (i,j) &= \\frac{V_{i+1,j+1} - 2 V_{i+1,j} + V_{i+1,j-1}}{\\Delta S^2}\n",
    "\\end{align*}$$\n"
   ]
  },
  {
   "cell_type": "markdown",
   "metadata": {},
   "source": [
    "We shall also write $S = j \\Delta S$, such that \n",
    "$$\\mu_{i,j} = 2 \\cos (j \\Delta S)$$\n",
    "$$\\sigma_{i,j} = 0.2 (j \\Delta S)^{3/2}$$"
   ]
  },
  {
   "cell_type": "markdown",
   "metadata": {},
   "source": [
    "Putting everything together we get\n",
    "$$\\frac{V_{i+1,j} - V_{i,j}}{\\Delta t} + \\mu_{i,j} \\frac{V_{i+1,j+1} - V_{i+1,j-1}}{2 \\Delta S} + \\sigma_{i,j} \\frac{V_{i+1,j+1} - 2 V_{i+1,j} + V_{i+1,j-1}}{\\Delta S^2}$$"
   ]
  },
  {
   "cell_type": "markdown",
   "metadata": {},
   "source": [
    "$$\\frac{V_{i,j}}{\\Delta t } = \\left[\n",
    "V_{i+1,j+1} \\left( \\frac{\\mu_{ij}}{2\\Delta S} + \\frac{\\sigma_{ij}}{\\Delta S^2} \\right) + \n",
    "V_{i+1,j} \\left(\\frac{1}{\\Delta t} - \\frac{2 \\sigma_{ij}}{\\Delta S^2}\\right) +\n",
    "V_{i+1,j-1} \\left( -\\frac{\\mu_{ij}}{2\\Delta S} + \\frac{\\sigma_{ij}}{\\Delta S^2} \\right) \n",
    "\\right]$$"
   ]
  },
  {
   "cell_type": "markdown",
   "metadata": {},
   "source": [
    "$$\\boxed{V_{i,j} = p_u V_{i+1, j+1} + p_m V_{i+1,j} + p_d V_{i+1,j-1}}$$\n",
    "where\n",
    "\n",
    "$$\\boxed{\\begin{align*}\n",
    "p_u &= \\Delta t \\left( \\frac{\\mu_{ij}}{2\\Delta S} + \\frac{\\sigma_{ij}}{\\Delta S^2} \\right)\\\\\n",
    "p_m &= \\Delta t \\left(\\frac{1}{\\Delta t} - \\frac{2 \\sigma_{ij}}{\\Delta S^2}\\right)\\\\\n",
    "p_d &= \\Delta t \\left( -\\frac{\\mu_{ij}}{2\\Delta S} + \\frac{\\sigma_{ij}}{\\Delta S^2} \\right)\n",
    "\\end{align*}}$$"
   ]
  },
  {
   "cell_type": "markdown",
   "metadata": {},
   "source": [
    "**Notice how the coefficients are $j$-dependent** since $\\mu$ and $\\sigma$ are functions of $j$."
   ]
  },
  {
   "cell_type": "markdown",
   "metadata": {},
   "source": [
    "## b) Boundary conditions"
   ]
  },
  {
   "cell_type": "markdown",
   "metadata": {},
   "source": [
    "Any call option must satisfy, regardless of the underlying dynamics, that:\n",
    "* Value at maturity must be the payoff\n",
    "* Value for high $S$ should be asymptotically equal to it, meaning a von Neumann boundary condition = 1\n",
    "* The call option's value cannot be lower than the asset itself, which is bounded below at 0. Thus there is a Dirichlet boundary condition = 0 at $S=0$."
   ]
  }
 ],
 "metadata": {
  "kernelspec": {
   "display_name": "Python 3",
   "language": "python",
   "name": "python3"
  },
  "language_info": {
   "codemirror_mode": {
    "name": "ipython",
    "version": 3
   },
   "file_extension": ".py",
   "mimetype": "text/x-python",
   "name": "python",
   "nbconvert_exporter": "python",
   "pygments_lexer": "ipython3",
   "version": "3.7.9"
  },
  "toc": {
   "base_numbering": 1,
   "nav_menu": {},
   "number_sections": true,
   "sideBar": true,
   "skip_h1_title": false,
   "title_cell": "Table of Contents",
   "title_sidebar": "Contents",
   "toc_cell": false,
   "toc_position": {},
   "toc_section_display": true,
   "toc_window_display": false
  }
 },
 "nbformat": 4,
 "nbformat_minor": 4
}
