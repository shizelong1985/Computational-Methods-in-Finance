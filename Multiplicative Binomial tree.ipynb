{
 "cells": [
  {
   "cell_type": "markdown",
   "metadata": {},
   "source": [
    "# Problem 1"
   ]
  },
  {
   "cell_type": "markdown",
   "metadata": {},
   "source": [
    "Notation:"
   ]
  },
  {
   "cell_type": "markdown",
   "metadata": {},
   "source": [
    "* $\\tau \\equiv T-t$: time to maturity (in years)\n",
    "* $S(t)$: spot value for price\n",
    "* $\\sigma$: standard deviation of log-returns assuming Black-Scholes model\n",
    "* $\\Delta t = \\tau/n$: discretized time step\n",
    "* $u = \\exp(\\sigma \\sqrt{\\Delta T})$: increase factor for spot; $d = 1/u$ decrease factor"
   ]
  },
  {
   "cell_type": "markdown",
   "metadata": {},
   "source": [
    "## a) Build pricer"
   ]
  },
  {
   "cell_type": "markdown",
   "metadata": {},
   "source": [
    "Settings:"
   ]
  },
  {
   "cell_type": "code",
   "execution_count": 66,
   "metadata": {},
   "outputs": [],
   "source": [
    "n_steps = 10\n",
    "tau = 1.0 \n",
    "dt = tau/n_steps\n",
    "sigma = 0.30\n",
    "\n",
    "spot = 1\n",
    "risk_free_rate = 0.03\n",
    "\n",
    "assert 0<=p <= 1"
   ]
  },
  {
   "cell_type": "markdown",
   "metadata": {},
   "source": [
    "**First step**: build tree"
   ]
  },
  {
   "cell_type": "code",
   "execution_count": 67,
   "metadata": {},
   "outputs": [],
   "source": [
    "def build_stock_tree(spot, tau, n_steps):\n",
    "    \n",
    "    # parameters\n",
    "    dt = tau/n_steps\n",
    "    u = np.exp(sigma*np.sqrt(dt))\n",
    "    d = 1.0/u\n",
    "    p = (np.exp(risk_free_rate*dt)-d) / (u-d) \n",
    "    \n",
    "    # initialize stock values matrix as all zeros - we will only \n",
    "    # fill half the values\n",
    "    stock = np.zeros((n+1,n+1))\n",
    "    stock[0,0] = spot\n",
    "    for i in range(1,n+1):\n",
    "        stock[i,0] = u*stock[i-1,0]\n",
    "        for j in range(1,i+1):\n",
    "            stock[i,j] = d*stock[i-1,j-1]\n",
    "    return stock"
   ]
  },
  {
   "cell_type": "code",
   "execution_count": 68,
   "metadata": {},
   "outputs": [
    {
     "data": {
      "text/plain": [
       "array([[1. , 0. , 0. , 0. , 0. , 0. , 0. , 0. , 0. , 0. , 0. ],\n",
       "       [1.1, 0.9, 0. , 0. , 0. , 0. , 0. , 0. , 0. , 0. , 0. ],\n",
       "       [1.2, 1. , 0.8, 0. , 0. , 0. , 0. , 0. , 0. , 0. , 0. ],\n",
       "       [1.3, 1.1, 0.9, 0.8, 0. , 0. , 0. , 0. , 0. , 0. , 0. ],\n",
       "       [1.5, 1.2, 1. , 0.8, 0.7, 0. , 0. , 0. , 0. , 0. , 0. ],\n",
       "       [1.6, 1.3, 1.1, 0.9, 0.8, 0.6, 0. , 0. , 0. , 0. , 0. ],\n",
       "       [1.8, 1.5, 1.2, 1. , 0.8, 0.7, 0.6, 0. , 0. , 0. , 0. ],\n",
       "       [1.9, 1.6, 1.3, 1.1, 0.9, 0.8, 0.6, 0.5, 0. , 0. , 0. ],\n",
       "       [2.1, 1.8, 1.5, 1.2, 1. , 0.8, 0.7, 0.6, 0.5, 0. , 0. ],\n",
       "       [2.3, 1.9, 1.6, 1.3, 1.1, 0.9, 0.8, 0.6, 0.5, 0.4, 0. ],\n",
       "       [2.6, 2.1, 1.8, 1.5, 1.2, 1. , 0.8, 0.7, 0.6, 0.5, 0.4]])"
      ]
     },
     "execution_count": 68,
     "metadata": {},
     "output_type": "execute_result"
    }
   ],
   "source": [
    "# visualize output\n",
    "build_stock_tree(spot=1, tau=1.0, n_steps=10).round(1)"
   ]
  },
  {
   "cell_type": "markdown",
   "metadata": {},
   "source": [
    "**Second step**: build pricer for European vanilla options"
   ]
  },
  {
   "cell_type": "code",
   "execution_count": 69,
   "metadata": {},
   "outputs": [],
   "source": [
    "def european_pricer(option_type, stock, strike, tau, n_steps, risk_free_rate):\n",
    "    \n",
    "    assert option_type in ['call', 'put'], \"Bad option type\"\n",
    "    \n",
    "    # parameters\n",
    "    dt = tau/n_steps\n",
    "    u = np.exp(sigma*np.sqrt(dt))\n",
    "    d = 1.0/u\n",
    "    p = (np.exp(risk_free_rate*dt)-d) / (u-d) \n",
    "\n",
    "    # boundary conditions: options value at final node\n",
    "    value = np.zeros((n+1, n+1))\n",
    "    for j in range(n+1):\n",
    "        if option_type == 'call':\n",
    "            value[n, j] = max(stock[n_steps, j]- strike, 0)\n",
    "        else: \n",
    "            value[n, j] = max(strike - stock[n_steps, j], 0)\n",
    "            \n",
    "    # now we just propagate back - since these are European options,\n",
    "    # value at each node is just the propagated discounted expectation\n",
    "    for i in range(n-1, -1, -1):\n",
    "        for j in range(i+1):\n",
    "            value[i, j] = np.exp(-risk_free_rate*dt) * (p * value[i+1, j] + (1-p) * value[i+1, j+1])\n",
    "    \n",
    "    return value[0,0]"
   ]
  },
  {
   "cell_type": "markdown",
   "metadata": {},
   "source": [
    "**Test**: to see if this works, we check whether the put-call parity $$c(t) - p(t) = S(t) - K e^{-r(T-t)}$$ holds"
   ]
  },
  {
   "cell_type": "code",
   "execution_count": 70,
   "metadata": {},
   "outputs": [
    {
     "name": "stdout",
     "output_type": "stream",
     "text": [
      "Call price (European):  16.4405\n",
      "Put price (European):  6.9242\n"
     ]
    }
   ],
   "source": [
    "tau, n_steps, r, spot = 1.0, 10, 0.1, 100\n",
    "strike = 100\n",
    "\n",
    "stock = build_stock_tree(spot=spot, tau=tau, n_steps=n_steps)\n",
    "call_price_eur = european_pricer('call', stock=stock, strike=strike, tau=tau, n_steps=n_steps, risk_free_rate=r)\n",
    "print(\"Call price (European): \", round(call_price_eur, 4))\n",
    "put_price_eur = european_pricer('put', stock=stock, strike=strike, tau=tau, n_steps=n_steps, risk_free_rate=r)\n",
    "print(\"Put price (European): \", round(put_price_eur, 4))"
   ]
  },
  {
   "cell_type": "code",
   "execution_count": 71,
   "metadata": {},
   "outputs": [
    {
     "name": "stdout",
     "output_type": "stream",
     "text": [
      "9.5163\n"
     ]
    }
   ],
   "source": [
    "# left-hand side\n",
    "print(round(call_price_eur - put_price_eur,4))"
   ]
  },
  {
   "cell_type": "code",
   "execution_count": 72,
   "metadata": {},
   "outputs": [
    {
     "name": "stdout",
     "output_type": "stream",
     "text": [
      "9.5163\n"
     ]
    }
   ],
   "source": [
    "# right-hand side\n",
    "print(round(spot - strike * np.exp(-r*tau),4))"
   ]
  },
  {
   "cell_type": "markdown",
   "metadata": {},
   "source": [
    "As we can see both match."
   ]
  },
  {
   "cell_type": "markdown",
   "metadata": {},
   "source": [
    "**Third step**: adjust code above for American options"
   ]
  },
  {
   "cell_type": "code",
   "execution_count": 56,
   "metadata": {},
   "outputs": [],
   "source": [
    "def american_pricer(option_type, stock, strike, tau, n_steps, risk_free_rate):\n",
    "    \n",
    "    assert option_type in ['call', 'put'], \"Bad option type\"\n",
    "    \n",
    "    # parameters\n",
    "    dt = tau/n_steps\n",
    "    u = np.exp(sigma*np.sqrt(dt))\n",
    "    d = 1.0/u\n",
    "    p = (np.exp(risk_free_rate*dt)-d) / (u-d) \n",
    "\n",
    "    # boundary conditions: options value at final node\n",
    "    value = np.zeros((n+1, n+1))\n",
    "    for j in range(n+1):\n",
    "        if option_type == 'call':\n",
    "            value[n, j] = max(stock[n_steps, j]- strike, 0)\n",
    "        else: \n",
    "            value[n, j] = max(strike - stock[n_steps, j], 0)\n",
    "            \n",
    "    # now we just propagate back and check on which is higher: implicit value \n",
    "    # or discounted propagated value\n",
    "    for i in range(n-1, -1, -1):\n",
    "        for j in range(i+1):\n",
    "            if option_type == 'call':\n",
    "                value[i, j] = max(np.exp(-risk_free_rate*dt) * (p * value[i+1, j] + (1-p) * value[i+1, j+1]),\n",
    "                                  max(stock[i,j] - strike, 0)\n",
    "                                 )\n",
    "            else:\n",
    "                value[i, j] = max(np.exp(-risk_free_rate*dt) * (p * value[i+1, j] + (1-p) * value[i+1, j+1]),\n",
    "                                  max(strike - stock[i,j], 0)\n",
    "                                 )\n",
    "    \n",
    "    return value[0,0]"
   ]
  },
  {
   "cell_type": "markdown",
   "metadata": {},
   "source": [
    "**Test**: for an American call without dividends, its value should be the same as the equivalent European one (i.e. optimal exercise is at maturity)"
   ]
  },
  {
   "cell_type": "code",
   "execution_count": 63,
   "metadata": {},
   "outputs": [
    {
     "name": "stdout",
     "output_type": "stream",
     "text": [
      "Call price (American):  16.4405\n",
      "Call price (European):  16.4405\n"
     ]
    }
   ],
   "source": [
    "call_price_amer = american_pricer('call', stock=stock, strike=strike, tau=tau, n_steps=n_steps, risk_free_rate=r)\n",
    "print(\"Call price (American): \", round(call_price_amer, 4))\n",
    "print(\"Call price (European): \", round(call_price_eur, 4))"
   ]
  },
  {
   "cell_type": "markdown",
   "metadata": {},
   "source": [
    "**Second test**: values for American puts should be greater or equal than the equivalent European option"
   ]
  },
  {
   "cell_type": "code",
   "execution_count": 64,
   "metadata": {},
   "outputs": [
    {
     "name": "stdout",
     "output_type": "stream",
     "text": [
      "Put price (American):  8.1963\n",
      "Put price (European):  6.9242\n"
     ]
    }
   ],
   "source": [
    "put_price_amer = american_pricer('put', stock=stock, strike=strike, tau=tau, n_steps=n_steps, risk_free_rate=r)\n",
    "print(\"Put price (American): \", round(put_price_amer, 4))\n",
    "print(\"Put price (European): \", round(put_price_eur, 4))"
   ]
  }
 ],
 "metadata": {
  "kernelspec": {
   "display_name": "Python 3",
   "language": "python",
   "name": "python3"
  },
  "language_info": {
   "codemirror_mode": {
    "name": "ipython",
    "version": 3
   },
   "file_extension": ".py",
   "mimetype": "text/x-python",
   "name": "python",
   "nbconvert_exporter": "python",
   "pygments_lexer": "ipython3",
   "version": "3.7.9"
  },
  "toc": {
   "base_numbering": 1,
   "nav_menu": {},
   "number_sections": true,
   "sideBar": true,
   "skip_h1_title": false,
   "title_cell": "Table of Contents",
   "title_sidebar": "Contents",
   "toc_cell": false,
   "toc_position": {},
   "toc_section_display": true,
   "toc_window_display": false
  }
 },
 "nbformat": 4,
 "nbformat_minor": 4
}
