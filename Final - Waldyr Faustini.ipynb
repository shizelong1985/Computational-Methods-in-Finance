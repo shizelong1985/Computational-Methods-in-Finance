{
 "cells": [
  {
   "cell_type": "code",
   "execution_count": 1,
   "metadata": {},
   "outputs": [],
   "source": [
    "import numpy as np\n",
    "import matplotlib.pyplot as plt\n",
    "import pandas as pd\n",
    "from tqdm.notebook import tqdm\n",
    "from time import time\n",
    "from scipy import stats\n",
    "\n",
    "from numba import jit"
   ]
  },
  {
   "cell_type": "markdown",
   "metadata": {},
   "source": [
    "# Problem 1: arithmetic Asian option"
   ]
  },
  {
   "cell_type": "markdown",
   "metadata": {},
   "source": [
    "For MC calculations with millions of samples, we will again be using `numba` for high-performance calculation. In particular, we cannot use the `scipy` implementation of the Gaussian CDF. We will then use the Beasley-Springer-Moro algorithm (which we also used in HW4) as described in here: https://www.quantstart.com/articles/Statistical-Distributions-in-C/\n",
    "\n",
    "Also, notice that we can write $d_2 = d_1 - \\hat{\\sigma}\\sqrt{T}$, which we can use for faster computation."
   ]
  },
  {
   "cell_type": "markdown",
   "metadata": {},
   "source": [
    "## a) Analytical price for geometric Asian option"
   ]
  },
  {
   "cell_type": "code",
   "execution_count": 6,
   "metadata": {},
   "outputs": [],
   "source": [
    "@jit(nopython=True)\n",
    "def normal_cdf(x):\n",
    "    \"\"\"\n",
    "    Returns F(x) = Prob(X<x) for X ~ N(0,1) in the Beasley-Springer-Moro approximation\n",
    "    \"\"\"\n",
    "    k = 1.0/(1.0 + 0.2316419*x);\n",
    "    k_sum = k*(0.319381530 + k*(-0.356563782 + k*(1.781477937 + k*(-1.821255978 + 1.330274429*k))))\n",
    "\n",
    "    if x >= 0:\n",
    "        return (1.0 - (1.0/np.sqrt(2*np.pi))*np.exp(-0.5*x*x) * k_sum)\n",
    "    else:\n",
    "        return 1.0 - normal_cdf(-x)\n"
   ]
  },
  {
   "cell_type": "code",
   "execution_count": 7,
   "metadata": {},
   "outputs": [],
   "source": [
    "@jit(nopython=True)\n",
    "def geom_asian_call_price(S0, K, r, sigma, T):\n",
    "    \"\"\"\n",
    "    Returns price for geometric Asian option taken over N+1 steps\n",
    "    \"\"\"\n",
    "    \n",
    "    N = 252.0 * T \n",
    "    sigma_hat = sigma * np.sqrt((2*N+1)/(6*(N+1)))\n",
    "    rho = 0.5 * (r - 0.5*sigma**2 + sigma_hat**2)\n",
    "    \n",
    "    d1 = 1.0/(np.sqrt(T)*sigma_hat) * (np.log(S0/K) + (rho+sigma_hat**2/2)*T)\n",
    "    d2 = d1 - sigma_hat*np.sqrt(T)\n",
    "    \n",
    "    price = np.exp(-r*T) * (S0 * np.exp(rho*T)*normal_cdf(d1) - K * normal_cdf(d2))\n",
    "    return price"
   ]
  },
  {
   "cell_type": "code",
   "execution_count": 8,
   "metadata": {},
   "outputs": [
    {
     "name": "stdout",
     "output_type": "stream",
     "text": [
      "Geometric Asian option price (exact): 15.17\n"
     ]
    }
   ],
   "source": [
    "p_g = geom_asian_call_price(S0=100.0, K=100.0, r=0.03, sigma=0.3, T=5.0)\n",
    "print(\"Geometric Asian option price (exact): %.2f\" % p_g)"
   ]
  },
  {
   "cell_type": "markdown",
   "metadata": {},
   "source": [
    "## b) Standard MC for arithmetic Asian option"
   ]
  },
  {
   "cell_type": "markdown",
   "metadata": {},
   "source": [
    "For the Monte-Carlo simulations below, since we want to keep track of the calculation time, we wrap the MC functions into a time tracker (as we also did in HW4)."
   ]
  },
  {
   "cell_type": "code",
   "execution_count": 5,
   "metadata": {},
   "outputs": [],
   "source": [
    "def time_function(func):\n",
    "    \"\"\"\n",
    "    Take a function returning a price and a standard error, and also add the\n",
    "    runtime duration to the return arguments \n",
    "    \"\"\"\n",
    "    def timed(*args, **kwargs):\n",
    "        t0 = time()\n",
    "        opt_value, opt_se = func(*args, **kwargs)\n",
    "        duration = time() - t0\n",
    "        return opt_value, opt_se, duration\n",
    "    return timed\n"
   ]
  },
  {
   "cell_type": "markdown",
   "metadata": {},
   "source": [
    "We store the running sum in a variable $X$:\n",
    "$$X_k = \\sum_{i=0}^k S_{t_i}$$\n",
    "and then average (with $1/(N+1)$) in the end for computing the payoff. Since we need to calculate an exponential at every iteration (for $S_t = \\exp(\\ln S_t)$) the calculation can be a bit slow."
   ]
  },
  {
   "cell_type": "code",
   "execution_count": 6,
   "metadata": {},
   "outputs": [],
   "source": [
    "@jit(nopython=True)\n",
    "def _arith_asian_call_price_mc(S0, K, r, sigma, T, n_sims=1000):\n",
    "    \n",
    "    # We use the codes from HW4 for the div=0 case\n",
    "    n_steps = int(252*T)\n",
    "    dt = T/n_steps\n",
    "    nudt = (r - 0.5*sigma**2)*dt\n",
    "    sigsdt = sigma * np.sqrt(dt)\n",
    "    \n",
    "    sum_CT, sum_CT2 = 0, 0\n",
    "    \n",
    "    for _ in range(n_sims):\n",
    "        S = S0\n",
    "        X = S\n",
    "        for i in range(n_steps):\n",
    "            # expensive calculation of exponential at every iteration\n",
    "            S = S*np.exp(nudt + np.random.randn() * sigsdt)\n",
    "            X += S\n",
    "            \n",
    "        # values at maturity\n",
    "        ST = X/(n_steps+1)\n",
    "        CT = max(0, ST-K)\n",
    "        \n",
    "        sum_CT += CT\n",
    "        sum_CT2 += CT**2\n",
    "    \n",
    "    opt_value = np.exp(-r*T) * (sum_CT/n_sims)\n",
    "    opt_std = np.exp(-r*T) * 1/(n_sims-1) * (sum_CT2 - (1/n_sims)* (sum_CT)**2)\n",
    "    opt_se = opt_std/np.sqrt(n_sims)\n",
    "    \n",
    "    return opt_value, opt_se\n",
    "\n",
    "arith_asian_call_price_mc = time_function(_arith_asian_call_price_mc)\n",
    "\n",
    "# run once to compile\n",
    "_, _ = _arith_asian_call_price_mc(S0=100.0, K=100.0, r=0.03, sigma=0.2, T=1.0, n_sims=10)\n"
   ]
  },
  {
   "cell_type": "code",
   "execution_count": 7,
   "metadata": {},
   "outputs": [],
   "source": [
    "p_a_sim, err, duration = arith_asian_call_price_mc(S0=100.0, K=100.0, r=0.03, sigma=0.3, T=5.0, n_sims=1000000)"
   ]
  },
  {
   "cell_type": "code",
   "execution_count": 8,
   "metadata": {},
   "outputs": [
    {
     "name": "stdout",
     "output_type": "stream",
     "text": [
      "Arithmetic Asian option (Monte-Carlo, 1 million samples)\n",
      "> Price: 17.47\n",
      "> Error: 1.10\n",
      "> Calculation time: 58.2 seconds\n"
     ]
    }
   ],
   "source": [
    "print(\"Arithmetic Asian option (Monte-Carlo, 1 million samples)\")\n",
    "print(\"> Price: %.2f\" % p_a_sim)\n",
    "print(\"> Error: %.2f\" % err)\n",
    "print(\"> Calculation time: %.1f seconds\" % duration)"
   ]
  },
  {
   "cell_type": "markdown",
   "metadata": {},
   "source": [
    "Assuming a normal distribution for the price, the 95% confidence interval will be $[\\hat{x} - 1.96 \\sigma, \\hat{x} + 1.96 \\sigma]$ or:"
   ]
  },
  {
   "cell_type": "code",
   "execution_count": 9,
   "metadata": {},
   "outputs": [
    {
     "data": {
      "text/plain": [
       "(15.32, 19.61)"
      ]
     },
     "execution_count": 9,
     "metadata": {},
     "output_type": "execute_result"
    }
   ],
   "source": [
    "(round(p_a_sim-1.96*err,2), round(p_a_sim+1.96*err,2))"
   ]
  },
  {
   "cell_type": "markdown",
   "metadata": {},
   "source": [
    "This result makes sense - it is more expensive than the geometric counterpart, since arithmetic averages are higher or equal to geometric ones, thus the arithmetic option is more in-the-money than a geometric one, and is thus more valuable. However, the error is still very high even at a million MC samples."
   ]
  },
  {
   "cell_type": "markdown",
   "metadata": {},
   "source": [
    "## c) Standard MC for geometric Asian option"
   ]
  },
  {
   "cell_type": "markdown",
   "metadata": {},
   "source": [
    "We want to compute the MC approximation for $(\\bar S - K)^+$, where\n",
    "\n",
    "$$\\bar S \\equiv \\left(\\prod_{i=0}^N S_{t_i} \\right)^{1/(N+1)}$$"
   ]
  },
  {
   "cell_type": "markdown",
   "metadata": {},
   "source": [
    "Notice that it is easier (and computationally cheaper) to take the log of both sides and instead compute\n",
    "\n",
    "$$\\bar{S} = e^{X/(N+1)}$$ \n",
    "\n",
    "where $X \\equiv \\sum_{i=0}^N \\log S_{t_i}$. Thus, at every time step, we can just update $X$ and take the exponential in the end. Specifically,\n",
    "\n",
    "$$\\log S_{i+1} = \\log S_i + (r-\\sigma^2/2)\\Delta t + \\sigma \\sqrt{\\Delta t} \\epsilon_i,\\qquad \\epsilon_i \\sim N(0,1)$$"
   ]
  },
  {
   "cell_type": "markdown",
   "metadata": {},
   "source": [
    "$$X_{i+1} = X_i + \\log S_{i+1}$$"
   ]
  },
  {
   "cell_type": "code",
   "execution_count": 10,
   "metadata": {},
   "outputs": [],
   "source": [
    "@jit(nopython=True)\n",
    "def _geom_asian_call_price_mc(S0, K, r, sigma, T, n_sims=1000):\n",
    "    \n",
    "    # We use the codes from HW4 for the div=0 case\n",
    "    n_steps = int(252*T)\n",
    "    dt = T/n_steps\n",
    "    nudt = (r - 0.5*sigma**2)*dt\n",
    "    sigsdt = sigma * np.sqrt(dt)\n",
    "    \n",
    "    sum_CT, sum_CT2 = 0, 0\n",
    "    \n",
    "    for _ in range(n_sims):\n",
    "        lnS = np.log(S0)\n",
    "        X = lnS\n",
    "        for i in range(n_steps):\n",
    "            lnS += nudt + np.random.randn() * sigsdt\n",
    "            X += lnS\n",
    "            \n",
    "        # values at maturity\n",
    "        ST = np.exp(X/(n_steps+1))\n",
    "        CT = max(0, ST-K)\n",
    "        \n",
    "        sum_CT += CT\n",
    "        sum_CT2 += CT**2\n",
    "    \n",
    "    opt_value = np.exp(-r*T) * (sum_CT/n_sims)\n",
    "    opt_std = np.exp(-r*T) * 1/(n_sims-1) * (sum_CT2 - (1/n_sims)* (sum_CT)**2)\n",
    "    opt_se = opt_std/np.sqrt(n_sims)\n",
    "    \n",
    "    return opt_value, opt_se\n",
    "\n",
    "geom_asian_call_price_mc = time_function(_geom_asian_call_price_mc)\n",
    "\n",
    "# run once to compile\n",
    "_, _ = _geom_asian_call_price_mc(S0=100.0, K=100.0, r=0.03, sigma=0.2, T=1.0, n_sims=10)\n"
   ]
  },
  {
   "cell_type": "markdown",
   "metadata": {},
   "source": [
    "Let us compare this with the analytical result, to ensure we are on the right track:"
   ]
  },
  {
   "cell_type": "code",
   "execution_count": 11,
   "metadata": {},
   "outputs": [],
   "source": [
    "p_g_sim, err, duration = geom_asian_call_price_mc(S0=100.0, K=100.0, r=0.03, sigma=0.3, T=5.0, n_sims=1000000)"
   ]
  },
  {
   "cell_type": "code",
   "execution_count": 12,
   "metadata": {},
   "outputs": [
    {
     "name": "stdout",
     "output_type": "stream",
     "text": [
      "Geometric Asian option (Monte-Carlo, 1 million samples)\n",
      "> Price: 15.15\n",
      "> Error: 0.82\n",
      "> Calculation time: 36.0 seconds\n"
     ]
    }
   ],
   "source": [
    "print(\"Geometric Asian option (Monte-Carlo, 1 million samples)\")\n",
    "print(\"> Price: %.2f\" % p_g_sim)\n",
    "print(\"> Error: %.2f\" % err)\n",
    "print(\"> Calculation time: %.1f seconds\" % duration)"
   ]
  },
  {
   "cell_type": "markdown",
   "metadata": {},
   "source": [
    "The price matches the analytical one within the standard error."
   ]
  },
  {
   "cell_type": "markdown",
   "metadata": {},
   "source": [
    "## d) Correlation coefficient for arith. and geom. Asian options"
   ]
  },
  {
   "cell_type": "markdown",
   "metadata": {},
   "source": [
    "We will adapt the codes above to return not only the averages, but also the Monte-Carlo samples."
   ]
  },
  {
   "cell_type": "markdown",
   "metadata": {},
   "source": [
    "Basically, we add a vector which keeps the values of the prices and returns it"
   ]
  },
  {
   "cell_type": "code",
   "execution_count": 13,
   "metadata": {},
   "outputs": [],
   "source": [
    "@jit(nopython=True)\n",
    "def both_asian_call_price_mc_samples(S0, K, r, sigma, T, n_sims=1000):\n",
    "    \n",
    "    n_steps = int(252*T)\n",
    "    dt = T/n_steps\n",
    "    nudt = (r - 0.5*sigma**2)*dt\n",
    "    sigsdt = sigma * np.sqrt(dt)\n",
    "    \n",
    "    Y_list = [] # keeps value for arithmetic option\n",
    "    X_list = [] # keeps value for geometric option\n",
    "    for _ in range(n_sims):\n",
    "        S = S0\n",
    "        lnS = np.log(S0)\n",
    "        X = S\n",
    "        Y = lnS\n",
    "        for i in range(n_steps):\n",
    "            # expensive calculation of exponential at every iteration\n",
    "            S = S*np.exp(nudt + np.random.randn() * sigsdt)\n",
    "            X += S\n",
    "            Y += np.log(S)\n",
    "            \n",
    "        # values at maturity\n",
    "        ST_arit = X/(n_steps+1)\n",
    "        ST_geom = np.exp(Y/(n_steps+1))\n",
    "        CT_arit = np.exp(-r*T) * max(0, ST_arit-K)\n",
    "        CT_geom = np.exp(-r*T) * max(0, ST_geom-K)\n",
    "        \n",
    "        X_list.append(CT_arit)\n",
    "        Y_list.append(CT_geom)\n",
    "        \n",
    "        \n",
    "    return np.array(X_list), np.array(Y_list)\n",
    "\n",
    "# run once to compile\n",
    "_, _ = both_asian_call_price_mc_samples(S0=100.0, K=100.0, r=0.03, sigma=0.2, T=1.0, n_sims=10)"
   ]
  },
  {
   "cell_type": "code",
   "execution_count": 29,
   "metadata": {},
   "outputs": [],
   "source": [
    "X, Y = both_asian_call_price_mc_samples(S0=100.0, K=100.0, r=0.03, sigma=0.3, T=5.0, n_sims=10000)"
   ]
  },
  {
   "cell_type": "markdown",
   "metadata": {},
   "source": [
    "Check that these give values on the same order of magnitude as before:"
   ]
  },
  {
   "cell_type": "code",
   "execution_count": 30,
   "metadata": {},
   "outputs": [
    {
     "data": {
      "text/plain": [
       "(17.59, 15.25)"
      ]
     },
     "execution_count": 30,
     "metadata": {},
     "output_type": "execute_result"
    }
   ],
   "source": [
    "round(np.mean(X),2), round(np.mean(Y), 2)"
   ]
  },
  {
   "cell_type": "markdown",
   "metadata": {},
   "source": [
    "Run linear regression:"
   ]
  },
  {
   "cell_type": "code",
   "execution_count": 31,
   "metadata": {},
   "outputs": [],
   "source": [
    "import scipy.stats \n",
    "b = scipy.stats.linregress(X, Y).slope"
   ]
  },
  {
   "cell_type": "code",
   "execution_count": 32,
   "metadata": {},
   "outputs": [
    {
     "name": "stdout",
     "output_type": "stream",
     "text": [
      "Slope coefficient:  0.859\n"
     ]
    }
   ],
   "source": [
    "print(\"Slope coefficient: \", round(b,3))"
   ]
  },
  {
   "cell_type": "code",
   "execution_count": 33,
   "metadata": {},
   "outputs": [
    {
     "data": {
      "image/png": "[encoded data removed]",
      "text/plain": [
       "<Figure size 432x288 with 1 Axes>"
      ]
     },
     "metadata": {
      "needs_background": "light"
     },
     "output_type": "display_data"
    }
   ],
   "source": [
    "plt.scatter(X, Y, alpha=0.1)\n",
    "plt.plot(X, b*X, color='black', linestyle='-.', alpha=0.3)\n",
    "plt.show()"
   ]
  },
  {
   "cell_type": "markdown",
   "metadata": {},
   "source": [
    "## e) Error of pricing a geometric Asian option via MC"
   ]
  },
  {
   "cell_type": "markdown",
   "metadata": {},
   "source": [
    "Using the values calculated for the vector $Y$ above:"
   ]
  },
  {
   "cell_type": "code",
   "execution_count": 37,
   "metadata": {},
   "outputs": [
    {
     "name": "stdout",
     "output_type": "stream",
     "text": [
      "Standard error for the geometric price: 0.27\n"
     ]
    }
   ],
   "source": [
    "print(\"Standard error for the geometric price: %.2f\" % (np.std(Y-p_g)/np.sqrt(len(Y))))"
   ]
  },
  {
   "cell_type": "markdown",
   "metadata": {},
   "source": [
    "## f) Error of pricing an arithmetic Asian option via control variate MC"
   ]
  },
  {
   "cell_type": "code",
   "execution_count": 38,
   "metadata": {},
   "outputs": [
    {
     "name": "stdout",
     "output_type": "stream",
     "text": [
      "Standard error for the control-variate price: 0.08\n"
     ]
    }
   ],
   "source": [
    "print(\"Standard error for the control-variate price: %.2f\" % (np.std(X - b*(Y-p_g))/np.sqrt(len(Y))))"
   ]
  },
  {
   "cell_type": "markdown",
   "metadata": {},
   "source": [
    "### Increasing to a million samples"
   ]
  },
  {
   "cell_type": "code",
   "execution_count": 39,
   "metadata": {},
   "outputs": [
    {
     "name": "stdout",
     "output_type": "stream",
     "text": [
      "Wall time: 1min 15s\n"
     ]
    }
   ],
   "source": [
    "%%time\n",
    "X, Y = both_asian_call_price_mc_samples(S0=100.0, K=100.0, r=0.03, sigma=0.3, T=5.0, n_sims=1000000)"
   ]
  },
  {
   "cell_type": "code",
   "execution_count": 40,
   "metadata": {},
   "outputs": [
    {
     "name": "stdout",
     "output_type": "stream",
     "text": [
      "Standard error for the geometric price: 0.03\n"
     ]
    }
   ],
   "source": [
    "print(\"Standard error for the geometric price: %.2f\" % (np.std(Y-p_g)/np.sqrt(len(Y))))"
   ]
  },
  {
   "cell_type": "code",
   "execution_count": 41,
   "metadata": {},
   "outputs": [
    {
     "name": "stdout",
     "output_type": "stream",
     "text": [
      "Standard error for the control-variate price: 0.01\n"
     ]
    }
   ],
   "source": [
    "print(\"Standard error for the control-variate price: %.2f\" % (np.std(X - b*(Y-p_g))/np.sqrt(len(Y))))"
   ]
  },
  {
   "cell_type": "markdown",
   "metadata": {},
   "source": [
    "We see an obvious reduction in all errors. For completeness, we also display below the expected price for the arithmetic option:"
   ]
  },
  {
   "cell_type": "code",
   "execution_count": 44,
   "metadata": {},
   "outputs": [
    {
     "name": "stdout",
     "output_type": "stream",
     "text": [
      "Price for arithmetic option: 17.49\n"
     ]
    }
   ],
   "source": [
    "price_arit_control = np.mean(X - b*(Y-p_g))\n",
    "print(\"Price for arithmetic option: %.2f\" % price_arit_control)"
   ]
  },
  {
   "cell_type": "markdown",
   "metadata": {},
   "source": [
    "# Problem 2: Heston model"
   ]
  },
  {
   "cell_type": "markdown",
   "metadata": {},
   "source": [
    "For this problem, we mostly follow Chapter 10 of \"The Heston Model and Its Extensions in Matlab and C#\" (2013), since the problem statement also does so (eg. with the sign convention for time)."
   ]
  },
  {
   "cell_type": "markdown",
   "metadata": {},
   "source": [
    "## a) Discretization"
   ]
  },
  {
   "cell_type": "markdown",
   "metadata": {},
   "source": [
    "Our goal is to discretize the following PDE:\n",
    "\n",
    "$$ \\frac{\\partial U}{\\partial t} = \\frac 12 v S^2 \\frac{\\partial^2 U}{\\partial S^2} + \\rho \\sigma v S \\frac{\\partial^2 U}{\\partial v \\partial S} + \\frac 12 \\sigma^2 v \\frac{\\partial^2 U}{\\partial v^2} - r U + (r-q) S \\frac{\\partial U}{\\partial S} + \\kappa (\\theta - v) \\frac{\\partial U}{\\partial v}$$"
   ]
  },
  {
   "cell_type": "markdown",
   "metadata": {},
   "source": [
    "Here, $t$ denotes **time to maturity**, i.e. $T-t$ in usual conventions. Because of this, maturity is now at $t=0$."
   ]
  },
  {
   "cell_type": "markdown",
   "metadata": {},
   "source": [
    "We consider the setup of the problem and the notation defined in the problem statement, that is\n",
    "\n",
    "$$U(t=n \\Delta t, S = i \\Delta S, v = j \\Delta v) =: U^n_{i,j}$$\n",
    "\n",
    "where $n \\in \\{0, \\ldots, N_T\\}$, $i \\in \\{0, \\ldots, N_S\\}$ and $j \\in \\{0, \\ldots, N_V\\}$.\n",
    "\n",
    "Then, time-derivatives are forward derivatives and all others are centered:"
   ]
  },
  {
   "cell_type": "markdown",
   "metadata": {},
   "source": [
    "$$\\frac{\\partial U}{\\partial t} \\approx \\frac{U^{n+1}_{i,j} - U^n_{i, j}}{\\Delta t}$$\n",
    "$$\\frac{\\partial U}{\\partial S} \\approx \\frac{U^n_{i+1, j} - U^n_{i-1, j}}{2\\Delta S}$$\n",
    "$$\\frac{\\partial U}{\\partial v} \\approx \\frac{U^n_{i, j+1} - U^n_{i, j-1}}{2\\Delta v}$$"
   ]
  },
  {
   "cell_type": "markdown",
   "metadata": {},
   "source": [
    "For the second-order derivatives, an important result will be the centered cross-derivative. For a function $u(x,y)$ with $u_{i,j} \\equiv u(x=i\\Delta x, y=j\\Delta y)$ one has\n",
    "\n",
    "$$\\frac{\\partial ^2 u}{\\partial x \\partial y} \\approx \\frac{u_{i+1,j+1} - u_{i+1, j-1} - u_{i-1, j+1} + u_{i-1, j-1}}{4\\Delta x\\Delta y}$$"
   ]
  },
  {
   "cell_type": "markdown",
   "metadata": {},
   "source": [
    "From this, we can write the relevant second-order derivatives as:"
   ]
  },
  {
   "cell_type": "markdown",
   "metadata": {},
   "source": [
    "$$\\frac{\\partial^2 U}{\\partial S^2} \\approx \\frac{U^n_{i+1,j} - 2 U^n_{i,j} + U^n_{i-1,j}}{(\\Delta S)^2}$$\n",
    "$$\\frac{\\partial^2 U}{\\partial v^2} \\approx \\frac{U^n_{i, j+1} - 2 U^n_{i, j} + U^n_{i, j-1}}{(\\Delta v)^2}$$\n",
    "$$\\frac{\\partial ^2 U}{\\partial v \\partial S} \\approx \\frac{U^n_{i+1,j+1} - U^n_{i+1, j-1} - U^n_{i-1, j+1} + U^n_{i-1, j-1}}{4\\Delta v\\Delta S}$$"
   ]
  },
  {
   "cell_type": "markdown",
   "metadata": {},
   "source": [
    "## b) Plugging back into the PDE"
   ]
  },
  {
   "cell_type": "markdown",
   "metadata": {},
   "source": [
    "Let \n",
    "$$S_i \\equiv i \\Delta S, \\qquad v_j \\equiv j \\Delta v$$"
   ]
  },
  {
   "cell_type": "markdown",
   "metadata": {},
   "source": [
    "To avoid clutter, since all $U$'s in the right-hand side are evaluated at $n$, we omit the superscript $n$. Then, plugging the derivatives above back into the PDE yields"
   ]
  },
  {
   "cell_type": "markdown",
   "metadata": {},
   "source": [
    "$$\\begin{align}\n",
    "\\frac{U^{n+1}_{i,j} - U^n_{i,j}}{\\Delta t} &= \\frac 12 v_j S_i^2 \\left(\\frac{U_{i+1,j} - 2 U_{i,j} + U_{i-1,j}}{\\Delta S^2} \\right) + \\rho \\sigma v_j S_i \\left( \\frac{U_{i+1,j+1} - U_{i+1,j-1} - U_{i-1,j+1} + U_{i-1,j-1}}{4 \\Delta S \\Delta v} \\right) + \\\\\n",
    "&+ \\frac 12 \\sigma^2 v_j \\left( \\frac{U_{i,j+1}-2U_{i,j} + U_{i,j-1}}{\\Delta v^2}\\right) - rU_{i,j} + (r-q)S_i \\left(\\frac{U_{i+1,j} - U_{i-1,j}}{2\\Delta S} \\right) + \\kappa (\\theta-v_j) \\left(\\frac{U_{i, j+1} - U_{i, j-1}}{2\\Delta v} \\right)\n",
    "\\end{align}$$"
   ]
  },
  {
   "cell_type": "markdown",
   "metadata": {},
   "source": [
    "Simplifying, yields"
   ]
  },
  {
   "cell_type": "markdown",
   "metadata": {},
   "source": [
    "$$\\boxed{\\begin{align}\n",
    "U^{n+1}_{i,j} &= pU^n_{i,j} \\\\\n",
    "&+p_i^{(+)} U^n_{i+1,j} + p_i^{(-)} U^n_{i-1,j} \\\\\n",
    "&+p_j^{(+)} U^n_{i,j+1} + p_j^{(-)} U^n_{i,j-1}\\\\\n",
    "&+p_{ij} (U^n_{i+1,j+1} - U^n_{i+1,j-1} - U^n_{i-1,j+1} + U^n_{i-1,j-1}) \\\\\n",
    "\\end{align}}$$"
   ]
  },
  {
   "cell_type": "markdown",
   "metadata": {},
   "source": [
    "where\n",
    "$$p = 1 - r \\Delta t -\\frac{ v_j S_i^2 \\Delta t}{\\Delta S^2} - \\frac{\\sigma^2 v_j \\Delta t}{\\Delta v^2}$$\n",
    "$$p_i^{(\\pm)} = \\frac{S_i \\Delta t}{2 \\Delta S} \\left(\\frac{v_j S_i}{\\Delta S} \\pm (r-q) \\right)$$\n",
    "$$p_j^{(\\pm)} = \\frac{\\Delta t}{2 \\Delta v} \\left(\\frac{\\sigma^2 v_j}{\\Delta v} \\pm \\kappa(\\theta - v_j)\\right)$$\n",
    "$$p_{ij} = \\frac 14 \\frac{\\rho \\sigma v_j S_i \\Delta t}{\\Delta S \\Delta v}$$"
   ]
  },
  {
   "cell_type": "markdown",
   "metadata": {},
   "source": [
    "Equivalently we can just substitute $S_i = i \\Delta S$ and $v_j = j \\Delta v$ in the expressions above, to get"
   ]
  },
  {
   "cell_type": "markdown",
   "metadata": {},
   "source": [
    "$$p = 1 - r \\Delta t - j \\Delta v i^2 \\Delta t - \\frac{\\sigma^2 j  \\Delta t}{\\Delta v}$$\n",
    "$$p_i^{(\\pm)} = \\frac{i \\Delta t}{2} \\left(i j \\Delta v \\pm (r-q) \\right)$$\n",
    "$$p_j^{(\\pm)} = \\frac{\\Delta t}{2 \\Delta v} \\left(j \\sigma^2 \\pm \\kappa(\\theta - j \\Delta v)\\right)$$\n",
    "$$p_{ij} = \\frac 14 {\\rho \\sigma i j\\Delta t}$$"
   ]
  },
  {
   "cell_type": "markdown",
   "metadata": {},
   "source": [
    "(for the last one, we notice that the classroom notes and the original paper probably have a typo, since they omit $\\rho$)"
   ]
  },
  {
   "cell_type": "markdown",
   "metadata": {},
   "source": [
    "## c) Boundary conditions"
   ]
  },
  {
   "cell_type": "markdown",
   "metadata": {},
   "source": [
    "Since we consider $U$ to be the price of an European call option with strike $K$, the boundary conditions on the variables $S$ and $t$ are the same as those in the Black-Scholes case. "
   ]
  },
  {
   "cell_type": "markdown",
   "metadata": {},
   "source": [
    "There are 5 boundary conditions to consider. We will make them explicit in both the continuous and discretized versions."
   ]
  },
  {
   "cell_type": "markdown",
   "metadata": {},
   "source": [
    "### Continuous version"
   ]
  },
  {
   "cell_type": "markdown",
   "metadata": {},
   "source": [
    "1) At maturity: payoff condition\n",
    "$$U(t=0, S, v) = \\max(S - K, 0)$$ \n",
    "\n",
    "2) At $S = 0$: fully OTM option\n",
    "$$U(t, S=0, v) = 0$$\n",
    "\n",
    "3) At $S \\to \\infty$: option becomes as valuable as the stock itself\n",
    "$$\\lim_{S\\to\\infty} \\frac{\\partial U}{\\partial S} = 1$$\n",
    "If we fix a maximum, finite $S_{max}$ then this translates to\n",
    "$$\\left.\\frac{\\partial U}{\\partial S} \\right|_{S=S_{max}} = 1$$\n",
    "4) At $v \\to \\infty$: option prices are bounded by the spot value, and increase monotonically with volatility (positive vega). As the volatility grows to infinity, the price must converge to the spot\n",
    "$$\\lim_{v\\to\\infty} U(t,S,v) = S$$\n",
    "Again, if we fix a maximum, finite $v_{max}$ then this translates to\n",
    "$$U(t,S,v_{max}) = S$$\n",
    "5) At $v \\to 0$: we consider the PDE if we formally set $v=0$. Below, all derivatives are evaluated at this point.\n",
    "\n",
    "$$\\frac{\\partial U}{\\partial t} = - rU + (r-q) S \\frac{\\partial U}{\\partial S} + \\kappa \\theta \\frac{\\partial U}{\\partial v}$$"
   ]
  },
  {
   "cell_type": "markdown",
   "metadata": {},
   "source": [
    "### Discretized version"
   ]
  },
  {
   "cell_type": "markdown",
   "metadata": {},
   "source": [
    "1) $U^0_{i,j} = \\max(S_i - K, 0)$\n",
    "\n",
    "2) $U^n_{0,j} = 0$\n",
    "\n",
    "3) $U^n_{N_S, j} = U^n_{N_S-1, j} + (S_{N_S} - S_{N_S-1})$ where $S_{N_S} = S_{max}$\n",
    "\n",
    "4) $U^n_{i, N_V} = S_i$"
   ]
  },
  {
   "cell_type": "markdown",
   "metadata": {},
   "source": [
    "5) For the last condition, we notice that since we are at the $v=0$ boundary, we cannot calculate a centered difference for the $\\partial U/\\partial v$ derivative; instead we use a forward difference. For the $S$ derivative we can make it centered, though:\n",
    "$$\\frac{U^{n+1}_{i,0} - U^n_{i,0}}{\\Delta t} = - r U_{i,0}^n + (r-q) S_i \\frac{U^n_{i+1,0} - U^n_{i-1,0}}{2\\Delta S} + \\kappa \\theta \\frac{U^n_{i,1} - U^n_{i,0}}{\\Delta v}$$"
   ]
  },
  {
   "cell_type": "markdown",
   "metadata": {},
   "source": [
    "or, solving for $U^{n+1}_{i,0}$:\n",
    "\n",
    "$$U^{n+1}_{i,0} = U^n_{i,0} \\left(1 - r\\Delta t - \\frac{\\kappa \\theta \\Delta t}{\\Delta v} \\right) + U^n_{i,1} \\frac{\\kappa \\theta \\Delta t }{\\Delta v} + (U^n_{i+1,0} - U^n_{i-1,0}) \\frac{(r-q)S_i \\Delta t}{2\\Delta S}$$"
   ]
  },
  {
   "cell_type": "markdown",
   "metadata": {},
   "source": [
    "## d) Solving the PDE"
   ]
  },
  {
   "cell_type": "code",
   "execution_count": 54,
   "metadata": {},
   "outputs": [],
   "source": [
    "import numpy as np\n",
    "import matplotlib.pyplot as plt\n",
    "import pandas as pd\n",
    "from tqdm.notebook import tqdm\n",
    "from time import time\n",
    "from scipy import stats\n",
    "\n",
    "from numba import jit"
   ]
  },
  {
   "cell_type": "markdown",
   "metadata": {},
   "source": [
    "For the evolution equations / boundary conditions above, we can both use the simplified versions (of the form $\\sum_{i,j} a_{ij} U_{ij}^n$) or more simply calculate each derivative term by itself without joining similar terms. Below, inside the function `heston_pde`, we add the two options.\n",
    "\n",
    "The `location` parameter is just an artifice to locate the $i,j$ values for the initial conditions. If we set `NS = 100` and `location = 10`, for an initial spot of 200, then it means that $\\Delta S = 200/10 = 20$, $S_{max} = 100 \\times 20 = 2000$ and the original spot will be element `S[10]`, corresponding to the location."
   ]
  },
  {
   "cell_type": "markdown",
   "metadata": {},
   "source": [
    "**We could not figure out how to remove numerical instabilities**. The option price quickly diverges due to oscillations, especially when $N_T$ grows larger. Below we show examples of the price profile for a few selected ranges:"
   ]
  },
  {
   "cell_type": "code",
   "execution_count": 540,
   "metadata": {},
   "outputs": [],
   "source": [
    "@jit(nopython=True)\n",
    "def heston_pde(S0, K, r, q, V0, kappa, theta, sigma, rho, T, NT=1000, NS=1000, NV=1000, location=10):\n",
    "    \n",
    "    # constants\n",
    "    ds = S0/location\n",
    "    dv = V0/location\n",
    "    Smax = NS * ds\n",
    "    Vmax = NV * dv\n",
    "    assert Smax > S0, \"NS needs to be higher\"\n",
    "    assert Vmax > V0, \"NV needs to be higher\"\n",
    "    dt = T/NT\n",
    "    \n",
    "    # price matrix and boundary condition @t=T\n",
    "    S = np.arange(0, Smax+ds, ds)\n",
    "    v = np.arange(0, Vmax+ds, dv)\n",
    "    \n",
    "    # U will be updated at every iteration from U^{n} -> U^{n+1}\n",
    "    U = np.zeros((NS+1, NV+1))\n",
    "    \n",
    "    # impose boundary condition (1) (payoff)\n",
    "    for i in range(NS+1):\n",
    "        for j in range(NV+1):\n",
    "            U[i, j] = max(S[i]-K,0)\n",
    "    \n",
    "    # create list to store slices of U at every time, for debugging purposes\n",
    "    U_list = []\n",
    "    \n",
    "    # evolve in time, and at each step, impose boundary conditions\n",
    "    for n in range(NT):\n",
    "\n",
    "        # boundary conditions 2 (U(S=0) = 0) and 3 (U(S=Smax) = Smax)\n",
    "        for j in range(NV):  \n",
    "            U[0,  j] = 0\n",
    "            U[NS, j] = U[NS-1, j] + (S[NS] - S[NS-1]) \n",
    "        \n",
    "        # boundary condition 4 (U(S,v=vmax) = S)\n",
    "        for i in range(NS+1): \n",
    "            U[i, NV] = S[i]\n",
    "            \n",
    "        # boundary condition 5 (at v = 0)\n",
    "        u = U.copy()\n",
    "        for i in range(1,NS): \n",
    "            \n",
    "            # method 1: explicitly add all finite diferences\n",
    "            dUdS = (u[i+1,0] - u[i-1,0])/(2 *ds)\n",
    "            dUdV = (u[i,1] - u[i,0])/dv\n",
    "            U[i,0] = u[i,0] + dt * (- r * u[i,0] + (r-q) * S[i] * dUdS + kappa * theta * dUdV)\n",
    "            \n",
    "            # method 2: use simplified expression\n",
    "            # U_new[i,0] = (u[i,0] * (1 - r*dt - kappa * theta * dt/dv) + u[i,1] * kappa * theta * dt/dv +\n",
    "            #        (u[i+1,0] - u[i-1,0]) * (r-q) * S[i] * dt/(2 * ds))\n",
    "        \n",
    "        U_list.append(U.copy())\n",
    "\n",
    "        # evolution\n",
    "        u = U.copy()\n",
    "        for i in range(1, NS): \n",
    "            for j in range(1, NV): \n",
    "                \n",
    "                # method 1\n",
    "                d2UdS2  = (u[i+1,j] - 2 * u[i,j] + u[i-1,j])/(ds**2)\n",
    "                d2UdVdS = (u[i+1,j+1] - u[i+1, j-1] - u[i-1,j+1] + u[i-1,j-1])/(4*ds*dv)\n",
    "                d2UdV2  = (u[i,j+1] - 2 * u[i,j] + u[i,j-1])/(dv**2)\n",
    "                dUdS    = (u[i+1,j] - u[i-1,j])/(2*ds)\n",
    "                dUdV    = (u[i,j+1] - u[i,j-1])/(2*dv)\n",
    "                \n",
    "                U[i,j] = u[i,j] + dt * (0.5 * (v[j]*S[i]**2) * d2UdS2 + \n",
    "                                            rho * sigma * v[j] * S[i] * d2UdVdS + \n",
    "                                            0.5 * sigma**2 * v[j] * d2UdV2 -\n",
    "                                            r * u[i,j] + \n",
    "                                            (r-q)*S[i]*dUdS + \n",
    "                                            kappa * (theta - v[j]) * dUdV)\n",
    "                # method 2\n",
    "                #p       = 1 - r* dt - v[j] * S[i]**2 * dt/(ds**2) - sigma**2 * v[j] * dt/(dv**2)\n",
    "                #pi_plus = S[i]*dt/(2*ds) * (v[j]*S[i]/ds + (r-q))\n",
    "                #pi_mins = S[i]*dt/(2*ds) * (v[j]*S[i]/ds - (r-q))\n",
    "                #pj_plus = dt/(2*dv) * (sigma**2 * v[j]/dv + kappa * (theta-v[j]))\n",
    "                #pj_mins = dt/(2*dv) * (sigma**2 * v[j]/dv - kappa * (theta-v[j]))\n",
    "                #pij     = rho * sigma * v[j] * S[i] * dt/(4 * ds * dv)\n",
    "                \n",
    "                #U_new[i,j] = (p * u[i,j] +\n",
    "                #pi_plus * u[i+1,j] + pi_mins * u[i-1,j] + \n",
    "                #pj_plus * u[i,j+1] + pj_mins * u[i,j-1] + \n",
    "                #pij * (u[i+1, j+1] - u[i-1, j+1] - u[i+1, j-1] + u[i-1, j-1]))\n",
    "        \n",
    "    return U, U_list\n",
    "\n",
    "# run once to compile\n",
    "U, _ = heston_pde(S0=100.0, K=100.0, r=0.05, q=0.03, V0=0.3, kappa=0.0, #6.21,\n",
    "                  theta=0.36, sigma=0.002, rho=-0.7, T=1.0,\n",
    "            NT=3, NS=3, NV=3, location=1)"
   ]
  },
  {
   "cell_type": "markdown",
   "metadata": {},
   "source": [
    "### Very small $N_T$:"
   ]
  },
  {
   "cell_type": "code",
   "execution_count": 598,
   "metadata": {},
   "outputs": [
    {
     "name": "stdout",
     "output_type": "stream",
     "text": [
      "Price: 16.87109490760643\n"
     ]
    }
   ],
   "source": [
    "loc = 3\n",
    "U, U_list = heston_pde(S0=100.0, K=100.0, r=0.05, q=0.03, V0=0.3, kappa=6.21, theta=0.36, sigma=0.2, rho=-0.7, T=1.0,\n",
    "            NT=4, NS=30, NV=20, location=loc)\n",
    "print(\"Price:\", U[loc,loc])"
   ]
  },
  {
   "cell_type": "code",
   "execution_count": 592,
   "metadata": {},
   "outputs": [
    {
     "data": {
      "image/png": "[encoded data removed]",
      "text/plain": [
       "<Figure size 432x288 with 1 Axes>"
      ]
     },
     "metadata": {},
     "output_type": "display_data"
    },
    {
     "data": {
      "image/png": "[encoded data removed]",
      "text/plain": [
       "<Figure size 432x288 with 1 Axes>"
      ]
     },
     "metadata": {},
     "output_type": "display_data"
    },
    {
     "data": {
      "image/png": "[encoded data removed]",
      "text/plain": [
       "<Figure size 432x288 with 1 Axes>"
      ]
     },
     "metadata": {},
     "output_type": "display_data"
    }
   ],
   "source": [
    "for t in [1, 2, 3]:\n",
    "    plt.plot(U[:,-1], U_list[t][:,loc])\n",
    "    plt.title(f\"At t={round(t/100,2)}\")\n",
    "    plt.xlabel(\"Spot price\")\n",
    "    plt.ylabel(\"Price\")\n",
    "    plt.show()"
   ]
  },
  {
   "cell_type": "markdown",
   "metadata": {},
   "source": [
    "### Higher  $N_T$:"
   ]
  },
  {
   "cell_type": "code",
   "execution_count": 593,
   "metadata": {},
   "outputs": [
    {
     "name": "stdout",
     "output_type": "stream",
     "text": [
      "Price: 15.981851446027855\n"
     ]
    }
   ],
   "source": [
    "loc = 3\n",
    "U, U_list = heston_pde(S0=100.0, K=100.0, r=0.05, q=0.03, V0=0.3, kappa=6.21, theta=0.36, sigma=0.2, rho=-0.7, T=1.0,\n",
    "            NT=10, NS=100, NV=100, location=loc)\n",
    "print(\"Price:\", U[loc,loc])"
   ]
  },
  {
   "cell_type": "code",
   "execution_count": 594,
   "metadata": {},
   "outputs": [
    {
     "data": {
      "image/png": "[encoded data removed]",
      "text/plain": [
       "<Figure size 432x288 with 1 Axes>"
      ]
     },
     "metadata": {},
     "output_type": "display_data"
    },
    {
     "data": {
      "image/png": "[encoded data removed]",
      "text/plain": [
       "<Figure size 432x288 with 1 Axes>"
      ]
     },
     "metadata": {},
     "output_type": "display_data"
    },
    {
     "data": {
      "image/png": "[encoded data removed]",
      "text/plain": [
       "<Figure size 432x288 with 1 Axes>"
      ]
     },
     "metadata": {},
     "output_type": "display_data"
    }
   ],
   "source": [
    "for t in [1, 5, 9]:\n",
    "    plt.plot(U[:,-1], U_list[t][:,loc])\n",
    "    plt.title(f\"At t={round(t/100,2)}\")\n",
    "    plt.xlabel(\"Spot price\")\n",
    "    plt.ylabel(\"Price\")\n",
    "    plt.show()"
   ]
  },
  {
   "cell_type": "markdown",
   "metadata": {},
   "source": [
    "### Even higher  $N_T$:"
   ]
  },
  {
   "cell_type": "code",
   "execution_count": 595,
   "metadata": {},
   "outputs": [
    {
     "name": "stdout",
     "output_type": "stream",
     "text": [
      "Price: -1.2834718963353202e+107\n"
     ]
    }
   ],
   "source": [
    "loc = 3\n",
    "U, U_list = heston_pde(S0=100.0, K=100.0, r=0.05, q=0.03, V0=0.3, kappa=6.21, theta=0.36, sigma=0.2, rho=-0.7, T=1.0,\n",
    "            NT=100, NS=100, NV=100, location=loc)\n",
    "print(\"Price:\", U[loc,loc])"
   ]
  },
  {
   "cell_type": "code",
   "execution_count": 596,
   "metadata": {},
   "outputs": [
    {
     "data": {
      "image/png": "[encoded data removed]",
      "text/plain": [
       "<Figure size 432x288 with 1 Axes>"
      ]
     },
     "metadata": {},
     "output_type": "display_data"
    },
    {
     "data": {
      "image/png": "[encoded data removed]",
      "text/plain": [
       "<Figure size 432x288 with 1 Axes>"
      ]
     },
     "metadata": {},
     "output_type": "display_data"
    },
    {
     "data": {
      "image/png": "[encoded data removed]",
      "text/plain": [
       "<Figure size 432x288 with 1 Axes>"
      ]
     },
     "metadata": {},
     "output_type": "display_data"
    }
   ],
   "source": [
    "for t in [1, 10, 30]:\n",
    "    plt.plot(U[:,-1], U_list[t][:,loc])\n",
    "    plt.title(f\"At t={round(t/100,2)}\")\n",
    "    plt.xlabel(\"Spot price\")\n",
    "    plt.ylabel(\"Price\")\n",
    "    plt.show()"
   ]
  },
  {
   "cell_type": "markdown",
   "metadata": {},
   "source": [
    "### Conclusion"
   ]
  },
  {
   "cell_type": "markdown",
   "metadata": {},
   "source": [
    "As we see, there is clearly an optimal setup for the choices of $N_T, N_S$ and $N_V$ to avoid instabilities, but most of the scenarios we tried are still unstable."
   ]
  },
  {
   "cell_type": "markdown",
   "metadata": {},
   "source": [
    "## e) Monte-Carlo"
   ]
  },
  {
   "cell_type": "markdown",
   "metadata": {},
   "source": [
    "For the Monte-Carlo method, we will use the **full trancation** method employed in HW4. Letting $x^+ \\equiv \\max(x,0)$ this amounts to"
   ]
  },
  {
   "cell_type": "markdown",
   "metadata": {},
   "source": [
    "$$\\begin{cases}\n",
    "\\ln S_{t+\\Delta t} &= \\ln S_t + \\left(r - \\frac{1}{2}  V_t\\right)\\Delta t + \\sqrt{V_t} \\Delta W_t\\\\\n",
    "\\tilde{V}_{t+\\Delta t} &= \\tilde{V}_t - \\kappa \\Delta t (\\tilde{V}(t) - \\bar V)^+ + \\sigma \\sqrt{(\\tilde{V}_t)^+} \\Delta Z_t\\\\\n",
    "V_{t+\\Delta t} &= (\\tilde{V}_{t+\\Delta t})^+\n",
    "\\end{cases}$$"
   ]
  },
  {
   "cell_type": "markdown",
   "metadata": {},
   "source": [
    "We copy the code verbatim from HW4, but: (1) removing the comparison with a theoretical base value (2) adding a dividend yield to the first equation: $r \\mapsto r - q$ "
   ]
  },
  {
   "cell_type": "code",
   "execution_count": 67,
   "metadata": {},
   "outputs": [],
   "source": [
    "@jit(nopython=True)\n",
    "def _heston_call(S0, K, r, q, V0, kappa, theta, sigma, rho, T, n_steps, n_sims, model=None):\n",
    "    \n",
    "    identity = lambda x: x\n",
    "    positive = lambda x: max(x,0)\n",
    "    module   = lambda x: abs(x)\n",
    "    \n",
    "    if model == 'absorption':\n",
    "        f1, f2, f3 = positive, positive, positive\n",
    "    elif model == 'reflection':\n",
    "        f1, f2, f3 = module, module, module\n",
    "    elif model == 'higham_mao':\n",
    "        f1, f2, f3 = identity, identity, module\n",
    "    elif model == 'partial_truncation':\n",
    "        f1, f2, f3 = identity, identity, positive\n",
    "    elif model == 'full_truncation':\n",
    "        f1, f2, f3 = identity, positive, positive\n",
    "    else:\n",
    "        raise Exception(\"Invalid model\")\n",
    "    \n",
    "    dt = T/n_steps    \n",
    "    sum_CT, sum_CT2, mse = 0, 0, 0\n",
    "    \n",
    "    for _ in range(n_sims):\n",
    "        lnS = np.log(S0)\n",
    "        V = V0\n",
    "        Vtilde = V0\n",
    "\n",
    "        for i in range(n_steps):\n",
    "            \n",
    "            # correlated Gaussians\n",
    "            X1 = np.random.randn()\n",
    "            X2 = rho*X1 + np.sqrt(1-rho**2)*np.random.randn()\n",
    "            \n",
    "            # Brownians dZ, dW\n",
    "            dZ = np.sqrt(dt)*X1\n",
    "            dW = np.sqrt(dt)*X2\n",
    "            \n",
    "            # evolving the vol and spot\n",
    "            lnS = lnS + (r - q - V/2)*dt + np.sqrt(V)*dW\n",
    "            Vtilde = f1(Vtilde) - kappa * dt * (f2(Vtilde) - theta) + sigma*np.sqrt(f3(Vtilde)) * dZ\n",
    "            V = f3(Vtilde)\n",
    "\n",
    "        ST = np.exp(lnS)\n",
    "\n",
    "        # payoff\n",
    "        CT = max(0, ST-K)\n",
    "\n",
    "        sum_CT += CT\n",
    "        sum_CT2 += CT**2\n",
    "    \n",
    "    opt_value = np.exp(-r*T) * (sum_CT/n_sims)\n",
    "    opt_std = np.exp(-r*T) * 1/(n_sims-1) * (sum_CT2 - (1/n_sims)* (sum_CT)**2)\n",
    "    opt_se = opt_std/np.sqrt(n_sims)\n",
    "    \n",
    "    return opt_value, opt_se\n",
    "\n",
    "heston_call = time_function(_heston_call)\n"
   ]
  },
  {
   "cell_type": "markdown",
   "metadata": {},
   "source": [
    "### Sanity check: bring down to Black-Scholes case\n",
    "Do this by setting $\\kappa=0$ and $\\sigma=0$, which makes $V_t = V_0 = \\mathrm{const}$ as the square of the asset's volatility"
   ]
  },
  {
   "cell_type": "code",
   "execution_count": 64,
   "metadata": {},
   "outputs": [],
   "source": [
    "price, err, duration = heston_call(S0=100.0, K=100.0, r=0.01, V0=0.4**2, kappa=0, theta=0.0, sigma=0.0, rho=-0.7, T=1.0,\n",
    "               n_steps=500, n_sims=10**6, model='full_truncation')"
   ]
  },
  {
   "cell_type": "code",
   "execution_count": 65,
   "metadata": {},
   "outputs": [
    {
     "name": "stdout",
     "output_type": "stream",
     "text": [
      "> Price: 16.31\n",
      "> Error: 0.92\n"
     ]
    }
   ],
   "source": [
    "print(\"> Price: %.2f\" % price)\n",
    "print(\"> Error: %.2f\" % err)"
   ]
  },
  {
   "cell_type": "markdown",
   "metadata": {},
   "source": [
    "Compare this to the Black-Scholes formula, eg. in https://www.mystockoptions.com/black-scholes.cfm?ticker=&s=100&x=100&t=1&r=1%25&v=40%25&calculate=Calculate -> theoretical result is 16.275, so we are within error margins. "
   ]
  },
  {
   "cell_type": "markdown",
   "metadata": {},
   "source": [
    "### Calculate for requested data"
   ]
  },
  {
   "cell_type": "code",
   "execution_count": 68,
   "metadata": {},
   "outputs": [
    {
     "name": "stderr",
     "output_type": "stream",
     "text": [
      "<ipython-input-67-1bf35d470bb7>:29: NumbaExperimentalFeatureWarning: \u001b[1m\u001b[1mFirst-class function type feature is experimental\u001b[0m\u001b[0m\n",
      "  for i in range(n_steps):\n"
     ]
    }
   ],
   "source": [
    "price, err, duration = heston_call(S0=100.0, K=100.0, r=0.05, q=0.03, V0=0.3, kappa=6.21, theta=0.36, sigma=0.2, rho=-0.7, T=1.0,\n",
    "               n_steps=500, n_sims=2*10**6, model='full_truncation')"
   ]
  },
  {
   "cell_type": "code",
   "execution_count": 69,
   "metadata": {},
   "outputs": [
    {
     "name": "stdout",
     "output_type": "stream",
     "text": [
      "European Call in Heston model (Monte-Carlo, 2 million samples)\n",
      "> Price: 23.29\n",
      "> Error: 1.67\n",
      "> Calculation time: 65.7 seconds\n"
     ]
    }
   ],
   "source": [
    "print(\"European Call in Heston model (Monte-Carlo, 2 million samples)\")\n",
    "print(\"> Price: %.2f\" % price)\n",
    "print(\"> Error: %.2f\" % err)\n",
    "print(\"> Calculation time: %.1f seconds\" % duration)"
   ]
  },
  {
   "cell_type": "markdown",
   "metadata": {},
   "source": [
    "Since we don't have a trustworthy result for part (d), we cannot compare."
   ]
  },
  {
   "cell_type": "code",
   "execution_count": null,
   "metadata": {},
   "outputs": [],
   "source": []
  }
 ],
 "metadata": {
  "kernelspec": {
   "display_name": "Python 3",
   "language": "python",
   "name": "python3"
  },
  "language_info": {
   "codemirror_mode": {
    "name": "ipython",
    "version": 3
   },
   "file_extension": ".py",
   "mimetype": "text/x-python",
   "name": "python",
   "nbconvert_exporter": "python",
   "pygments_lexer": "ipython3",
   "version": "3.7.9"
  },
  "toc": {
   "base_numbering": 1,
   "nav_menu": {},
   "number_sections": true,
   "sideBar": true,
   "skip_h1_title": false,
   "title_cell": "Table of Contents",
   "title_sidebar": "Contents",
   "toc_cell": false,
   "toc_position": {},
   "toc_section_display": true,
   "toc_window_display": false
  }
 },
 "nbformat": 4,
 "nbformat_minor": 4
}
