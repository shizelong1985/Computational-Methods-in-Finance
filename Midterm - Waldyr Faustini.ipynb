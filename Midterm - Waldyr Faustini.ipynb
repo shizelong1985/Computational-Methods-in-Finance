{
 "cells": [
  {
   "cell_type": "markdown",
   "metadata": {},
   "source": [
    "**Midterm Exam - FE621**\n",
    "\n",
    "Waldyr Faustini"
   ]
  },
  {
   "cell_type": "code",
   "execution_count": 98,
   "metadata": {},
   "outputs": [],
   "source": [
    "import numpy as np"
   ]
  },
  {
   "cell_type": "markdown",
   "metadata": {},
   "source": [
    "# Problem 1"
   ]
  },
  {
   "cell_type": "markdown",
   "metadata": {},
   "source": [
    "## a) European put"
   ]
  },
  {
   "cell_type": "markdown",
   "metadata": {},
   "source": [
    "We will be using the additive binomial tree adapted from HW2.\n",
    "In order to calculate delta (as will be asked in problem (b)) we also return delta, as per the following discussion:"
   ]
  },
  {
   "cell_type": "markdown",
   "metadata": {},
   "source": [
    "We will **assume** that 1 option -- 1 share (instead of the more common convention of 100 shares). \n",
    "In this case, suppose the investor is long 1 put."
   ]
  },
  {
   "cell_type": "markdown",
   "metadata": {},
   "source": [
    "The hedging discussion we will use here applies to the American case below as well.\n",
    "\n",
    "Suppose we start at $t=0$ with a stock worth $S_0$. At time $t_1 = \\Delta t$, we have two scenarios:\n",
    "* UP scenario: option worth $C_u$, stock worth $S_u$\n",
    "* DOWN scenario: option worth $C_d$, stock worth $S_d$\n",
    "\n",
    "We want to to find an amount $\\Delta$ such that a portfolio consisting of:\n",
    "* One long position in the put\n",
    "* $\\Delta$ long positions in the underlying\n",
    "is worth the same for both UP and DOWN scenarios, i.e.\n",
    "\n",
    "$$C_u + \\Delta S_u = C_d + \\Delta S_d$$\n",
    "\n",
    "or\n",
    "\n",
    "$$ \\Delta = - \\frac{C_u - C_d}{S_u - S_d}$$\n"
   ]
  },
  {
   "cell_type": "markdown",
   "metadata": {},
   "source": [
    "Note that these are the values *one time step before reaching $t=0$* in our model where we go back in time. This corresponds to $i=1$ in the loop below."
   ]
  },
  {
   "cell_type": "code",
   "execution_count": 63,
   "metadata": {},
   "outputs": [],
   "source": [
    "def euro_vanilla_pricer(N, T, S, K, r, sigma, option_type, calculate_delta=False):\n",
    "    \n",
    "    if option_type == 'call':\n",
    "        payoff = lambda s, k: max(s-k, 0)\n",
    "    elif option_type == 'put':\n",
    "        payoff = lambda s, k: max(k-s, 0)\n",
    "        \n",
    "    # Trigeorgis 1992 coeffs\n",
    "    dt = T/N\n",
    "    nu = r - 0.5 * sigma**2\n",
    "    dx_u = np.sqrt(sigma**2 * dt + nu**2 * dt**2)\n",
    "    dx_d = - dx_u\n",
    "    p_u = 0.5 * (1 + nu * dt/dx_u)\n",
    "    p_d = 1 - p_u\n",
    "    edxd = np.exp(dx_d)\n",
    "\n",
    "    # one-period discount factor\n",
    "    disc = np.exp(- r * dt)\n",
    "    walk_up = np.exp(dx_u - dx_d)\n",
    "    \n",
    "    # initialize asset price at maturity, starting with the bottom one\n",
    "    # we will use the convention that 0 denotes the lowest value\n",
    "    ST = np.zeros(N+1)\n",
    "    ST[0] = S * np.exp(N * dx_d)\n",
    "    for i in range(1, N+1, 1):\n",
    "        ST[i] = ST[i-1]*walk_up\n",
    "    \n",
    "    value = np.zeros(N+1)\n",
    "    for j in range(N+1):\n",
    "        value[j] = payoff(ST[j], K)\n",
    "            \n",
    "    # now we just propagate back - since these are European options,\n",
    "    # value at each node is just the propagated discounted expectation\n",
    "    for i in range(N-1, -1, -1):\n",
    "        for j in range(i+1):\n",
    "            ST[j] = ST[j]/edxd  # unnecessary for pricing, necessary for hedging\n",
    "            value[j] = disc * (p_u * value[j+1] + p_d * value[j])\n",
    "\n",
    "        if i == 1:\n",
    "            delta = -(value[0] - value[1])/(ST[0] - ST[1])\n",
    "\n",
    "    if calculate_delta:\n",
    "        return value[0], delta\n",
    "    else:\n",
    "        return value[0]"
   ]
  },
  {
   "cell_type": "code",
   "execution_count": 84,
   "metadata": {},
   "outputs": [],
   "source": [
    "T = 9/12\n",
    "N_periods = 3\n",
    "K = 49\n",
    "sigma = 0.3\n",
    "r = 0.05\n",
    "S0 = 50"
   ]
  },
  {
   "cell_type": "code",
   "execution_count": 85,
   "metadata": {},
   "outputs": [
    {
     "name": "stdout",
     "output_type": "stream",
     "text": [
      "Put price for given settings (European): 4.15\n"
     ]
    }
   ],
   "source": [
    "put_price = euro_vanilla_pricer(N=N_periods, T=T, K=K, S=S0, r=r, sigma=sigma, option_type='put')\n",
    "print(\"Put price for given settings (European): %.2f\" % put_price)"
   ]
  },
  {
   "cell_type": "code",
   "execution_count": 95,
   "metadata": {},
   "outputs": [
    {
     "name": "stdout",
     "output_type": "stream",
     "text": [
      "One should long 0.37 units of stock to hedge the put option at t=0\n"
     ]
    }
   ],
   "source": [
    "_, delta = euro_vanilla_pricer(N=N_periods, T=T, K=K, S=S0, r=r, sigma=sigma, option_type='put',\n",
    "                               calculate_delta=True)\n",
    "print(\"One should long %.2f\" % delta + \" units of stock to hedge the put option at t=0\")"
   ]
  },
  {
   "cell_type": "markdown",
   "metadata": {},
   "source": [
    "**Sanity check**: compare with Black-Scholes value for delta for a put option (sign will be inverted since we are always short delta when holding puts)"
   ]
  },
  {
   "cell_type": "code",
   "execution_count": 93,
   "metadata": {},
   "outputs": [
    {
     "name": "stdout",
     "output_type": "stream",
     "text": [
      "BSM value: -0.37\n"
     ]
    }
   ],
   "source": [
    "import scipy.stats\n",
    "N_prime = scipy.stats.norm.pdf\n",
    "\n",
    "d1 = ((np.log(S0/K) + (r + sigma**2/2)*T))/(sigma*np.sqrt(T))\n",
    "\n",
    "print(\"BSM value: %.2f\" % -N_prime(-d1))"
   ]
  },
  {
   "cell_type": "markdown",
   "metadata": {},
   "source": [
    "## American put"
   ]
  },
  {
   "cell_type": "markdown",
   "metadata": {},
   "source": [
    "We will be using the additive binomial tree adapted from HW2:"
   ]
  },
  {
   "cell_type": "code",
   "execution_count": 94,
   "metadata": {},
   "outputs": [],
   "source": [
    "def american_vanilla_pricer(N, T, S, K, r, sigma, option_type, calculate_delta=False):\n",
    "    \n",
    "            \n",
    "    if option_type == 'call':\n",
    "        payoff = lambda s, k: max(s-k, 0)\n",
    "    elif option_type == 'put':\n",
    "        payoff = lambda s, k: max(k-s, 0)\n",
    "        \n",
    "    # Trigeorgis 1992 coeffs\n",
    "    dt = T/N\n",
    "    nu = r - 0.5 * sigma**2\n",
    "    dx_u = np.sqrt(sigma**2 * dt + nu**2 * dt**2)\n",
    "    dx_d = - dx_u\n",
    "    p_u = 0.5 * (1 + nu * dt/dx_u)\n",
    "    p_d = 1 - p_u\n",
    "    \n",
    "    # one-period discount factor and other constants\n",
    "    disc = np.exp(- r * dt)\n",
    "    walk_up = np.exp(dx_u - dx_d)\n",
    "    d_p_u = disc * p_u\n",
    "    d_p_d = disc * p_d\n",
    "    edxd = np.exp(dx_d)\n",
    "    \n",
    "    # initialize asset price at maturity, starting with the bottom one\n",
    "    # we will use the convention that 0 denotes the lowest value\n",
    "    ST = np.zeros(N+1)\n",
    "    ST[0] = S * np.exp(N * dx_d)\n",
    "    for i in range(1, N+1, 1):\n",
    "        ST[i] = ST[i-1]*walk_up\n",
    "    \n",
    "    value = np.zeros(N+1)\n",
    "    for j in range(N+1):\n",
    "        value[j] = payoff(ST[j], K)\n",
    "        \n",
    "    # now we just propagate back, including the early stop condition\n",
    "    for i in range(N-1, -1, -1):\n",
    "        for j in range(i+1):\n",
    "            \n",
    "            value[j] = d_p_d * value[j] + d_p_u * value[j+1]\n",
    "            \n",
    "            # however, there might be early exercise\n",
    "            ST[j] = ST[j]/edxd\n",
    "            value[j] = max(value[j],  payoff(ST[j], K))\n",
    "            \n",
    "        if i == 1:\n",
    "            delta = -(value[0] - value[1])/(ST[0] - ST[1])\n",
    "\n",
    "    if calculate_delta:\n",
    "        return value[0], delta\n",
    "    else:\n",
    "        return value[0]"
   ]
  },
  {
   "cell_type": "code",
   "execution_count": 96,
   "metadata": {},
   "outputs": [
    {
     "name": "stdout",
     "output_type": "stream",
     "text": [
      "Put price for given settings (American): 4.29\n"
     ]
    }
   ],
   "source": [
    "put_price = american_vanilla_pricer(N=N_periods, T=T, K=K, S=S0, r=r, sigma=sigma, option_type='put')\n",
    "print(\"Put price for given settings (American): %.2f\" % put_price)"
   ]
  },
  {
   "cell_type": "code",
   "execution_count": 97,
   "metadata": {},
   "outputs": [
    {
     "name": "stdout",
     "output_type": "stream",
     "text": [
      "One should long 0.39 units of stock to hedge the put option at t=0\n"
     ]
    }
   ],
   "source": [
    "_, delta = american_vanilla_pricer(N=N_periods, T=T, K=K, S=S0, r=r, sigma=sigma, option_type='put',\n",
    "                               calculate_delta=True)\n",
    "print(\"One should long %.2f\" % delta + \" units of stock to hedge the put option at t=0\")"
   ]
  },
  {
   "cell_type": "markdown",
   "metadata": {},
   "source": [
    "## c) Adding a barrier"
   ]
  },
  {
   "cell_type": "markdown",
   "metadata": {},
   "source": [
    "In HW2 we built a pricer for European barrier options in the trinomial setting. We will adapt that code to use a binomial tree.\n",
    "\n",
    "In practice:\n",
    "* We add the barrier condition in the first payoff calculation at expiry\n",
    "* We check the barrier condition for all back-propagated values\n",
    "* Since our tree is no longer trinomial, we need to discount spot values when going back in time"
   ]
  },
  {
   "cell_type": "code",
   "execution_count": 37,
   "metadata": {},
   "outputs": [],
   "source": [
    "def euro_barrier_pricer(N, T, S, K, r, sigma, H, option_type, barrier_type):\n",
    "    \n",
    "    if barrier_type == 'uo':\n",
    "        condition = lambda s, h: s <= h\n",
    "    elif barrier_type == 'do':\n",
    "        condition = lambda s, h: s >= h\n",
    "        \n",
    "    if option_type == 'call':\n",
    "        payoff = lambda s, k: max(s-k, 0)\n",
    "    elif option_type == 'put':\n",
    "        payoff = lambda s, k: max(k-s, 0)\n",
    "        \n",
    "    # Trigeorgis 1992 coeffs\n",
    "    dt = T/N\n",
    "    nu = r - 0.5 * sigma**2\n",
    "    dx_u = np.sqrt(sigma**2 * dt + nu**2 * dt**2)\n",
    "    dx_d = - dx_u\n",
    "    p_u = 0.5 * (1 + nu * dt/dx_u)\n",
    "    p_d = 1 - p_u\n",
    "    edxd = np.exp(dx_d)\n",
    "\n",
    "    # one-period discount factor\n",
    "    disc = np.exp(- r * dt)\n",
    "    walk_up = np.exp(dx_u - dx_d)\n",
    "    \n",
    "    # initialize asset price at maturity, starting with the bottom one\n",
    "    # we will use the convention that 0 denotes the lowest value\n",
    "    ST = np.zeros(N+1)\n",
    "    ST[0] = S * np.exp(N * dx_d)\n",
    "    for i in range(1, N+1, 1):\n",
    "        ST[i] = ST[i-1]*walk_up\n",
    "    \n",
    "    value = np.zeros(N+1)\n",
    "    for j in range(N+1):\n",
    "        value[j] = payoff(ST[j], K) * condition(ST[j], H)  # adding barrier condition\n",
    "    \n",
    "    # now we just propagate back - since these are European options,\n",
    "    # value at each node is just the propagated discounted expectation\n",
    "    for i in range(N-1, -1, -1):\n",
    "        for j in range(i+1):\n",
    "            ST[j] = ST[j]/edxd  # adding \"discounting\" of spot prices to \"go back\" in time\n",
    "            value[j] = disc * (p_u * value[j+1] + p_d * value[j]) * condition(ST[j], H) # adding barrier condition\n",
    "    \n",
    "    return value[0]"
   ]
  },
  {
   "cell_type": "code",
   "execution_count": 29,
   "metadata": {},
   "outputs": [
    {
     "name": "stdout",
     "output_type": "stream",
     "text": [
      "Put price for given settings (Euro/Barrier): 1.42\n"
     ]
    }
   ],
   "source": [
    "put_price = euro_barrier_pricer(N=N_periods, T=T, K=K, S=S0, r=r, sigma=sigma, H=38, option_type='put', barrier_type='do')\n",
    "print(\"Put price for given settings (Euro/Barrier): %.2f\" % put_price)"
   ]
  },
  {
   "cell_type": "markdown",
   "metadata": {},
   "source": [
    "# Trinomial tree"
   ]
  },
  {
   "cell_type": "markdown",
   "metadata": {},
   "source": [
    "## a)"
   ]
  },
  {
   "cell_type": "markdown",
   "metadata": {},
   "source": [
    "Again we adapt our code from HW2. In this case:\n",
    "* We remove the barrier conditions (although a \"hot fix\" could have been to keep it and set an infinitely large barrier)\n",
    "* We add the early exercise feature"
   ]
  },
  {
   "cell_type": "code",
   "execution_count": 42,
   "metadata": {},
   "outputs": [],
   "source": [
    "def american_pricer_trinom(N, T, S, K, r, sigma, option_type, div=0.0):\n",
    "        \n",
    "    if option_type == 'call':\n",
    "        payoff = lambda s, k: max(s-k, 0)\n",
    "    elif option_type == 'put':\n",
    "        payoff = lambda s, k: max(k-s, 0)\n",
    "    \n",
    "    # coefficients (from trinomal algo)\n",
    "    dt = T/N\n",
    "    nu = r - div - 0.5 * sigma**2\n",
    "    dx = sigma * np.sqrt(3* dt) # optimal value\n",
    "    edx = np.exp(dx)\n",
    "    disc = np.exp(-r * dt)\n",
    "    \n",
    "    # probabilities (from trinomial algo)\n",
    "    aux = (sigma**2 * dt + nu**2 * dt**2)/dx**2\n",
    "    pu = 0.5 * (aux+ nu * dt/dx)\n",
    "    pm = 1.0 - aux\n",
    "    pd = 0.5 * (aux - nu * dt/dx)\n",
    "    \n",
    "    # to be able to properly evolve spot values back in time,\n",
    "    ST = np.zeros(2*N+1)\n",
    "    ST[0] = S*np.exp(-N*dx)\n",
    "    \n",
    "    for j in range(1, 2*N+1):\n",
    "        ST[j] = ST[j-1]*edx\n",
    "\n",
    "    # here we use a full grid for C instead of a vector    \n",
    "    value = np.zeros((N+1, 2*N+1)) \n",
    "\n",
    "    for j in range(2*N+1):\n",
    "        value[N, j] = payoff(ST[j], K) \n",
    "\n",
    "    for i in range(N-1, -1, -1):\n",
    "        for j in range(N-i, N+i+1):\n",
    "            \n",
    "            # since S(t)_j = S(t+delta t)_j, there is no need to bring S back in time\n",
    "            value[i,j] = disc * (pu * value[i+1, j+1] + pm * value[i+1, j] + pd * value[i+1, j-1])\n",
    "            \n",
    "            # early exercise\n",
    "            value[i,j] = max(value[i,j],  payoff(ST[j], K))\n",
    "            \n",
    "    return value[0,N]\n",
    "    "
   ]
  },
  {
   "cell_type": "code",
   "execution_count": 43,
   "metadata": {},
   "outputs": [
    {
     "name": "stdout",
     "output_type": "stream",
     "text": [
      "Put price for given settings (American/trinomial): 3.59\n"
     ]
    }
   ],
   "source": [
    "put_price = american_pricer_trinom(N=N_periods, T=T, K=K, S=S0, r=r, sigma=sigma, option_type='put')\n",
    "print(\"Put price for given settings (American/trinomial): %.2f\" % put_price)"
   ]
  },
  {
   "cell_type": "markdown",
   "metadata": {},
   "source": [
    "This value is different from the one in the previous exercise - we suspect this to be due to numerical inaccuracies due to only using 3 time steps."
   ]
  },
  {
   "cell_type": "markdown",
   "metadata": {},
   "source": [
    "## b) "
   ]
  },
  {
   "cell_type": "markdown",
   "metadata": {},
   "source": [
    "Increasing the count for both models:"
   ]
  },
  {
   "cell_type": "code",
   "execution_count": 49,
   "metadata": {},
   "outputs": [
    {
     "name": "stdout",
     "output_type": "stream",
     "text": [
      "Put price for given settings (American/trinomial): 3.90\n",
      "Put price for given settings (American/binomial): 3.91\n"
     ]
    }
   ],
   "source": [
    "put_price = american_pricer_trinom(N=200, T=T, K=K, S=S0, r=r, sigma=sigma, option_type='put')\n",
    "print(\"Put price for given settings (American/trinomial): %.2f\" % put_price)\n",
    "\n",
    "put_price = american_vanilla_pricer(N=200, T=T, K=K, S=S0, r=r, sigma=sigma, option_type='put')\n",
    "print(\"Put price for given settings (American/binomial): %.2f\" % put_price)"
   ]
  },
  {
   "cell_type": "markdown",
   "metadata": {},
   "source": [
    "We see the values converge at ~ 3.90."
   ]
  },
  {
   "cell_type": "markdown",
   "metadata": {},
   "source": [
    "# Problem 3"
   ]
  },
  {
   "cell_type": "markdown",
   "metadata": {},
   "source": [
    "## a) Explicit"
   ]
  },
  {
   "cell_type": "markdown",
   "metadata": {},
   "source": [
    "For the PDE\n",
    "\n",
    "$$\\frac{\\partial V}{\\partial t} + 2 \\tan(S) \\frac{\\partial V}{\\partial S} + S^{3} \\frac{\\partial^2 V}{\\partial S^2} - rV  0$$"
   ]
  },
  {
   "cell_type": "markdown",
   "metadata": {},
   "source": [
    "let us call $\\mu(S) = 2\\tan(S)$ and $\\sigma(S) = S^{3}$. The under the explicit scheme, same as before\n",
    "\n",
    "$$\\begin{align*}\n",
    "\\frac{\\partial V}{\\partial t} (i,j) &= \\frac{V_{i+1,j} - V_{i,j}}{\\Delta t}\\\\\n",
    "\\frac{\\partial V}{\\partial S} (i,j) &= \\frac{V_{i+1,j+1} - V_{i+1,j-1}}{2 \\Delta S}\\\\\n",
    "\\frac{\\partial^2 V}{\\partial S^2} (i,j) &= \\frac{V_{i+1,j+1} - 2 V_{i+1,j} + V_{i+1,j-1}}{\\Delta S^2}\n",
    "\\end{align*}$$\n"
   ]
  },
  {
   "cell_type": "markdown",
   "metadata": {},
   "source": [
    "We shall also write $S = j \\Delta S$, such that \n",
    "$$\\mu_{j} = 2 \\tan (j \\Delta S)$$\n",
    "$$\\sigma_{j} = (j \\Delta S)^{3}$$"
   ]
  },
  {
   "cell_type": "markdown",
   "metadata": {},
   "source": [
    "Putting everything together we get\n",
    "$$\\frac{V_{i+1,j} - V_{i,j}}{\\Delta t} + \\mu_{j} \\frac{V_{i+1,j+1} - V_{i+1,j-1}}{2 \\Delta S} + \\sigma_{j} \\frac{V_{i+1,j+1} - 2 V_{i+1,j} + V_{i+1,j-1}}{\\Delta S^2}$$"
   ]
  },
  {
   "cell_type": "markdown",
   "metadata": {},
   "source": [
    "$$\\frac{V_{i,j}}{\\Delta t } = \\left[\n",
    "V_{i+1,j+1} \\left( \\frac{\\mu_{j}}{2\\Delta S} + \\frac{\\sigma_{j}}{\\Delta S^2} \\right) + \n",
    "V_{i+1,j} \\left(\\frac{1}{\\Delta t} - \\frac{2 \\sigma_{j}}{\\Delta S^2}\\right) +\n",
    "V_{i+1,j-1} \\left( -\\frac{\\mu_{j}}{2\\Delta S} + \\frac{\\sigma_{j}}{\\Delta S^2} \\right) \n",
    "\\right]$$"
   ]
  },
  {
   "cell_type": "markdown",
   "metadata": {},
   "source": [
    "$$\\boxed{V_{i,j} = (p_u)_{j} V_{i+1, j+1} + (p_m)_{j} V_{i+1,j} + (p_d)_{j} V_{i+1,j-1}}$$\n",
    "where, substituting the explicit formulae for $\\mu_j$ and $\\sigma_j$ we have\n",
    "\n",
    "$$\\boxed{\\begin{align*}\n",
    "(p_u)_j &= \\Delta t \\left( \\frac{2\\tan(j\\Delta S)}{2\\Delta S} + \\frac{(j \\Delta S)^{3}}{\\Delta S^2} \\right)\\\\\n",
    "(p_m)_j &= 1 - \\Delta t \\frac{(j \\Delta S)^{3}}{\\Delta S^2}\\\\\n",
    "(p_d)_j &= \\Delta t \\left( -\\frac{2\\tan(j\\Delta S)}{2\\Delta S} + \\frac{(j \\Delta S)^{3}}{\\Delta S^2} \\right)\n",
    "\\end{align*}}$$"
   ]
  },
  {
   "cell_type": "markdown",
   "metadata": {},
   "source": [
    "**Notice how the coefficients are $j$-dependent** since $\\mu$ and $\\sigma$ are functions of $j$. Thus, for every iteration, they must be updated as well as the option values."
   ]
  },
  {
   "cell_type": "markdown",
   "metadata": {},
   "source": [
    "## b) Implicit"
   ]
  },
  {
   "cell_type": "markdown",
   "metadata": {},
   "source": [
    "To derive the implicit scheme all we do is formally replace $i+1 \\to i$ for all \"non-$\\partial/\\partial t$\" terms in the PDE. Thus:"
   ]
  },
  {
   "cell_type": "markdown",
   "metadata": {},
   "source": [
    "\n",
    "$$\\begin{align*}\n",
    "\\frac{\\partial V}{\\partial t} (i,j) &= \\frac{V_{i+1,j} - V_{i,j}}{\\Delta t}\\\\\n",
    "\\frac{\\partial V}{\\partial S} (i,j) &= \\frac{V_{i,j+1} - V_{i,j-1}}{2 \\Delta S}\\\\\n",
    "\\frac{\\partial^2 V}{\\partial S^2} (i,j) &= \\frac{V_{i,j+1} - 2 V_{i,j} + V_{i,j-1}}{\\Delta S^2}\n",
    "\\end{align*}$$\n"
   ]
  },
  {
   "cell_type": "markdown",
   "metadata": {},
   "source": [
    "Putting everything together we get\n",
    "$$\\frac{V_{i+1,j} - V_{i,j}}{\\Delta t} + \\mu_{j} \\frac{V_{i,j+1} - V_{i,j-1}}{2 \\Delta S} + \\sigma_{j} \\frac{V_{i,j+1} - 2 V_{i,j} + V_{i,j-1}}{\\Delta S^2}$$"
   ]
  },
  {
   "cell_type": "markdown",
   "metadata": {},
   "source": [
    "Isolating $i$ terms in the LHS and $i+1$ terms in the RHS we get"
   ]
  },
  {
   "cell_type": "markdown",
   "metadata": {},
   "source": [
    "$$V_{i,j} \\left(\\frac{1}{\\Delta t} + \\frac{2 \\sigma_j}{\\Delta S^2} \\right) + V_{i, j+1} \\left( - \\frac{\\mu_j}{2\\Delta S} - \\frac{\\sigma_j}{\\Delta S^2} \\right) + V_{i,j-1} \\left( \\frac{\\mu_j}{2\\Delta S} - \\frac{\\sigma_j}{\\Delta S^2}\\right) = \\frac{V_{i+1,j}}{\\Delta t}$$"
   ]
  },
  {
   "cell_type": "markdown",
   "metadata": {},
   "source": [
    "From this we can conclude\n",
    "$$\\boxed{(p_u)_j V_{i,j+1} + (p_m)_j V_{i,j} + (p_d)_j V_{i,j-1} = V_{i+1,j}}$$\n",
    "\n",
    "where\n",
    "\n",
    "$$\\boxed{\\begin{align*}\n",
    "(p_u)_j &=  \\Delta t\\left( - \\frac{\\mu_j}{2\\Delta S} - \\frac{\\sigma_j}{\\Delta S^2} \\right) = \\Delta t\\left( - \\frac{ 2 \\tan (j \\Delta S)}{2\\Delta S} - \\frac{(j \\Delta S)^{3}}{\\Delta S^2} \\right)\\\\\n",
    "(p_m)_j &=  \\Delta t \\left(\\frac{1}{\\Delta t} + \\frac{2 \\sigma_j}{\\Delta S^2} \\right) = 1 + \\Delta t \\frac{2 (j \\Delta S)^{3}}{\\Delta S^2}\\\\\n",
    "(p_d)_j &= \\Delta t \\left( \\frac{\\mu_j}{2\\Delta S} - \\frac{\\sigma_j}{\\Delta S^2}\\right) = \\Delta t \\left( \\frac{ 2 \\tan (j \\Delta S)}{2\\Delta S} - \\frac{(j \\Delta S)^{3}}{\\Delta S^2}\\right)\n",
    "\\end{align*}}$$"
   ]
  },
  {
   "cell_type": "markdown",
   "metadata": {},
   "source": [
    "# Problem 4"
   ]
  },
  {
   "cell_type": "markdown",
   "metadata": {},
   "source": [
    "* (a): **TRUE**\n",
    "* (e): **TRUE** since for log-return the expected value is $(r - \\sigma^2/2) \\Delta t < r \\Delta t$.\n",
    "* (h): **TRUE**\n",
    "* Bonus: **TRUE** (see below)"
   ]
  },
  {
   "cell_type": "markdown",
   "metadata": {},
   "source": [
    "To see why on the bonus question, we construct two independend normal variates $X_1$ and $X_2$ and consider the new variables\n",
    "$$\\begin{align*}\n",
    "Z_1 &= X_1\\\\\n",
    "Z_2 &= \\rho X_1 + \\sqrt{1-\\rho^2} X_2\n",
    "\\end{align*}$$\n",
    "\n",
    "Then one can prove that $Z_1$ and $Z_2$ are also normal, with the same variance as $X_1$ or $X_2$, and with correlation $\\rho$."
   ]
  },
  {
   "cell_type": "code",
   "execution_count": null,
   "metadata": {},
   "outputs": [],
   "source": []
  }
 ],
 "metadata": {
  "kernelspec": {
   "display_name": "Python 3",
   "language": "python",
   "name": "python3"
  },
  "language_info": {
   "codemirror_mode": {
    "name": "ipython",
    "version": 3
   },
   "file_extension": ".py",
   "mimetype": "text/x-python",
   "name": "python",
   "nbconvert_exporter": "python",
   "pygments_lexer": "ipython3",
   "version": "3.7.9"
  },
  "toc": {
   "base_numbering": 1,
   "nav_menu": {},
   "number_sections": true,
   "sideBar": true,
   "skip_h1_title": false,
   "title_cell": "Table of Contents",
   "title_sidebar": "Contents",
   "toc_cell": false,
   "toc_position": {},
   "toc_section_display": true,
   "toc_window_display": false
  }
 },
 "nbformat": 4,
 "nbformat_minor": 4
}
