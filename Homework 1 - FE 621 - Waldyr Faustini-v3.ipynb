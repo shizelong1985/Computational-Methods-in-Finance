{
 "cells": [
  {
   "cell_type": "markdown",
   "metadata": {},
   "source": [
    "# Homework 1 - FE 621 - Waldyr Faustini"
   ]
  },
  {
   "cell_type": "markdown",
   "metadata": {},
   "source": [
    "## Part 1 - Getting Data Using Yahoo Finance\n",
    "\n",
    "I will use the yfinance API, not an official Yahoo API but i think was the best solution in this case"
   ]
  },
  {
   "cell_type": "code",
   "execution_count": 1,
   "metadata": {},
   "outputs": [],
   "source": [
    "# pip install yfinance --upgrade --no-cache-dir"
   ]
  },
  {
   "cell_type": "code",
   "execution_count": 2,
   "metadata": {},
   "outputs": [
    {
     "name": "stderr",
     "output_type": "stream",
     "text": [
      "C:\\ProgramData\\Anaconda3\\lib\\site-packages\\tqdm\\std.py:697: FutureWarning: The Panel class is removed from pandas. Accessing it from the top-level namespace will also be removed in the next version\n",
      "  from pandas import Panel\n"
     ]
    }
   ],
   "source": [
    "import yfinance as yf\n",
    "import pandas as pd\n",
    "import numpy as np\n",
    "import datetime as dt\n",
    "from tqdm.notebook import tqdm\n",
    "\n",
    "pd.options.mode.chained_assignment = None  # default='warn'\n",
    "\n",
    "tqdm.pandas() # for progress bars"
   ]
  },
  {
   "cell_type": "markdown",
   "metadata": {},
   "source": [
    "### Bonus\n",
    "Create a program that is capable of downloading multiple assets, combine them with the associated time column, and save the data into a csv or excel file.\n",
    "\n",
    "Since we intend on only downloading data after market close, it is sufficient for us to download equity data only for close values. However, in the last part of this exercise we also explicitly get intraday data for the specified tickers, for completeness."
   ]
  },
  {
   "cell_type": "markdown",
   "metadata": {},
   "source": [
    "#### First we show how the code works for AAPL as an example"
   ]
  },
  {
   "cell_type": "code",
   "execution_count": 3,
   "metadata": {},
   "outputs": [],
   "source": [
    "def download_current_options(ticker: yf.Ticker, savepath=None):\n",
    "    \n",
    "    download_datetime = pd.to_datetime('now')\n",
    "    download_date = download_datetime.date().strftime('%Y-%m-%d')\n",
    "    \n",
    "    option_list = []\n",
    "    for maturity in ticker.options:\n",
    "        \n",
    "        # only download for the upcoming weeks, not including this one\n",
    "        # this will bug for dates later in the year, but work now\n",
    "        if (pd.to_datetime(maturity).week <= download_datetime.week):\n",
    "            pass\n",
    "        else:\n",
    "            calls = ticker.option_chain(maturity).calls\n",
    "            puts = ticker.option_chain(maturity).puts\n",
    "\n",
    "            calls['type'] = 'call'\n",
    "            puts['type'] = 'put'\n",
    "            df = pd.concat([calls, puts])\n",
    "\n",
    "            df['maturity'] = maturity\n",
    "            option_list.append(df)\n",
    "\n",
    "    options = pd.concat(option_list)\n",
    "    options['download_date'] = download_date\n",
    "    options['ticker_underlying'] = ticker.ticker\n",
    "    \n",
    "    if savepath:\n",
    "        options.to_csv(savepath)\n",
    "        print(f\"{ticker.ticker} options:\\tsaved to {savepath}\")\n",
    "    \n",
    "    return options"
   ]
  },
  {
   "cell_type": "code",
   "execution_count": 4,
   "metadata": {},
   "outputs": [],
   "source": [
    "def download_equity_data(ticker: yf.Ticker, savepath=None):\n",
    "    \n",
    "    download_datetime = pd.to_datetime('now')\n",
    "    download_date = download_datetime.date().strftime('%Y-%m-%d')\n",
    "    \n",
    "    hist = ticker.history(period='1d').tail(1)\n",
    "    hist['ticker'] = ticker.ticker\n",
    "    hist['download_date'] = download_date\n",
    "    if savepath:\n",
    "        hist.to_csv(savepath)\n",
    "        print(f\"{ticker.ticker} market data:\\tsaved to {savepath}\")\n",
    "        \n",
    "    return hist"
   ]
  },
  {
   "cell_type": "code",
   "execution_count": 5,
   "metadata": {},
   "outputs": [],
   "source": [
    "def download_ticker_full_data(ticker_str):\n",
    "    ticker = yf.Ticker(ticker_str)\n",
    "    download_datetime = pd.to_datetime('now')\n",
    "    filename = lambda x: f\"{ticker.ticker}__{x}_{download_datetime.strftime('%Y-%m-%d')}.csv\"\n",
    "    option_file = filename('options')\n",
    "    equity_file = filename('equity')\n",
    "    hist, opts = download_equity_data(ticker, savepath=equity_file), download_current_options(ticker, savepath=option_file)\n",
    "    return hist, opts"
   ]
  },
  {
   "cell_type": "code",
   "execution_count": 63,
   "metadata": {},
   "outputs": [
    {
     "name": "stdout",
     "output_type": "stream",
     "text": [
      "AAPL market data: saved to AAPL__equity_2021-02-22.csv\n",
      "AAPL options: saved to AAPL__options_2021-02-22.csv\n",
      "Wall time: 23.5 s\n"
     ]
    }
   ],
   "source": [
    "%%time\n",
    "hist, opts = download_ticker_full_data('AAPL')"
   ]
  },
  {
   "cell_type": "markdown",
   "metadata": {},
   "source": [
    "Visualize AAPL data and options:"
   ]
  },
  {
   "cell_type": "code",
   "execution_count": 64,
   "metadata": {},
   "outputs": [
    {
     "data": {
      "text/html": [
       "<div>\n",
       "<style scoped>\n",
       "    .dataframe tbody tr th:only-of-type {\n",
       "        vertical-align: middle;\n",
       "    }\n",
       "\n",
       "    .dataframe tbody tr th {\n",
       "        vertical-align: top;\n",
       "    }\n",
       "\n",
       "    .dataframe thead th {\n",
       "        text-align: right;\n",
       "    }\n",
       "</style>\n",
       "<table border=\"1\" class=\"dataframe\">\n",
       "  <thead>\n",
       "    <tr style=\"text-align: right;\">\n",
       "      <th></th>\n",
       "      <th>Open</th>\n",
       "      <th>High</th>\n",
       "      <th>Low</th>\n",
       "      <th>Close</th>\n",
       "      <th>Volume</th>\n",
       "      <th>Dividends</th>\n",
       "      <th>Stock Splits</th>\n",
       "      <th>ticker</th>\n",
       "      <th>download_date</th>\n",
       "    </tr>\n",
       "    <tr>\n",
       "      <th>Date</th>\n",
       "      <th></th>\n",
       "      <th></th>\n",
       "      <th></th>\n",
       "      <th></th>\n",
       "      <th></th>\n",
       "      <th></th>\n",
       "      <th></th>\n",
       "      <th></th>\n",
       "      <th></th>\n",
       "    </tr>\n",
       "  </thead>\n",
       "  <tbody>\n",
       "    <tr>\n",
       "      <th>2021-02-19</th>\n",
       "      <td>130.240005</td>\n",
       "      <td>130.710007</td>\n",
       "      <td>128.800003</td>\n",
       "      <td>129.869995</td>\n",
       "      <td>87668834</td>\n",
       "      <td>0</td>\n",
       "      <td>0</td>\n",
       "      <td>AAPL</td>\n",
       "      <td>2021-02-22</td>\n",
       "    </tr>\n",
       "  </tbody>\n",
       "</table>\n",
       "</div>"
      ],
      "text/plain": [
       "                  Open        High         Low       Close    Volume  \\\n",
       "Date                                                                   \n",
       "2021-02-19  130.240005  130.710007  128.800003  129.869995  87668834   \n",
       "\n",
       "            Dividends  Stock Splits ticker download_date  \n",
       "Date                                                      \n",
       "2021-02-19          0             0   AAPL    2021-02-22  "
      ]
     },
     "execution_count": 64,
     "metadata": {},
     "output_type": "execute_result"
    }
   ],
   "source": [
    "hist.head(3) # there is by construction just one value - the last recorded close"
   ]
  },
  {
   "cell_type": "code",
   "execution_count": 65,
   "metadata": {},
   "outputs": [
    {
     "data": {
      "text/html": [
       "<div>\n",
       "<style scoped>\n",
       "    .dataframe tbody tr th:only-of-type {\n",
       "        vertical-align: middle;\n",
       "    }\n",
       "\n",
       "    .dataframe tbody tr th {\n",
       "        vertical-align: top;\n",
       "    }\n",
       "\n",
       "    .dataframe thead th {\n",
       "        text-align: right;\n",
       "    }\n",
       "</style>\n",
       "<table border=\"1\" class=\"dataframe\">\n",
       "  <thead>\n",
       "    <tr style=\"text-align: right;\">\n",
       "      <th></th>\n",
       "      <th>contractSymbol</th>\n",
       "      <th>lastTradeDate</th>\n",
       "      <th>strike</th>\n",
       "      <th>lastPrice</th>\n",
       "      <th>bid</th>\n",
       "      <th>ask</th>\n",
       "      <th>change</th>\n",
       "      <th>percentChange</th>\n",
       "      <th>volume</th>\n",
       "      <th>openInterest</th>\n",
       "      <th>impliedVolatility</th>\n",
       "      <th>inTheMoney</th>\n",
       "      <th>contractSize</th>\n",
       "      <th>currency</th>\n",
       "      <th>type</th>\n",
       "      <th>maturity</th>\n",
       "      <th>download_date</th>\n",
       "      <th>ticker_underlying</th>\n",
       "    </tr>\n",
       "  </thead>\n",
       "  <tbody>\n",
       "    <tr>\n",
       "      <th>0</th>\n",
       "      <td>AAPL210305C00070000</td>\n",
       "      <td>2021-02-19 20:55:11</td>\n",
       "      <td>70.0</td>\n",
       "      <td>60.00</td>\n",
       "      <td>0.0</td>\n",
       "      <td>0.0</td>\n",
       "      <td>0.0</td>\n",
       "      <td>0.0</td>\n",
       "      <td>3.0</td>\n",
       "      <td>4.0</td>\n",
       "      <td>0.00001</td>\n",
       "      <td>True</td>\n",
       "      <td>REGULAR</td>\n",
       "      <td>USD</td>\n",
       "      <td>call</td>\n",
       "      <td>2021-03-05</td>\n",
       "      <td>2021-02-22</td>\n",
       "      <td>AAPL</td>\n",
       "    </tr>\n",
       "    <tr>\n",
       "      <th>1</th>\n",
       "      <td>AAPL210305C00075000</td>\n",
       "      <td>2021-02-11 15:12:01</td>\n",
       "      <td>75.0</td>\n",
       "      <td>60.25</td>\n",
       "      <td>0.0</td>\n",
       "      <td>0.0</td>\n",
       "      <td>0.0</td>\n",
       "      <td>0.0</td>\n",
       "      <td>3.0</td>\n",
       "      <td>3.0</td>\n",
       "      <td>0.00001</td>\n",
       "      <td>True</td>\n",
       "      <td>REGULAR</td>\n",
       "      <td>USD</td>\n",
       "      <td>call</td>\n",
       "      <td>2021-03-05</td>\n",
       "      <td>2021-02-22</td>\n",
       "      <td>AAPL</td>\n",
       "    </tr>\n",
       "    <tr>\n",
       "      <th>2</th>\n",
       "      <td>AAPL210305C00080000</td>\n",
       "      <td>2021-02-08 20:24:00</td>\n",
       "      <td>80.0</td>\n",
       "      <td>56.40</td>\n",
       "      <td>0.0</td>\n",
       "      <td>0.0</td>\n",
       "      <td>0.0</td>\n",
       "      <td>0.0</td>\n",
       "      <td>2.0</td>\n",
       "      <td>1.0</td>\n",
       "      <td>0.00001</td>\n",
       "      <td>True</td>\n",
       "      <td>REGULAR</td>\n",
       "      <td>USD</td>\n",
       "      <td>call</td>\n",
       "      <td>2021-03-05</td>\n",
       "      <td>2021-02-22</td>\n",
       "      <td>AAPL</td>\n",
       "    </tr>\n",
       "  </tbody>\n",
       "</table>\n",
       "</div>"
      ],
      "text/plain": [
       "        contractSymbol       lastTradeDate  strike  lastPrice  bid  ask  \\\n",
       "0  AAPL210305C00070000 2021-02-19 20:55:11    70.0      60.00  0.0  0.0   \n",
       "1  AAPL210305C00075000 2021-02-11 15:12:01    75.0      60.25  0.0  0.0   \n",
       "2  AAPL210305C00080000 2021-02-08 20:24:00    80.0      56.40  0.0  0.0   \n",
       "\n",
       "   change  percentChange  volume  openInterest  impliedVolatility  inTheMoney  \\\n",
       "0     0.0            0.0     3.0           4.0            0.00001        True   \n",
       "1     0.0            0.0     3.0           3.0            0.00001        True   \n",
       "2     0.0            0.0     2.0           1.0            0.00001        True   \n",
       "\n",
       "  contractSize currency  type    maturity download_date ticker_underlying  \n",
       "0      REGULAR      USD  call  2021-03-05    2021-02-22              AAPL  \n",
       "1      REGULAR      USD  call  2021-03-05    2021-02-22              AAPL  \n",
       "2      REGULAR      USD  call  2021-03-05    2021-02-22              AAPL  "
      ]
     },
     "execution_count": 65,
     "metadata": {},
     "output_type": "execute_result"
    }
   ],
   "source": [
    "opts.head(3)"
   ]
  },
  {
   "cell_type": "markdown",
   "metadata": {},
   "source": [
    "We now proceed to formalize this into a single script for a list of tickers"
   ]
  },
  {
   "cell_type": "code",
   "execution_count": 81,
   "metadata": {},
   "outputs": [],
   "source": [
    "def download_list_ticker_data(tickers: list):\n",
    "    assert tickers, \"Ticker list is empty\"\n",
    "    \n",
    "    hist_list, opts_list = [], []\n",
    "    for ticker in tickers:\n",
    "        hist, opts = download_ticker_full_data(ticker)\n",
    "        hist_list.append(hist)\n",
    "        opts_list.append(opts)\n",
    "        \n",
    "    hist_df = pd.concat(hist_list)\n",
    "    opts_df = pd.concat(opts_list)\n",
    "    \n",
    "    # pre-process\n",
    "    len_opts = len(opts_df)\n",
    "    opts_df = opts_df.dropna()\n",
    "    opts_df = opts_df.drop_duplicates()\n",
    "    print(f\"After dropping NAs and duplicates, options data went from {len_opts} to {len(opts)} entries\")\n",
    "    \n",
    "    filename = lambda x: f\"{' '.join(tickers)}__{x}_{pd.to_datetime('now').strftime('%Y-%m-%d')}.csv\"\n",
    "    hist_df.to_csv(filename('equity'))\n",
    "    opts_df.to_csv(filename('options'))\n",
    "    \n",
    "    return hist_df, opts_df"
   ]
  },
  {
   "cell_type": "code",
   "execution_count": 83,
   "metadata": {},
   "outputs": [
    {
     "name": "stdout",
     "output_type": "stream",
     "text": [
      "SPY market data:\tsaved to SPY__equity_2021-02-22.csv\n",
      "SPY options:\tsaved to SPY__options_2021-02-22.csv\n",
      "^VIX market data:\tsaved to ^VIX__equity_2021-02-22.csv\n",
      "^VIX options:\tsaved to ^VIX__options_2021-02-22.csv\n",
      "AAPL market data:\tsaved to AAPL__equity_2021-02-22.csv\n",
      "AAPL options:\tsaved to AAPL__options_2021-02-22.csv\n",
      "After dropping NAs and duplicates, options data went from 9329 to 2083 entries\n",
      "Wall time: 1min 18s\n"
     ]
    }
   ],
   "source": [
    "%%time\n",
    "hist, opts = download_list_ticker_data(['SPY', \"^VIX\", \"AAPL\"])"
   ]
  },
  {
   "cell_type": "markdown",
   "metadata": {},
   "source": [
    "### Bonus: intraday equity data with a single time index"
   ]
  },
  {
   "cell_type": "markdown",
   "metadata": {},
   "source": [
    "To pick data only for days Feb 23 and 24, we use the Yahoo finance API and clean data afterwards"
   ]
  },
  {
   "cell_type": "code",
   "execution_count": 112,
   "metadata": {},
   "outputs": [
    {
     "name": "stdout",
     "output_type": "stream",
     "text": [
      "[*********************100%***********************]  3 of 3 completed\n"
     ]
    }
   ],
   "source": [
    "bonus_data = yf.download(\"AMZN SPY ^VIX\", start=\"2021-02-23\", end=\"2021-02-26\",interval=\"1m\", group_by='tickers')"
   ]
  },
  {
   "cell_type": "code",
   "execution_count": 113,
   "metadata": {},
   "outputs": [],
   "source": [
    "# convert to single-row column names\n",
    "bonus_data.columns = [' '.join(col).strip() for col in bonus_data.columns.values]"
   ]
  },
  {
   "cell_type": "code",
   "execution_count": 114,
   "metadata": {},
   "outputs": [
    {
     "data": {
      "text/html": [
       "<div>\n",
       "<style scoped>\n",
       "    .dataframe tbody tr th:only-of-type {\n",
       "        vertical-align: middle;\n",
       "    }\n",
       "\n",
       "    .dataframe tbody tr th {\n",
       "        vertical-align: top;\n",
       "    }\n",
       "\n",
       "    .dataframe thead th {\n",
       "        text-align: right;\n",
       "    }\n",
       "</style>\n",
       "<table border=\"1\" class=\"dataframe\">\n",
       "  <thead>\n",
       "    <tr style=\"text-align: right;\">\n",
       "      <th></th>\n",
       "      <th>SPY Open</th>\n",
       "      <th>SPY High</th>\n",
       "      <th>SPY Low</th>\n",
       "      <th>SPY Close</th>\n",
       "      <th>SPY Adj Close</th>\n",
       "      <th>SPY Volume</th>\n",
       "      <th>^VIX Open</th>\n",
       "      <th>^VIX High</th>\n",
       "      <th>^VIX Low</th>\n",
       "      <th>^VIX Close</th>\n",
       "      <th>^VIX Adj Close</th>\n",
       "      <th>^VIX Volume</th>\n",
       "      <th>AMZN Open</th>\n",
       "      <th>AMZN High</th>\n",
       "      <th>AMZN Low</th>\n",
       "      <th>AMZN Close</th>\n",
       "      <th>AMZN Adj Close</th>\n",
       "      <th>AMZN Volume</th>\n",
       "    </tr>\n",
       "    <tr>\n",
       "      <th>Datetime</th>\n",
       "      <th></th>\n",
       "      <th></th>\n",
       "      <th></th>\n",
       "      <th></th>\n",
       "      <th></th>\n",
       "      <th></th>\n",
       "      <th></th>\n",
       "      <th></th>\n",
       "      <th></th>\n",
       "      <th></th>\n",
       "      <th></th>\n",
       "      <th></th>\n",
       "      <th></th>\n",
       "      <th></th>\n",
       "      <th></th>\n",
       "      <th></th>\n",
       "      <th></th>\n",
       "      <th></th>\n",
       "    </tr>\n",
       "  </thead>\n",
       "  <tbody>\n",
       "    <tr>\n",
       "      <th>2021-02-22 10:00:00-05:00</th>\n",
       "      <td>388.019989</td>\n",
       "      <td>388.269989</td>\n",
       "      <td>387.980011</td>\n",
       "      <td>388.250000</td>\n",
       "      <td>388.250000</td>\n",
       "      <td>0</td>\n",
       "      <td>23.459999</td>\n",
       "      <td>23.459999</td>\n",
       "      <td>23.389999</td>\n",
       "      <td>23.389999</td>\n",
       "      <td>23.389999</td>\n",
       "      <td>0.0</td>\n",
       "      <td>3227.840088</td>\n",
       "      <td>3230.629883</td>\n",
       "      <td>3224.520020</td>\n",
       "      <td>3230.629883</td>\n",
       "      <td>3230.629883</td>\n",
       "      <td>0.0</td>\n",
       "    </tr>\n",
       "    <tr>\n",
       "      <th>2021-02-22 10:01:00-05:00</th>\n",
       "      <td>388.260010</td>\n",
       "      <td>388.359985</td>\n",
       "      <td>387.970001</td>\n",
       "      <td>388.000000</td>\n",
       "      <td>388.000000</td>\n",
       "      <td>136022</td>\n",
       "      <td>23.250000</td>\n",
       "      <td>23.400000</td>\n",
       "      <td>23.250000</td>\n",
       "      <td>23.400000</td>\n",
       "      <td>23.400000</td>\n",
       "      <td>0.0</td>\n",
       "      <td>3232.319824</td>\n",
       "      <td>3232.319824</td>\n",
       "      <td>3221.669922</td>\n",
       "      <td>3221.669922</td>\n",
       "      <td>3221.669922</td>\n",
       "      <td>8290.0</td>\n",
       "    </tr>\n",
       "    <tr>\n",
       "      <th>2021-02-22 10:02:00-05:00</th>\n",
       "      <td>388.010101</td>\n",
       "      <td>388.239990</td>\n",
       "      <td>387.950012</td>\n",
       "      <td>388.218994</td>\n",
       "      <td>388.218994</td>\n",
       "      <td>131363</td>\n",
       "      <td>23.410000</td>\n",
       "      <td>23.440001</td>\n",
       "      <td>23.410000</td>\n",
       "      <td>23.430000</td>\n",
       "      <td>23.430000</td>\n",
       "      <td>0.0</td>\n",
       "      <td>3222.159912</td>\n",
       "      <td>3225.489990</td>\n",
       "      <td>3220.010010</td>\n",
       "      <td>3225.489990</td>\n",
       "      <td>3225.489990</td>\n",
       "      <td>10906.0</td>\n",
       "    </tr>\n",
       "  </tbody>\n",
       "</table>\n",
       "</div>"
      ],
      "text/plain": [
       "                             SPY Open    SPY High     SPY Low   SPY Close  \\\n",
       "Datetime                                                                    \n",
       "2021-02-22 10:00:00-05:00  388.019989  388.269989  387.980011  388.250000   \n",
       "2021-02-22 10:01:00-05:00  388.260010  388.359985  387.970001  388.000000   \n",
       "2021-02-22 10:02:00-05:00  388.010101  388.239990  387.950012  388.218994   \n",
       "\n",
       "                           SPY Adj Close  SPY Volume  ^VIX Open  ^VIX High  \\\n",
       "Datetime                                                                     \n",
       "2021-02-22 10:00:00-05:00     388.250000           0  23.459999  23.459999   \n",
       "2021-02-22 10:01:00-05:00     388.000000      136022  23.250000  23.400000   \n",
       "2021-02-22 10:02:00-05:00     388.218994      131363  23.410000  23.440001   \n",
       "\n",
       "                            ^VIX Low  ^VIX Close  ^VIX Adj Close  ^VIX Volume  \\\n",
       "Datetime                                                                        \n",
       "2021-02-22 10:00:00-05:00  23.389999   23.389999       23.389999          0.0   \n",
       "2021-02-22 10:01:00-05:00  23.250000   23.400000       23.400000          0.0   \n",
       "2021-02-22 10:02:00-05:00  23.410000   23.430000       23.430000          0.0   \n",
       "\n",
       "                             AMZN Open    AMZN High     AMZN Low   AMZN Close  \\\n",
       "Datetime                                                                        \n",
       "2021-02-22 10:00:00-05:00  3227.840088  3230.629883  3224.520020  3230.629883   \n",
       "2021-02-22 10:01:00-05:00  3232.319824  3232.319824  3221.669922  3221.669922   \n",
       "2021-02-22 10:02:00-05:00  3222.159912  3225.489990  3220.010010  3225.489990   \n",
       "\n",
       "                           AMZN Adj Close  AMZN Volume  \n",
       "Datetime                                                \n",
       "2021-02-22 10:00:00-05:00     3230.629883          0.0  \n",
       "2021-02-22 10:01:00-05:00     3221.669922       8290.0  \n",
       "2021-02-22 10:02:00-05:00     3225.489990      10906.0  "
      ]
     },
     "execution_count": 114,
     "metadata": {},
     "output_type": "execute_result"
    }
   ],
   "source": [
    "bonus_data.head(3)"
   ]
  },
  {
   "cell_type": "code",
   "execution_count": 115,
   "metadata": {},
   "outputs": [],
   "source": [
    "bonus_data['time'] = pd.to_datetime(bonus_data.index)"
   ]
  },
  {
   "cell_type": "code",
   "execution_count": 116,
   "metadata": {},
   "outputs": [],
   "source": [
    "bonus_data = bonus_data[bonus_data['time'].dt.day.isin([23,24])]"
   ]
  },
  {
   "cell_type": "code",
   "execution_count": 119,
   "metadata": {},
   "outputs": [],
   "source": [
    "bonus_data = bonus_data.dropna()"
   ]
  },
  {
   "cell_type": "code",
   "execution_count": 120,
   "metadata": {},
   "outputs": [
    {
     "data": {
      "text/html": [
       "<div>\n",
       "<style scoped>\n",
       "    .dataframe tbody tr th:only-of-type {\n",
       "        vertical-align: middle;\n",
       "    }\n",
       "\n",
       "    .dataframe tbody tr th {\n",
       "        vertical-align: top;\n",
       "    }\n",
       "\n",
       "    .dataframe thead th {\n",
       "        text-align: right;\n",
       "    }\n",
       "</style>\n",
       "<table border=\"1\" class=\"dataframe\">\n",
       "  <thead>\n",
       "    <tr style=\"text-align: right;\">\n",
       "      <th></th>\n",
       "      <th>SPY Open</th>\n",
       "      <th>SPY High</th>\n",
       "      <th>SPY Low</th>\n",
       "      <th>SPY Close</th>\n",
       "      <th>SPY Adj Close</th>\n",
       "      <th>SPY Volume</th>\n",
       "      <th>^VIX Open</th>\n",
       "      <th>^VIX High</th>\n",
       "      <th>^VIX Low</th>\n",
       "      <th>^VIX Close</th>\n",
       "      <th>^VIX Adj Close</th>\n",
       "      <th>^VIX Volume</th>\n",
       "      <th>AMZN Open</th>\n",
       "      <th>AMZN High</th>\n",
       "      <th>AMZN Low</th>\n",
       "      <th>AMZN Close</th>\n",
       "      <th>AMZN Adj Close</th>\n",
       "      <th>AMZN Volume</th>\n",
       "      <th>time</th>\n",
       "    </tr>\n",
       "    <tr>\n",
       "      <th>Datetime</th>\n",
       "      <th></th>\n",
       "      <th></th>\n",
       "      <th></th>\n",
       "      <th></th>\n",
       "      <th></th>\n",
       "      <th></th>\n",
       "      <th></th>\n",
       "      <th></th>\n",
       "      <th></th>\n",
       "      <th></th>\n",
       "      <th></th>\n",
       "      <th></th>\n",
       "      <th></th>\n",
       "      <th></th>\n",
       "      <th></th>\n",
       "      <th></th>\n",
       "      <th></th>\n",
       "      <th></th>\n",
       "      <th></th>\n",
       "    </tr>\n",
       "  </thead>\n",
       "  <tbody>\n",
       "    <tr>\n",
       "      <th>2021-02-23 09:31:00-05:00</th>\n",
       "      <td>384.250000</td>\n",
       "      <td>384.279999</td>\n",
       "      <td>384.250000</td>\n",
       "      <td>384.250000</td>\n",
       "      <td>384.250000</td>\n",
       "      <td>517867</td>\n",
       "      <td>25.120001</td>\n",
       "      <td>25.120001</td>\n",
       "      <td>24.959999</td>\n",
       "      <td>24.959999</td>\n",
       "      <td>24.959999</td>\n",
       "      <td>0.0</td>\n",
       "      <td>3128.360107</td>\n",
       "      <td>3137.520020</td>\n",
       "      <td>3128.360107</td>\n",
       "      <td>3130.000000</td>\n",
       "      <td>3130.000000</td>\n",
       "      <td>17692.0</td>\n",
       "      <td>2021-02-23 09:31:00-05:00</td>\n",
       "    </tr>\n",
       "    <tr>\n",
       "      <th>2021-02-23 09:32:00-05:00</th>\n",
       "      <td>384.250000</td>\n",
       "      <td>384.500000</td>\n",
       "      <td>384.079987</td>\n",
       "      <td>384.109894</td>\n",
       "      <td>384.109894</td>\n",
       "      <td>488356</td>\n",
       "      <td>25.080000</td>\n",
       "      <td>25.100000</td>\n",
       "      <td>24.940001</td>\n",
       "      <td>25.059999</td>\n",
       "      <td>25.059999</td>\n",
       "      <td>0.0</td>\n",
       "      <td>3135.000000</td>\n",
       "      <td>3139.949951</td>\n",
       "      <td>3132.080078</td>\n",
       "      <td>3132.080078</td>\n",
       "      <td>3132.080078</td>\n",
       "      <td>18519.0</td>\n",
       "      <td>2021-02-23 09:32:00-05:00</td>\n",
       "    </tr>\n",
       "    <tr>\n",
       "      <th>2021-02-23 09:33:00-05:00</th>\n",
       "      <td>384.119995</td>\n",
       "      <td>384.230011</td>\n",
       "      <td>383.959991</td>\n",
       "      <td>384.010010</td>\n",
       "      <td>384.010010</td>\n",
       "      <td>615814</td>\n",
       "      <td>25.110001</td>\n",
       "      <td>25.150000</td>\n",
       "      <td>25.030001</td>\n",
       "      <td>25.150000</td>\n",
       "      <td>25.150000</td>\n",
       "      <td>0.0</td>\n",
       "      <td>3132.280029</td>\n",
       "      <td>3134.850098</td>\n",
       "      <td>3131.110107</td>\n",
       "      <td>3133.709961</td>\n",
       "      <td>3133.709961</td>\n",
       "      <td>6476.0</td>\n",
       "      <td>2021-02-23 09:33:00-05:00</td>\n",
       "    </tr>\n",
       "    <tr>\n",
       "      <th>2021-02-23 09:35:00-05:00</th>\n",
       "      <td>383.660004</td>\n",
       "      <td>383.760010</td>\n",
       "      <td>383.480011</td>\n",
       "      <td>383.489990</td>\n",
       "      <td>383.489990</td>\n",
       "      <td>487823</td>\n",
       "      <td>25.450001</td>\n",
       "      <td>25.450001</td>\n",
       "      <td>25.320000</td>\n",
       "      <td>25.320000</td>\n",
       "      <td>25.320000</td>\n",
       "      <td>0.0</td>\n",
       "      <td>3110.989990</td>\n",
       "      <td>3110.989990</td>\n",
       "      <td>3109.469238</td>\n",
       "      <td>3109.469238</td>\n",
       "      <td>3109.469238</td>\n",
       "      <td>86696.0</td>\n",
       "      <td>2021-02-23 09:35:00-05:00</td>\n",
       "    </tr>\n",
       "    <tr>\n",
       "      <th>2021-02-23 09:36:00-05:00</th>\n",
       "      <td>383.489990</td>\n",
       "      <td>383.739990</td>\n",
       "      <td>383.429993</td>\n",
       "      <td>383.670013</td>\n",
       "      <td>383.670013</td>\n",
       "      <td>519078</td>\n",
       "      <td>25.450001</td>\n",
       "      <td>25.450001</td>\n",
       "      <td>25.450001</td>\n",
       "      <td>25.450001</td>\n",
       "      <td>25.450001</td>\n",
       "      <td>0.0</td>\n",
       "      <td>3111.059814</td>\n",
       "      <td>3118.000000</td>\n",
       "      <td>3111.059814</td>\n",
       "      <td>3111.889893</td>\n",
       "      <td>3111.889893</td>\n",
       "      <td>20490.0</td>\n",
       "      <td>2021-02-23 09:36:00-05:00</td>\n",
       "    </tr>\n",
       "  </tbody>\n",
       "</table>\n",
       "</div>"
      ],
      "text/plain": [
       "                             SPY Open    SPY High     SPY Low   SPY Close  \\\n",
       "Datetime                                                                    \n",
       "2021-02-23 09:31:00-05:00  384.250000  384.279999  384.250000  384.250000   \n",
       "2021-02-23 09:32:00-05:00  384.250000  384.500000  384.079987  384.109894   \n",
       "2021-02-23 09:33:00-05:00  384.119995  384.230011  383.959991  384.010010   \n",
       "2021-02-23 09:35:00-05:00  383.660004  383.760010  383.480011  383.489990   \n",
       "2021-02-23 09:36:00-05:00  383.489990  383.739990  383.429993  383.670013   \n",
       "\n",
       "                           SPY Adj Close  SPY Volume  ^VIX Open  ^VIX High  \\\n",
       "Datetime                                                                     \n",
       "2021-02-23 09:31:00-05:00     384.250000      517867  25.120001  25.120001   \n",
       "2021-02-23 09:32:00-05:00     384.109894      488356  25.080000  25.100000   \n",
       "2021-02-23 09:33:00-05:00     384.010010      615814  25.110001  25.150000   \n",
       "2021-02-23 09:35:00-05:00     383.489990      487823  25.450001  25.450001   \n",
       "2021-02-23 09:36:00-05:00     383.670013      519078  25.450001  25.450001   \n",
       "\n",
       "                            ^VIX Low  ^VIX Close  ^VIX Adj Close  ^VIX Volume  \\\n",
       "Datetime                                                                        \n",
       "2021-02-23 09:31:00-05:00  24.959999   24.959999       24.959999          0.0   \n",
       "2021-02-23 09:32:00-05:00  24.940001   25.059999       25.059999          0.0   \n",
       "2021-02-23 09:33:00-05:00  25.030001   25.150000       25.150000          0.0   \n",
       "2021-02-23 09:35:00-05:00  25.320000   25.320000       25.320000          0.0   \n",
       "2021-02-23 09:36:00-05:00  25.450001   25.450001       25.450001          0.0   \n",
       "\n",
       "                             AMZN Open    AMZN High     AMZN Low   AMZN Close  \\\n",
       "Datetime                                                                        \n",
       "2021-02-23 09:31:00-05:00  3128.360107  3137.520020  3128.360107  3130.000000   \n",
       "2021-02-23 09:32:00-05:00  3135.000000  3139.949951  3132.080078  3132.080078   \n",
       "2021-02-23 09:33:00-05:00  3132.280029  3134.850098  3131.110107  3133.709961   \n",
       "2021-02-23 09:35:00-05:00  3110.989990  3110.989990  3109.469238  3109.469238   \n",
       "2021-02-23 09:36:00-05:00  3111.059814  3118.000000  3111.059814  3111.889893   \n",
       "\n",
       "                           AMZN Adj Close  AMZN Volume  \\\n",
       "Datetime                                                 \n",
       "2021-02-23 09:31:00-05:00     3130.000000      17692.0   \n",
       "2021-02-23 09:32:00-05:00     3132.080078      18519.0   \n",
       "2021-02-23 09:33:00-05:00     3133.709961       6476.0   \n",
       "2021-02-23 09:35:00-05:00     3109.469238      86696.0   \n",
       "2021-02-23 09:36:00-05:00     3111.889893      20490.0   \n",
       "\n",
       "                                               time  \n",
       "Datetime                                             \n",
       "2021-02-23 09:31:00-05:00 2021-02-23 09:31:00-05:00  \n",
       "2021-02-23 09:32:00-05:00 2021-02-23 09:32:00-05:00  \n",
       "2021-02-23 09:33:00-05:00 2021-02-23 09:33:00-05:00  \n",
       "2021-02-23 09:35:00-05:00 2021-02-23 09:35:00-05:00  \n",
       "2021-02-23 09:36:00-05:00 2021-02-23 09:36:00-05:00  "
      ]
     },
     "execution_count": 120,
     "metadata": {},
     "output_type": "execute_result"
    }
   ],
   "source": [
    "bonus_data.head()"
   ]
  },
  {
   "cell_type": "markdown",
   "metadata": {},
   "source": [
    "### How we got data for two days\n",
    "In two consecutive days (Feb 23 and 24) we ran the script above to download data. **These happened after market close each day**, so that the spot price to consider is the market close for the underlyings.\n",
    "\n",
    "We now join them into a single file."
   ]
  },
  {
   "cell_type": "markdown",
   "metadata": {},
   "source": [
    "*Closing prices*"
   ]
  },
  {
   "cell_type": "code",
   "execution_count": 25,
   "metadata": {},
   "outputs": [],
   "source": [
    "spot_close_list = ['data_downloads/SPY ^VIX AMZN__equity_2021-02-23.csv',\n",
    "                  'data_downloads/SPY ^VIX AMZN__equity_2021-02-24.csv']"
   ]
  },
  {
   "cell_type": "code",
   "execution_count": 26,
   "metadata": {},
   "outputs": [],
   "source": [
    "spot_closes = pd.concat([pd.read_csv(file) for file in spot_close_list])"
   ]
  },
  {
   "cell_type": "markdown",
   "metadata": {},
   "source": [
    "We will join this table with the options table to get the spot values for the underlying assets"
   ]
  },
  {
   "cell_type": "code",
   "execution_count": 27,
   "metadata": {},
   "outputs": [],
   "source": [
    "spot_closes = spot_closes[['ticker', 'download_date', 'Close', 'Volume']]"
   ]
  },
  {
   "cell_type": "markdown",
   "metadata": {},
   "source": [
    "*Options*"
   ]
  },
  {
   "cell_type": "code",
   "execution_count": 28,
   "metadata": {},
   "outputs": [],
   "source": [
    "option_file_list = ['data_downloads/SPY ^VIX AMZN__options_2021-02-23.csv', \n",
    "                    'data_downloads/SPY ^VIX AMZN__options_2021-02-24.csv']"
   ]
  },
  {
   "cell_type": "code",
   "execution_count": 29,
   "metadata": {},
   "outputs": [],
   "source": [
    "options = pd.concat([pd.read_csv(file, index_col=0) for file in option_file_list])"
   ]
  },
  {
   "cell_type": "markdown",
   "metadata": {},
   "source": [
    "### Filter by times to maturity\n",
    "We want to keep with $T-t < 3$ months; furthermore, the \"no-same-week\" filter has already been applied"
   ]
  },
  {
   "cell_type": "code",
   "execution_count": 30,
   "metadata": {},
   "outputs": [],
   "source": [
    "options['time_to_maturity'] = pd.to_datetime(options['maturity'], format='%Y-%m-%d') - pd.to_datetime(options['download_date'], format='%Y-%m-%d')"
   ]
  },
  {
   "cell_type": "code",
   "execution_count": 31,
   "metadata": {},
   "outputs": [],
   "source": [
    "options = options[(options['time_to_maturity'] <= pd.Timedelta('90 days'))]"
   ]
  },
  {
   "cell_type": "code",
   "execution_count": 32,
   "metadata": {},
   "outputs": [
    {
     "data": {
      "text/plain": [
       "count                         10979\n",
       "mean     32 days 00:23:05.044175243\n",
       "std      23 days 03:18:33.296568793\n",
       "min                 5 days 00:00:00\n",
       "25%                16 days 00:00:00\n",
       "50%                24 days 00:00:00\n",
       "75%                37 days 00:00:00\n",
       "max                87 days 00:00:00\n",
       "Name: time_to_maturity, dtype: object"
      ]
     },
     "execution_count": 32,
     "metadata": {},
     "output_type": "execute_result"
    }
   ],
   "source": [
    "options['time_to_maturity'].describe()"
   ]
  },
  {
   "cell_type": "markdown",
   "metadata": {},
   "source": [
    "Create date identifier following problem statement for Exercise Part 1.2"
   ]
  },
  {
   "cell_type": "code",
   "execution_count": 33,
   "metadata": {},
   "outputs": [],
   "source": [
    "options['day_identifier'] = options['download_date'].map({'2021-02-23': 'DATA_1', '2021-02-24': 'DATA_2'})"
   ]
  },
  {
   "cell_type": "markdown",
   "metadata": {},
   "source": [
    "Finally, join with spot prices:"
   ]
  },
  {
   "cell_type": "code",
   "execution_count": 34,
   "metadata": {},
   "outputs": [
    {
     "data": {
      "text/html": [
       "<div>\n",
       "<style scoped>\n",
       "    .dataframe tbody tr th:only-of-type {\n",
       "        vertical-align: middle;\n",
       "    }\n",
       "\n",
       "    .dataframe tbody tr th {\n",
       "        vertical-align: top;\n",
       "    }\n",
       "\n",
       "    .dataframe thead th {\n",
       "        text-align: right;\n",
       "    }\n",
       "</style>\n",
       "<table border=\"1\" class=\"dataframe\">\n",
       "  <thead>\n",
       "    <tr style=\"text-align: right;\">\n",
       "      <th></th>\n",
       "      <th>contractSymbol</th>\n",
       "      <th>lastTradeDate</th>\n",
       "      <th>strike</th>\n",
       "      <th>lastPrice</th>\n",
       "      <th>bid</th>\n",
       "      <th>ask</th>\n",
       "      <th>change</th>\n",
       "      <th>percentChange</th>\n",
       "      <th>volume</th>\n",
       "      <th>openInterest</th>\n",
       "      <th>impliedVolatility</th>\n",
       "      <th>inTheMoney</th>\n",
       "      <th>contractSize</th>\n",
       "      <th>currency</th>\n",
       "      <th>type</th>\n",
       "      <th>maturity</th>\n",
       "      <th>download_date</th>\n",
       "      <th>ticker_underlying</th>\n",
       "      <th>time_to_maturity</th>\n",
       "      <th>day_identifier</th>\n",
       "    </tr>\n",
       "  </thead>\n",
       "  <tbody>\n",
       "    <tr>\n",
       "      <th>0</th>\n",
       "      <td>SPY210301C00210000</td>\n",
       "      <td>2021-02-05 15:19:26</td>\n",
       "      <td>210.0</td>\n",
       "      <td>176.62</td>\n",
       "      <td>176.9</td>\n",
       "      <td>177.58</td>\n",
       "      <td>0.0</td>\n",
       "      <td>0.0</td>\n",
       "      <td>24.0</td>\n",
       "      <td>24.0</td>\n",
       "      <td>1.855469</td>\n",
       "      <td>True</td>\n",
       "      <td>REGULAR</td>\n",
       "      <td>USD</td>\n",
       "      <td>call</td>\n",
       "      <td>2021-03-01</td>\n",
       "      <td>2021-02-23</td>\n",
       "      <td>SPY</td>\n",
       "      <td>6 days</td>\n",
       "      <td>DATA_1</td>\n",
       "    </tr>\n",
       "    <tr>\n",
       "      <th>1</th>\n",
       "      <td>SPY210301C00220000</td>\n",
       "      <td>2021-01-29 14:36:32</td>\n",
       "      <td>220.0</td>\n",
       "      <td>154.46</td>\n",
       "      <td>166.9</td>\n",
       "      <td>167.60</td>\n",
       "      <td>0.0</td>\n",
       "      <td>0.0</td>\n",
       "      <td>1.0</td>\n",
       "      <td>0.0</td>\n",
       "      <td>1.734376</td>\n",
       "      <td>True</td>\n",
       "      <td>REGULAR</td>\n",
       "      <td>USD</td>\n",
       "      <td>call</td>\n",
       "      <td>2021-03-01</td>\n",
       "      <td>2021-02-23</td>\n",
       "      <td>SPY</td>\n",
       "      <td>6 days</td>\n",
       "      <td>DATA_1</td>\n",
       "    </tr>\n",
       "    <tr>\n",
       "      <th>2</th>\n",
       "      <td>SPY210301C00295000</td>\n",
       "      <td>2021-01-25 14:30:00</td>\n",
       "      <td>295.0</td>\n",
       "      <td>89.82</td>\n",
       "      <td>92.2</td>\n",
       "      <td>92.30</td>\n",
       "      <td>0.0</td>\n",
       "      <td>0.0</td>\n",
       "      <td>3.0</td>\n",
       "      <td>3.0</td>\n",
       "      <td>0.900392</td>\n",
       "      <td>True</td>\n",
       "      <td>REGULAR</td>\n",
       "      <td>USD</td>\n",
       "      <td>call</td>\n",
       "      <td>2021-03-01</td>\n",
       "      <td>2021-02-23</td>\n",
       "      <td>SPY</td>\n",
       "      <td>6 days</td>\n",
       "      <td>DATA_1</td>\n",
       "    </tr>\n",
       "    <tr>\n",
       "      <th>3</th>\n",
       "      <td>SPY210301C00300000</td>\n",
       "      <td>2021-02-02 15:52:08</td>\n",
       "      <td>300.0</td>\n",
       "      <td>82.51</td>\n",
       "      <td>87.2</td>\n",
       "      <td>87.30</td>\n",
       "      <td>0.0</td>\n",
       "      <td>0.0</td>\n",
       "      <td>1.0</td>\n",
       "      <td>10.0</td>\n",
       "      <td>0.851564</td>\n",
       "      <td>True</td>\n",
       "      <td>REGULAR</td>\n",
       "      <td>USD</td>\n",
       "      <td>call</td>\n",
       "      <td>2021-03-01</td>\n",
       "      <td>2021-02-23</td>\n",
       "      <td>SPY</td>\n",
       "      <td>6 days</td>\n",
       "      <td>DATA_1</td>\n",
       "    </tr>\n",
       "    <tr>\n",
       "      <th>4</th>\n",
       "      <td>SPY210301C00305000</td>\n",
       "      <td>2021-02-19 15:02:17</td>\n",
       "      <td>305.0</td>\n",
       "      <td>87.12</td>\n",
       "      <td>82.2</td>\n",
       "      <td>82.30</td>\n",
       "      <td>0.0</td>\n",
       "      <td>0.0</td>\n",
       "      <td>1.0</td>\n",
       "      <td>21.0</td>\n",
       "      <td>0.802736</td>\n",
       "      <td>True</td>\n",
       "      <td>REGULAR</td>\n",
       "      <td>USD</td>\n",
       "      <td>call</td>\n",
       "      <td>2021-03-01</td>\n",
       "      <td>2021-02-23</td>\n",
       "      <td>SPY</td>\n",
       "      <td>6 days</td>\n",
       "      <td>DATA_1</td>\n",
       "    </tr>\n",
       "  </tbody>\n",
       "</table>\n",
       "</div>"
      ],
      "text/plain": [
       "       contractSymbol        lastTradeDate  strike  lastPrice    bid     ask  \\\n",
       "0  SPY210301C00210000  2021-02-05 15:19:26   210.0     176.62  176.9  177.58   \n",
       "1  SPY210301C00220000  2021-01-29 14:36:32   220.0     154.46  166.9  167.60   \n",
       "2  SPY210301C00295000  2021-01-25 14:30:00   295.0      89.82   92.2   92.30   \n",
       "3  SPY210301C00300000  2021-02-02 15:52:08   300.0      82.51   87.2   87.30   \n",
       "4  SPY210301C00305000  2021-02-19 15:02:17   305.0      87.12   82.2   82.30   \n",
       "\n",
       "   change  percentChange  volume  openInterest  impliedVolatility  inTheMoney  \\\n",
       "0     0.0            0.0    24.0          24.0           1.855469        True   \n",
       "1     0.0            0.0     1.0           0.0           1.734376        True   \n",
       "2     0.0            0.0     3.0           3.0           0.900392        True   \n",
       "3     0.0            0.0     1.0          10.0           0.851564        True   \n",
       "4     0.0            0.0     1.0          21.0           0.802736        True   \n",
       "\n",
       "  contractSize currency  type    maturity download_date ticker_underlying  \\\n",
       "0      REGULAR      USD  call  2021-03-01    2021-02-23               SPY   \n",
       "1      REGULAR      USD  call  2021-03-01    2021-02-23               SPY   \n",
       "2      REGULAR      USD  call  2021-03-01    2021-02-23               SPY   \n",
       "3      REGULAR      USD  call  2021-03-01    2021-02-23               SPY   \n",
       "4      REGULAR      USD  call  2021-03-01    2021-02-23               SPY   \n",
       "\n",
       "  time_to_maturity day_identifier  \n",
       "0           6 days         DATA_1  \n",
       "1           6 days         DATA_1  \n",
       "2           6 days         DATA_1  \n",
       "3           6 days         DATA_1  \n",
       "4           6 days         DATA_1  "
      ]
     },
     "execution_count": 34,
     "metadata": {},
     "output_type": "execute_result"
    }
   ],
   "source": [
    "options.head()"
   ]
  },
  {
   "cell_type": "code",
   "execution_count": 35,
   "metadata": {},
   "outputs": [
    {
     "data": {
      "text/plain": [
       "10979"
      ]
     },
     "execution_count": 35,
     "metadata": {},
     "output_type": "execute_result"
    }
   ],
   "source": [
    "len(options)"
   ]
  },
  {
   "cell_type": "code",
   "execution_count": 36,
   "metadata": {},
   "outputs": [],
   "source": [
    "options = options.merge(spot_closes,\n",
    "              left_on=['ticker_underlying', 'download_date'],\n",
    "              right_on=['ticker', 'download_date'],\n",
    "              how='left'\n",
    "             ).drop('ticker_underlying', axis=1)"
   ]
  },
  {
   "cell_type": "code",
   "execution_count": 37,
   "metadata": {},
   "outputs": [],
   "source": [
    "assert options.isna().sum().sum() == 0, \"There were NAs after merge\""
   ]
  },
  {
   "cell_type": "markdown",
   "metadata": {},
   "source": [
    "Annualize time to maturity"
   ]
  },
  {
   "cell_type": "code",
   "execution_count": 38,
   "metadata": {},
   "outputs": [],
   "source": [
    "options['time_to_maturity'] = options['time_to_maturity'].dt.days/360"
   ]
  },
  {
   "cell_type": "markdown",
   "metadata": {},
   "source": [
    "### (Part 1.4) Interest rates"
   ]
  },
  {
   "cell_type": "markdown",
   "metadata": {},
   "source": [
    "From the link provided, we use a risk-free rate of 0.07:"
   ]
  },
  {
   "cell_type": "code",
   "execution_count": 39,
   "metadata": {},
   "outputs": [],
   "source": [
    "r = 0.07/100"
   ]
  },
  {
   "cell_type": "markdown",
   "metadata": {},
   "source": [
    "# Part 2"
   ]
  },
  {
   "cell_type": "markdown",
   "metadata": {},
   "source": [
    "## (Exercise 5)"
   ]
  },
  {
   "cell_type": "markdown",
   "metadata": {},
   "source": [
    "**Black-Scholes option pricing formula**\n",
    "$$C(S_t, K, T, t, r, \\sigma) = S_t N(d_1)-K e^{-r(T-t)} N(d_2)$$\n",
    "with \n",
    "$$d_{1,2} = \\frac{\\log{S_t/K} + (r\\pm \\sigma^2/2)(T-t)}{\\sigma \\sqrt{T-t}}$$\n",
    "and $N$ is the CDF of a standard normal variable, i.e. $$N(x) := \\frac{1}{\\sqrt{2\\pi}} \\int_{-\\infty}^x e^{-y^2}{2} dy$$"
   ]
  },
  {
   "cell_type": "code",
   "execution_count": 40,
   "metadata": {},
   "outputs": [],
   "source": [
    "from scipy import stats"
   ]
  },
  {
   "cell_type": "code",
   "execution_count": 41,
   "metadata": {},
   "outputs": [],
   "source": [
    "def bsm_value(option_type, S, K, T, r, sigma):  # T here stands for time to maturity\n",
    "    \"\"\"\n",
    "    Returns Black-Scholes formula \n",
    "    \"\"\"\n",
    "\n",
    "    assert option_type in ['put', 'call'], \"Invalid option type\"\n",
    "    \n",
    "    phi = 1 if option_type == 'call' else -1  # multiplication factor to adjust for option type\n",
    "    \n",
    "    N = lambda x: stats.norm.cdf(x, loc=0.0, scale=1.0) # Gaussian CDF\n",
    "    d1 = 1 if T == 0 else (np.log(S/K) + (r + sigma**2/2)*T)/(sigma*np.sqrt(T))\n",
    "    d2 = d1 - sigma*np.sqrt(T)\n",
    "    \n",
    "    return phi*(S * N(phi*d1) - K * np.exp(-r*T) * N(phi*d2))"
   ]
  },
  {
   "cell_type": "markdown",
   "metadata": {},
   "source": [
    "## (Exercise 6)"
   ]
  },
  {
   "cell_type": "code",
   "execution_count": 42,
   "metadata": {},
   "outputs": [],
   "source": [
    "def root_finder_bisection(func, lower_bound, upper_bound, tolerance, max_iter=10000):\n",
    "    if np.sign(func(lower_bound)) == np.sign(func(upper_bound)):\n",
    "        return np.nan\n",
    "    else:\n",
    "        n_iter = 1\n",
    "        error = np.inf\n",
    "        a, b = lower_bound, upper_bound\n",
    "\n",
    "        while (n_iter < max_iter) & (error > tolerance):\n",
    "            c = (a + b)/2 \n",
    "            error = (b-a)/2\n",
    "            if (func(c) == 0) or (error < tolerance):\n",
    "                return c\n",
    "            n_iter += 1\n",
    "            if np.sign(func(c)) == np.sign(func(a)):\n",
    "                a = c\n",
    "            else:\n",
    "                b = c\n",
    "    print(\"Max iter reached\")"
   ]
  },
  {
   "cell_type": "code",
   "execution_count": 43,
   "metadata": {},
   "outputs": [
    {
     "data": {
      "text/plain": [
       "1.7315673828125"
      ]
     },
     "execution_count": 43,
     "metadata": {},
     "output_type": "execute_result"
    }
   ],
   "source": [
    "### Test: calculate root of 3\n",
    "root_finder_bisection(lambda x: x**2 - 3, 0, 5, 0.001)"
   ]
  },
  {
   "cell_type": "code",
   "execution_count": 44,
   "metadata": {},
   "outputs": [],
   "source": [
    "options['option_price'] = options[['ask','bid']].mean(axis=1)"
   ]
  },
  {
   "cell_type": "code",
   "execution_count": 45,
   "metadata": {},
   "outputs": [
    {
     "data": {
      "text/plain": [
       "0"
      ]
     },
     "execution_count": 45,
     "metadata": {},
     "output_type": "execute_result"
    }
   ],
   "source": [
    "# We do not need to worry about zero volume trades\n",
    "(options['volume'] == 0).sum()"
   ]
  },
  {
   "cell_type": "code",
   "execution_count": 46,
   "metadata": {},
   "outputs": [],
   "source": [
    "data_1 = options[(options['day_identifier'] == 'DATA_1')&(options['ticker'] != '^VIX')]"
   ]
  },
  {
   "cell_type": "code",
   "execution_count": 47,
   "metadata": {},
   "outputs": [
    {
     "data": {
      "application/vnd.jupyter.widget-view+json": {
       "model_id": "42daf6f5ae814484b1205c785dbf2a27",
       "version_major": 2,
       "version_minor": 0
      },
      "text/plain": [
       "HBox(children=(HTML(value=''), FloatProgress(value=0.0, max=5091.0), HTML(value='')))"
      ]
     },
     "metadata": {},
     "output_type": "display_data"
    },
    {
     "name": "stdout",
     "output_type": "stream",
     "text": [
      "\n",
      "Wall time: 2min 8s\n"
     ]
    }
   ],
   "source": [
    "%%time\n",
    "data_1['vol_bisect'] = data_1.progress_apply(lambda row: root_finder_bisection(\n",
    "    lambda sigma: bsm_value(row['type'], row['Close'], row['strike'], row['time_to_maturity'], r, sigma) - row['option_price'],\n",
    "    lower_bound=0.001,\n",
    "    upper_bound=100.0,\n",
    "    tolerance=1e-6\n",
    "    ), axis=1\n",
    ")"
   ]
  },
  {
   "cell_type": "markdown",
   "metadata": {},
   "source": [
    "Sanity check: calculate Black-Scholes price using these values and remove any miscalculations and NAs"
   ]
  },
  {
   "cell_type": "code",
   "execution_count": 48,
   "metadata": {},
   "outputs": [
    {
     "data": {
      "application/vnd.jupyter.widget-view+json": {
       "model_id": "e8f4b8fcc5c44e68a38f03d419ed541f",
       "version_major": 2,
       "version_minor": 0
      },
      "text/plain": [
       "HBox(children=(HTML(value=''), FloatProgress(value=0.0, max=5091.0), HTML(value='')))"
      ]
     },
     "metadata": {},
     "output_type": "display_data"
    },
    {
     "name": "stdout",
     "output_type": "stream",
     "text": [
      "\n"
     ]
    }
   ],
   "source": [
    "data_1['price_bs'] = data_1.progress_apply(lambda row: bsm_value(row['type'], row['Close'], row['strike'], row['time_to_maturity'], r, row['vol_bisect']), axis=1)"
   ]
  },
  {
   "cell_type": "code",
   "execution_count": 49,
   "metadata": {},
   "outputs": [
    {
     "name": "stdout",
     "output_type": "stream",
     "text": [
      "Got null results for 4% of data\n"
     ]
    }
   ],
   "source": [
    "print(f\"Got null results for {round(100*data_1['vol_bisect'].isna().sum()/len(data_1))}% of data\")"
   ]
  },
  {
   "cell_type": "markdown",
   "metadata": {},
   "source": [
    "## (Exercise 7)"
   ]
  },
  {
   "cell_type": "code",
   "execution_count": 50,
   "metadata": {},
   "outputs": [],
   "source": [
    "def bsm_vega(S, K, T, r, sigma):\n",
    "    \"\"\"\n",
    "    Calculates vega for the Black-Scholes formula\n",
    "    \"\"\"\n",
    "    \n",
    "    N_prime = lambda x: stats.norm.pdf(x, loc=0.0, scale=1.0)\n",
    "    d1 = 1 if T == 0 else (np.log(S/K) + (r  + sigma**2/2)*T)/(sigma*np.sqrt(T))\n",
    "    \n",
    "    return S * N_prime(d1) * np.sqrt(T)\n",
    "\n",
    "def bsm_imp_vol(option_type, S, K, T, r, P0, n_iter=100):\n",
    "    \"\"\"\n",
    "    Solves for implicit volatily using Newton's method\n",
    "    \"\"\"\n",
    "    assert option_type in ['put', 'call'], \"Invalid option type\"\n",
    "    \n",
    "    s = 0.7  # initial guess\n",
    "    for _ in range(n_iter):\n",
    "        numerator = bsm_value(option_type, S, K, T, r, s) - P0\n",
    "        if np.abs(numerator) < 1e-5:\n",
    "            break\n",
    "        s -= numerator/bsm_vega(S, K, T, r, s)\n",
    "    \n",
    "    return s"
   ]
  },
  {
   "cell_type": "code",
   "execution_count": 51,
   "metadata": {},
   "outputs": [
    {
     "data": {
      "application/vnd.jupyter.widget-view+json": {
       "model_id": "0446b1bbead044b9b1e47f9d46903eee",
       "version_major": 2,
       "version_minor": 0
      },
      "text/plain": [
       "HBox(children=(HTML(value=''), FloatProgress(value=0.0, max=5091.0), HTML(value='')))"
      ]
     },
     "metadata": {},
     "output_type": "display_data"
    },
    {
     "name": "stderr",
     "output_type": "stream",
     "text": [
      "C:\\ProgramData\\Anaconda3\\lib\\site-packages\\ipykernel_launcher.py:22: RuntimeWarning: divide by zero encountered in double_scalars\n",
      "C:\\ProgramData\\Anaconda3\\lib\\site-packages\\ipykernel_launcher.py:11: RuntimeWarning: invalid value encountered in double_scalars\n",
      "  # This is added back by InteractiveShellApp.init_path()\n",
      "C:\\ProgramData\\Anaconda3\\lib\\site-packages\\ipykernel_launcher.py:7: RuntimeWarning: invalid value encountered in double_scalars\n",
      "  import sys\n",
      "C:\\ProgramData\\Anaconda3\\lib\\site-packages\\ipykernel_launcher.py:11: RuntimeWarning: overflow encountered in double_scalars\n",
      "  # This is added back by InteractiveShellApp.init_path()\n",
      "C:\\ProgramData\\Anaconda3\\lib\\site-packages\\ipykernel_launcher.py:7: RuntimeWarning: overflow encountered in double_scalars\n",
      "  import sys\n",
      "C:\\ProgramData\\Anaconda3\\lib\\site-packages\\ipykernel_launcher.py:22: RuntimeWarning: overflow encountered in double_scalars\n"
     ]
    },
    {
     "name": "stdout",
     "output_type": "stream",
     "text": [
      "\n",
      "Wall time: 24.3 s\n"
     ]
    }
   ],
   "source": [
    "%%time\n",
    "data_1['vol_newton'] = data_1.progress_apply(lambda row: bsm_imp_vol(\n",
    "    row['type'], row['Close'], row['strike'], row['time_to_maturity'], r, row['option_price']), axis=1)"
   ]
  },
  {
   "cell_type": "code",
   "execution_count": 52,
   "metadata": {},
   "outputs": [
    {
     "name": "stdout",
     "output_type": "stream",
     "text": [
      "Got null results for 5% of data\n"
     ]
    }
   ],
   "source": [
    "print(f\"Got null results for {round(100*data_1['vol_newton'].isna().sum()/len(data_1))}% of data\")"
   ]
  },
  {
   "cell_type": "markdown",
   "metadata": {},
   "source": [
    "We see that, as expected, Newton's method is faster than bisection, for very close values.\n",
    "We still see some numerical issues (5% of data cannot be calculated this way)"
   ]
  },
  {
   "cell_type": "code",
   "execution_count": 53,
   "metadata": {},
   "outputs": [
    {
     "data": {
      "text/plain": [
       "<AxesSubplot:xlabel='vol_bisect', ylabel='vol_newton'>"
      ]
     },
     "execution_count": 53,
     "metadata": {},
     "output_type": "execute_result"
    },
    {
     "data": {
      "image/png": "[encoded data removed]",
      "text/plain": [
       "<Figure size 432x288 with 1 Axes>"
      ]
     },
     "metadata": {
      "needs_background": "light"
     },
     "output_type": "display_data"
    }
   ],
   "source": [
    "data_1.plot.scatter(x='vol_bisect', y='vol_newton', alpha=0.5)"
   ]
  },
  {
   "cell_type": "code",
   "execution_count": 54,
   "metadata": {},
   "outputs": [
    {
     "data": {
      "text/html": [
       "<div>\n",
       "<style scoped>\n",
       "    .dataframe tbody tr th:only-of-type {\n",
       "        vertical-align: middle;\n",
       "    }\n",
       "\n",
       "    .dataframe tbody tr th {\n",
       "        vertical-align: top;\n",
       "    }\n",
       "\n",
       "    .dataframe thead th {\n",
       "        text-align: right;\n",
       "    }\n",
       "</style>\n",
       "<table border=\"1\" class=\"dataframe\">\n",
       "  <thead>\n",
       "    <tr style=\"text-align: right;\">\n",
       "      <th></th>\n",
       "      <th></th>\n",
       "      <th></th>\n",
       "      <th></th>\n",
       "      <th>vol_bisect</th>\n",
       "      <th>vol_newton</th>\n",
       "    </tr>\n",
       "    <tr>\n",
       "      <th>ticker</th>\n",
       "      <th>strike</th>\n",
       "      <th>maturity</th>\n",
       "      <th>type</th>\n",
       "      <th></th>\n",
       "      <th></th>\n",
       "    </tr>\n",
       "  </thead>\n",
       "  <tbody>\n",
       "    <tr>\n",
       "      <th rowspan=\"5\" valign=\"top\">AMZN</th>\n",
       "      <th rowspan=\"4\" valign=\"top\">1460.0</th>\n",
       "      <th rowspan=\"2\" valign=\"top\">2021-03-19</th>\n",
       "      <th>call</th>\n",
       "      <td>3.030417</td>\n",
       "      <td>NaN</td>\n",
       "    </tr>\n",
       "    <tr>\n",
       "      <th>put</th>\n",
       "      <td>1.010442</td>\n",
       "      <td>NaN</td>\n",
       "    </tr>\n",
       "    <tr>\n",
       "      <th rowspan=\"2\" valign=\"top\">2021-04-16</th>\n",
       "      <th>call</th>\n",
       "      <td>1.309761</td>\n",
       "      <td>NaN</td>\n",
       "    </tr>\n",
       "    <tr>\n",
       "      <th>put</th>\n",
       "      <td>0.711408</td>\n",
       "      <td>0.711408</td>\n",
       "    </tr>\n",
       "    <tr>\n",
       "      <th>1480.0</th>\n",
       "      <th>2021-03-19</th>\n",
       "      <th>call</th>\n",
       "      <td>2.429952</td>\n",
       "      <td>NaN</td>\n",
       "    </tr>\n",
       "    <tr>\n",
       "      <th>...</th>\n",
       "      <th>...</th>\n",
       "      <th>...</th>\n",
       "      <th>...</th>\n",
       "      <td>...</td>\n",
       "      <td>...</td>\n",
       "    </tr>\n",
       "    <tr>\n",
       "      <th rowspan=\"5\" valign=\"top\">SPY</th>\n",
       "      <th rowspan=\"2\" valign=\"top\">515.0</th>\n",
       "      <th>2021-04-16</th>\n",
       "      <th>call</th>\n",
       "      <td>0.240540</td>\n",
       "      <td>0.240542</td>\n",
       "    </tr>\n",
       "    <tr>\n",
       "      <th>2021-05-21</th>\n",
       "      <th>call</th>\n",
       "      <td>0.204613</td>\n",
       "      <td>0.204613</td>\n",
       "    </tr>\n",
       "    <tr>\n",
       "      <th>520.0</th>\n",
       "      <th>2021-05-21</th>\n",
       "      <th>call</th>\n",
       "      <td>0.207262</td>\n",
       "      <td>0.207262</td>\n",
       "    </tr>\n",
       "    <tr>\n",
       "      <th>525.0</th>\n",
       "      <th>2021-05-21</th>\n",
       "      <th>call</th>\n",
       "      <td>0.216875</td>\n",
       "      <td>0.216874</td>\n",
       "    </tr>\n",
       "    <tr>\n",
       "      <th>530.0</th>\n",
       "      <th>2021-05-21</th>\n",
       "      <th>call</th>\n",
       "      <td>0.222889</td>\n",
       "      <td>0.222888</td>\n",
       "    </tr>\n",
       "  </tbody>\n",
       "</table>\n",
       "<p>5091 rows × 2 columns</p>\n",
       "</div>"
      ],
      "text/plain": [
       "                               vol_bisect  vol_newton\n",
       "ticker strike maturity   type                        \n",
       "AMZN   1460.0 2021-03-19 call    3.030417         NaN\n",
       "                         put     1.010442         NaN\n",
       "              2021-04-16 call    1.309761         NaN\n",
       "                         put     0.711408    0.711408\n",
       "       1480.0 2021-03-19 call    2.429952         NaN\n",
       "...                                   ...         ...\n",
       "SPY    515.0  2021-04-16 call    0.240540    0.240542\n",
       "              2021-05-21 call    0.204613    0.204613\n",
       "       520.0  2021-05-21 call    0.207262    0.207262\n",
       "       525.0  2021-05-21 call    0.216875    0.216874\n",
       "       530.0  2021-05-21 call    0.222889    0.222888\n",
       "\n",
       "[5091 rows x 2 columns]"
      ]
     },
     "execution_count": 54,
     "metadata": {},
     "output_type": "execute_result"
    }
   ],
   "source": [
    "data_1.groupby(['ticker', 'strike', 'maturity', 'type'])[['vol_bisect', 'vol_newton']].mean()"
   ]
  },
  {
   "cell_type": "markdown",
   "metadata": {},
   "source": [
    "## TODO: comparar com VIX e ver o que ele pediu quando mexe os strikes"
   ]
  },
  {
   "cell_type": "markdown",
   "metadata": {},
   "source": [
    "## (Exercise 9)\n",
    "$$C(t) - P(t) = S(t) - K e^{-r(T-t)}$$"
   ]
  },
  {
   "cell_type": "code",
   "execution_count": 55,
   "metadata": {},
   "outputs": [],
   "source": [
    "# get put price from call price\n",
    "data_1.loc[data_1['type'] == 'call','parity_price'] = data_1['option_price'] - data_1['Close'] + data_1['strike']*np.exp(-r * data_1['time_to_maturity'])\n",
    "# get call price from put price\n",
    "data_1.loc[data_1['type'] == 'put','parity_price'] = data_1['option_price'] + data_1['Close'] - data_1['strike']*np.exp(-r * data_1['time_to_maturity'])"
   ]
  },
  {
   "cell_type": "code",
   "execution_count": 56,
   "metadata": {},
   "outputs": [
    {
     "data": {
      "text/html": [
       "<div>\n",
       "<style scoped>\n",
       "    .dataframe tbody tr th:only-of-type {\n",
       "        vertical-align: middle;\n",
       "    }\n",
       "\n",
       "    .dataframe tbody tr th {\n",
       "        vertical-align: top;\n",
       "    }\n",
       "\n",
       "    .dataframe thead th {\n",
       "        text-align: right;\n",
       "    }\n",
       "</style>\n",
       "<table border=\"1\" class=\"dataframe\">\n",
       "  <thead>\n",
       "    <tr style=\"text-align: right;\">\n",
       "      <th></th>\n",
       "      <th>contractSymbol</th>\n",
       "      <th>lastTradeDate</th>\n",
       "      <th>strike</th>\n",
       "      <th>lastPrice</th>\n",
       "      <th>bid</th>\n",
       "      <th>ask</th>\n",
       "      <th>change</th>\n",
       "      <th>percentChange</th>\n",
       "      <th>volume</th>\n",
       "      <th>openInterest</th>\n",
       "      <th>...</th>\n",
       "      <th>time_to_maturity</th>\n",
       "      <th>day_identifier</th>\n",
       "      <th>ticker</th>\n",
       "      <th>Close</th>\n",
       "      <th>Volume</th>\n",
       "      <th>option_price</th>\n",
       "      <th>vol_bisect</th>\n",
       "      <th>price_bs</th>\n",
       "      <th>vol_newton</th>\n",
       "      <th>parity_price</th>\n",
       "    </tr>\n",
       "  </thead>\n",
       "  <tbody>\n",
       "    <tr>\n",
       "      <th>0</th>\n",
       "      <td>SPY210301C00210000</td>\n",
       "      <td>2021-02-05 15:19:26</td>\n",
       "      <td>210.0</td>\n",
       "      <td>176.62</td>\n",
       "      <td>176.9</td>\n",
       "      <td>177.58</td>\n",
       "      <td>0.0</td>\n",
       "      <td>0.0</td>\n",
       "      <td>24.0</td>\n",
       "      <td>24.0</td>\n",
       "      <td>...</td>\n",
       "      <td>0.016667</td>\n",
       "      <td>DATA_1</td>\n",
       "      <td>SPY</td>\n",
       "      <td>387.029999</td>\n",
       "      <td>60629498</td>\n",
       "      <td>177.24</td>\n",
       "      <td>1.986845</td>\n",
       "      <td>177.239999</td>\n",
       "      <td>NaN</td>\n",
       "      <td>0.207551</td>\n",
       "    </tr>\n",
       "    <tr>\n",
       "      <th>1</th>\n",
       "      <td>SPY210301C00220000</td>\n",
       "      <td>2021-01-29 14:36:32</td>\n",
       "      <td>220.0</td>\n",
       "      <td>154.46</td>\n",
       "      <td>166.9</td>\n",
       "      <td>167.60</td>\n",
       "      <td>0.0</td>\n",
       "      <td>0.0</td>\n",
       "      <td>1.0</td>\n",
       "      <td>0.0</td>\n",
       "      <td>...</td>\n",
       "      <td>0.016667</td>\n",
       "      <td>DATA_1</td>\n",
       "      <td>SPY</td>\n",
       "      <td>387.029999</td>\n",
       "      <td>60629498</td>\n",
       "      <td>167.25</td>\n",
       "      <td>1.858901</td>\n",
       "      <td>167.250000</td>\n",
       "      <td>NaN</td>\n",
       "      <td>0.217435</td>\n",
       "    </tr>\n",
       "    <tr>\n",
       "      <th>2</th>\n",
       "      <td>SPY210301C00295000</td>\n",
       "      <td>2021-01-25 14:30:00</td>\n",
       "      <td>295.0</td>\n",
       "      <td>89.82</td>\n",
       "      <td>92.2</td>\n",
       "      <td>92.30</td>\n",
       "      <td>0.0</td>\n",
       "      <td>0.0</td>\n",
       "      <td>3.0</td>\n",
       "      <td>3.0</td>\n",
       "      <td>...</td>\n",
       "      <td>0.016667</td>\n",
       "      <td>DATA_1</td>\n",
       "      <td>SPY</td>\n",
       "      <td>387.029999</td>\n",
       "      <td>60629498</td>\n",
       "      <td>92.25</td>\n",
       "      <td>0.964339</td>\n",
       "      <td>92.250001</td>\n",
       "      <td>0.964341</td>\n",
       "      <td>0.216560</td>\n",
       "    </tr>\n",
       "    <tr>\n",
       "      <th>3</th>\n",
       "      <td>SPY210301C00300000</td>\n",
       "      <td>2021-02-02 15:52:08</td>\n",
       "      <td>300.0</td>\n",
       "      <td>82.51</td>\n",
       "      <td>87.2</td>\n",
       "      <td>87.30</td>\n",
       "      <td>0.0</td>\n",
       "      <td>0.0</td>\n",
       "      <td>1.0</td>\n",
       "      <td>10.0</td>\n",
       "      <td>...</td>\n",
       "      <td>0.016667</td>\n",
       "      <td>DATA_1</td>\n",
       "      <td>SPY</td>\n",
       "      <td>387.029999</td>\n",
       "      <td>60629498</td>\n",
       "      <td>87.25</td>\n",
       "      <td>0.911661</td>\n",
       "      <td>87.250001</td>\n",
       "      <td>0.911661</td>\n",
       "      <td>0.216501</td>\n",
       "    </tr>\n",
       "    <tr>\n",
       "      <th>4</th>\n",
       "      <td>SPY210301C00305000</td>\n",
       "      <td>2021-02-19 15:02:17</td>\n",
       "      <td>305.0</td>\n",
       "      <td>87.12</td>\n",
       "      <td>82.2</td>\n",
       "      <td>82.30</td>\n",
       "      <td>0.0</td>\n",
       "      <td>0.0</td>\n",
       "      <td>1.0</td>\n",
       "      <td>21.0</td>\n",
       "      <td>...</td>\n",
       "      <td>0.016667</td>\n",
       "      <td>DATA_1</td>\n",
       "      <td>SPY</td>\n",
       "      <td>387.029999</td>\n",
       "      <td>60629498</td>\n",
       "      <td>82.25</td>\n",
       "      <td>0.859593</td>\n",
       "      <td>82.250000</td>\n",
       "      <td>0.859593</td>\n",
       "      <td>0.216443</td>\n",
       "    </tr>\n",
       "  </tbody>\n",
       "</table>\n",
       "<p>5 rows × 27 columns</p>\n",
       "</div>"
      ],
      "text/plain": [
       "       contractSymbol        lastTradeDate  strike  lastPrice    bid     ask  \\\n",
       "0  SPY210301C00210000  2021-02-05 15:19:26   210.0     176.62  176.9  177.58   \n",
       "1  SPY210301C00220000  2021-01-29 14:36:32   220.0     154.46  166.9  167.60   \n",
       "2  SPY210301C00295000  2021-01-25 14:30:00   295.0      89.82   92.2   92.30   \n",
       "3  SPY210301C00300000  2021-02-02 15:52:08   300.0      82.51   87.2   87.30   \n",
       "4  SPY210301C00305000  2021-02-19 15:02:17   305.0      87.12   82.2   82.30   \n",
       "\n",
       "   change  percentChange  volume  openInterest  ...  time_to_maturity  \\\n",
       "0     0.0            0.0    24.0          24.0  ...          0.016667   \n",
       "1     0.0            0.0     1.0           0.0  ...          0.016667   \n",
       "2     0.0            0.0     3.0           3.0  ...          0.016667   \n",
       "3     0.0            0.0     1.0          10.0  ...          0.016667   \n",
       "4     0.0            0.0     1.0          21.0  ...          0.016667   \n",
       "\n",
       "   day_identifier ticker       Close    Volume option_price vol_bisect  \\\n",
       "0          DATA_1    SPY  387.029999  60629498       177.24   1.986845   \n",
       "1          DATA_1    SPY  387.029999  60629498       167.25   1.858901   \n",
       "2          DATA_1    SPY  387.029999  60629498        92.25   0.964339   \n",
       "3          DATA_1    SPY  387.029999  60629498        87.25   0.911661   \n",
       "4          DATA_1    SPY  387.029999  60629498        82.25   0.859593   \n",
       "\n",
       "     price_bs vol_newton parity_price  \n",
       "0  177.239999        NaN     0.207551  \n",
       "1  167.250000        NaN     0.217435  \n",
       "2   92.250001   0.964341     0.216560  \n",
       "3   87.250001   0.911661     0.216501  \n",
       "4   82.250000   0.859593     0.216443  \n",
       "\n",
       "[5 rows x 27 columns]"
      ]
     },
     "execution_count": 56,
     "metadata": {},
     "output_type": "execute_result"
    }
   ],
   "source": [
    "data_1.head()"
   ]
  },
  {
   "cell_type": "code",
   "execution_count": 57,
   "metadata": {},
   "outputs": [],
   "source": [
    "parity_check = data_1[['strike', 'bid', 'ask', 'maturity', 'ticker', 'option_price', 'type', 'parity_price']]\n",
    "parity_check = parity_check.rename({'type': 'original_type'}, axis=1)\n",
    "parity_check['parity_type'] = parity_check['original_type'].map({'call': 'put', 'put': 'call'})"
   ]
  },
  {
   "cell_type": "code",
   "execution_count": 58,
   "metadata": {},
   "outputs": [],
   "source": [
    "parity_check = parity_check.drop(['bid', 'ask'], axis=1).\\\n",
    "    merge(parity_check.drop(['parity_price', 'parity_type', 'option_price'], axis=1),\n",
    "    left_on=['strike', 'maturity', 'ticker', 'parity_type'],\n",
    "    right_on=['strike', 'maturity', 'ticker', 'original_type'],\n",
    "    how='left').drop('original_type_y', axis=1).dropna()"
   ]
  },
  {
   "cell_type": "code",
   "execution_count": 59,
   "metadata": {},
   "outputs": [
    {
     "data": {
      "text/html": [
       "<div>\n",
       "<style scoped>\n",
       "    .dataframe tbody tr th:only-of-type {\n",
       "        vertical-align: middle;\n",
       "    }\n",
       "\n",
       "    .dataframe tbody tr th {\n",
       "        vertical-align: top;\n",
       "    }\n",
       "\n",
       "    .dataframe thead th {\n",
       "        text-align: right;\n",
       "    }\n",
       "</style>\n",
       "<table border=\"1\" class=\"dataframe\">\n",
       "  <thead>\n",
       "    <tr style=\"text-align: right;\">\n",
       "      <th></th>\n",
       "      <th>strike</th>\n",
       "      <th>maturity</th>\n",
       "      <th>ticker</th>\n",
       "      <th>option_price</th>\n",
       "      <th>original_type_x</th>\n",
       "      <th>parity_price</th>\n",
       "      <th>parity_type</th>\n",
       "      <th>bid</th>\n",
       "      <th>ask</th>\n",
       "    </tr>\n",
       "  </thead>\n",
       "  <tbody>\n",
       "    <tr>\n",
       "      <th>2390</th>\n",
       "      <td>362.0</td>\n",
       "      <td>2021-03-31</td>\n",
       "      <td>SPY</td>\n",
       "      <td>3.900</td>\n",
       "      <td>put</td>\n",
       "      <td>28.955338</td>\n",
       "      <td>call</td>\n",
       "      <td>28.46</td>\n",
       "      <td>28.59</td>\n",
       "    </tr>\n",
       "    <tr>\n",
       "      <th>748</th>\n",
       "      <td>407.0</td>\n",
       "      <td>2021-03-08</td>\n",
       "      <td>SPY</td>\n",
       "      <td>19.840</td>\n",
       "      <td>put</td>\n",
       "      <td>-0.119713</td>\n",
       "      <td>call</td>\n",
       "      <td>0.09</td>\n",
       "      <td>0.10</td>\n",
       "    </tr>\n",
       "    <tr>\n",
       "      <th>3161</th>\n",
       "      <td>276.0</td>\n",
       "      <td>2021-05-21</td>\n",
       "      <td>SPY</td>\n",
       "      <td>1.635</td>\n",
       "      <td>put</td>\n",
       "      <td>112.711685</td>\n",
       "      <td>call</td>\n",
       "      <td>112.00</td>\n",
       "      <td>112.46</td>\n",
       "    </tr>\n",
       "    <tr>\n",
       "      <th>3273</th>\n",
       "      <td>388.0</td>\n",
       "      <td>2021-05-21</td>\n",
       "      <td>SPY</td>\n",
       "      <td>16.395</td>\n",
       "      <td>put</td>\n",
       "      <td>15.490630</td>\n",
       "      <td>call</td>\n",
       "      <td>14.60</td>\n",
       "      <td>14.68</td>\n",
       "    </tr>\n",
       "    <tr>\n",
       "      <th>200</th>\n",
       "      <td>347.0</td>\n",
       "      <td>2021-03-03</td>\n",
       "      <td>SPY</td>\n",
       "      <td>40.445</td>\n",
       "      <td>call</td>\n",
       "      <td>0.409603</td>\n",
       "      <td>put</td>\n",
       "      <td>0.19</td>\n",
       "      <td>0.20</td>\n",
       "    </tr>\n",
       "  </tbody>\n",
       "</table>\n",
       "</div>"
      ],
      "text/plain": [
       "      strike    maturity ticker  option_price original_type_x  parity_price  \\\n",
       "2390   362.0  2021-03-31    SPY         3.900             put     28.955338   \n",
       "748    407.0  2021-03-08    SPY        19.840             put     -0.119713   \n",
       "3161   276.0  2021-05-21    SPY         1.635             put    112.711685   \n",
       "3273   388.0  2021-05-21    SPY        16.395             put     15.490630   \n",
       "200    347.0  2021-03-03    SPY        40.445            call      0.409603   \n",
       "\n",
       "     parity_type     bid     ask  \n",
       "2390        call   28.46   28.59  \n",
       "748         call    0.09    0.10  \n",
       "3161        call  112.00  112.46  \n",
       "3273        call   14.60   14.68  \n",
       "200          put    0.19    0.20  "
      ]
     },
     "execution_count": 59,
     "metadata": {},
     "output_type": "execute_result"
    }
   ],
   "source": [
    "parity_check.sample(40).head()"
   ]
  },
  {
   "cell_type": "code",
   "execution_count": 60,
   "metadata": {},
   "outputs": [],
   "source": [
    "### ADICIONAR COMENTARIO"
   ]
  },
  {
   "cell_type": "markdown",
   "metadata": {},
   "source": [
    "## (Exercise 10)"
   ]
  },
  {
   "cell_type": "code",
   "execution_count": 61,
   "metadata": {},
   "outputs": [],
   "source": [
    "import matplotlib.pyplot as plt"
   ]
  },
  {
   "cell_type": "code",
   "execution_count": 62,
   "metadata": {},
   "outputs": [
    {
     "data": {
      "image/png": "[encoded data removed]",
      "text/plain": [
       "<Figure size 432x288 with 1 Axes>"
      ]
     },
     "metadata": {
      "needs_background": "light"
     },
     "output_type": "display_data"
    },
    {
     "data": {
      "image/png": "[encoded data removed]",
      "text/plain": [
       "<Figure size 432x288 with 1 Axes>"
      ]
     },
     "metadata": {
      "needs_background": "light"
     },
     "output_type": "display_data"
    }
   ],
   "source": [
    "for ticker in data_1['ticker'].unique():\n",
    "    \n",
    "    fig, ax = plt.subplots()\n",
    "    ax.set_title(ticker)\n",
    "    aux = data_1[data_1['ticker'] == ticker]\n",
    "    shortest_maturities = sorted(list(set(aux['time_to_maturity'])))[:3]\n",
    "    \n",
    "    for color, maturity in zip(['orange', 'red', 'blue'], shortest_maturities):\n",
    "        aux2 = aux[aux['time_to_maturity'] == maturity]\n",
    "        maturity_str = aux2['maturity'].iloc[0]\n",
    "        \n",
    "        aux2.plot.scatter(x='strike', y='vol_bisect', ax=ax, c=color, alpha=0.5, label=maturity_str)\n"
   ]
  },
  {
   "cell_type": "markdown",
   "metadata": {},
   "source": [
    "## Exercise 11: TODO"
   ]
  },
  {
   "cell_type": "markdown",
   "metadata": {},
   "source": [
    "**Vega** is already calculated above:\n",
    "$$\\mathrm{vega} = S  N'(d_1)  \\sqrt{T-t}$$\n",
    "\n",
    "**Delta**:\n",
    "$$\\Delta = N(d_1) \\quad\\mbox{(call)}$$\n",
    "$$\\Delta = N(d_1)-1 \\quad\\mbox{(put)}$$\n",
    "\n",
    "**Gamma**:\n",
    "$$\\Gamma = \\frac{1}{S \\sigma \\sqrt{T-t}} N'(d_1)$$"
   ]
  },
  {
   "cell_type": "code",
   "execution_count": 63,
   "metadata": {},
   "outputs": [],
   "source": [
    "def bsm_delta(option_type, S, K, T, r, sigma):\n",
    "    N = lambda x: stats.norm.cdf(x, loc=0.0, scale=1.0)\n",
    "    d1 = 1 if T == 0 else (np.log(S/K) + (r  + sigma**2/2)*T)/(sigma*np.sqrt(T))\n",
    "    extra = 0 if option_type == 'call' else -1\n",
    "    \n",
    "    return N(d1) + extra\n",
    "\n",
    "def bsm_gamma(S, K, T, r, sigma):\n",
    "    N_prime = lambda x: stats.norm.pdf(x, loc=0.0, scale=1.0)\n",
    "    d1 = 1 if T == 0 else (np.log(S/K) + (r  + sigma**2/2)*T)/(sigma*np.sqrt(T))\n",
    "    \n",
    "    return 1.0/(S * sigma * np.sqrt(T)) * N_prime(d1)"
   ]
  },
  {
   "cell_type": "code",
   "execution_count": 64,
   "metadata": {},
   "outputs": [],
   "source": [
    "greeks = data_1.dropna()"
   ]
  },
  {
   "cell_type": "code",
   "execution_count": 65,
   "metadata": {},
   "outputs": [],
   "source": [
    "greeks['vega'] = greeks.apply(lambda x: bsm_vega(S=x['Close'], K=x['strike'], T=x['time_to_maturity'], r=r, sigma=x['vol_bisect']), axis=1)\n",
    "greeks['delta'] = greeks.apply(lambda x: bsm_delta(option_type=x['type'], S=x['Close'], K=x['strike'], T=x['time_to_maturity'], r=r, sigma=x['vol_bisect']), axis=1)\n",
    "greeks['gamma'] = greeks.apply(lambda x: bsm_gamma(S=x['Close'], K=x['strike'], T=x['time_to_maturity'], r=r, sigma=x['vol_bisect']), axis=1)"
   ]
  },
  {
   "cell_type": "code",
   "execution_count": 66,
   "metadata": {},
   "outputs": [
    {
     "data": {
      "text/html": [
       "<div>\n",
       "<style scoped>\n",
       "    .dataframe tbody tr th:only-of-type {\n",
       "        vertical-align: middle;\n",
       "    }\n",
       "\n",
       "    .dataframe tbody tr th {\n",
       "        vertical-align: top;\n",
       "    }\n",
       "\n",
       "    .dataframe thead th {\n",
       "        text-align: right;\n",
       "    }\n",
       "</style>\n",
       "<table border=\"1\" class=\"dataframe\">\n",
       "  <thead>\n",
       "    <tr style=\"text-align: right;\">\n",
       "      <th></th>\n",
       "      <th>ticker</th>\n",
       "      <th>type</th>\n",
       "      <th>Close</th>\n",
       "      <th>strike</th>\n",
       "      <th>maturity</th>\n",
       "      <th>option_price</th>\n",
       "      <th>vol_bisect</th>\n",
       "      <th>vega</th>\n",
       "      <th>delta</th>\n",
       "      <th>gamma</th>\n",
       "    </tr>\n",
       "  </thead>\n",
       "  <tbody>\n",
       "    <tr>\n",
       "      <th>4554</th>\n",
       "      <td>AMZN</td>\n",
       "      <td>put</td>\n",
       "      <td>3180.739990</td>\n",
       "      <td>3140.0</td>\n",
       "      <td>2021-03-19</td>\n",
       "      <td>79.900</td>\n",
       "      <td>0.304210</td>\n",
       "      <td>320.890537</td>\n",
       "      <td>-0.419182</td>\n",
       "      <td>0.001564</td>\n",
       "    </tr>\n",
       "    <tr>\n",
       "      <th>3695</th>\n",
       "      <td>AMZN</td>\n",
       "      <td>call</td>\n",
       "      <td>3180.739990</td>\n",
       "      <td>2920.0</td>\n",
       "      <td>2021-03-05</td>\n",
       "      <td>272.225</td>\n",
       "      <td>0.419980</td>\n",
       "      <td>95.957102</td>\n",
       "      <td>0.895659</td>\n",
       "      <td>0.000813</td>\n",
       "    </tr>\n",
       "    <tr>\n",
       "      <th>4694</th>\n",
       "      <td>AMZN</td>\n",
       "      <td>call</td>\n",
       "      <td>3180.739990</td>\n",
       "      <td>3090.0</td>\n",
       "      <td>2021-03-26</td>\n",
       "      <td>168.250</td>\n",
       "      <td>0.319499</td>\n",
       "      <td>349.472375</td>\n",
       "      <td>0.639164</td>\n",
       "      <td>0.001256</td>\n",
       "    </tr>\n",
       "    <tr>\n",
       "      <th>4840</th>\n",
       "      <td>AMZN</td>\n",
       "      <td>put</td>\n",
       "      <td>3180.739990</td>\n",
       "      <td>3130.0</td>\n",
       "      <td>2021-03-26</td>\n",
       "      <td>90.325</td>\n",
       "      <td>0.308690</td>\n",
       "      <td>363.180595</td>\n",
       "      <td>-0.411580</td>\n",
       "      <td>0.001350</td>\n",
       "    </tr>\n",
       "    <tr>\n",
       "      <th>1897</th>\n",
       "      <td>SPY</td>\n",
       "      <td>call</td>\n",
       "      <td>387.029999</td>\n",
       "      <td>391.0</td>\n",
       "      <td>2021-03-26</td>\n",
       "      <td>5.855</td>\n",
       "      <td>0.168379</td>\n",
       "      <td>44.575925</td>\n",
       "      <td>0.428334</td>\n",
       "      <td>0.020524</td>\n",
       "    </tr>\n",
       "    <tr>\n",
       "      <th>1651</th>\n",
       "      <td>SPY</td>\n",
       "      <td>put</td>\n",
       "      <td>387.029999</td>\n",
       "      <td>308.0</td>\n",
       "      <td>2021-03-19</td>\n",
       "      <td>0.345</td>\n",
       "      <td>0.444571</td>\n",
       "      <td>4.900049</td>\n",
       "      <td>-0.020301</td>\n",
       "      <td>0.001104</td>\n",
       "    </tr>\n",
       "    <tr>\n",
       "      <th>396</th>\n",
       "      <td>SPY</td>\n",
       "      <td>call</td>\n",
       "      <td>387.029999</td>\n",
       "      <td>362.0</td>\n",
       "      <td>2021-03-05</td>\n",
       "      <td>26.040</td>\n",
       "      <td>0.320146</td>\n",
       "      <td>11.342191</td>\n",
       "      <td>0.899738</td>\n",
       "      <td>0.008515</td>\n",
       "    </tr>\n",
       "    <tr>\n",
       "      <th>4492</th>\n",
       "      <td>AMZN</td>\n",
       "      <td>put</td>\n",
       "      <td>3180.739990</td>\n",
       "      <td>1840.0</td>\n",
       "      <td>2021-03-19</td>\n",
       "      <td>0.625</td>\n",
       "      <td>0.800641</td>\n",
       "      <td>7.441463</td>\n",
       "      <td>-0.002968</td>\n",
       "      <td>0.000014</td>\n",
       "    </tr>\n",
       "    <tr>\n",
       "      <th>4095</th>\n",
       "      <td>AMZN</td>\n",
       "      <td>call</td>\n",
       "      <td>3180.739990</td>\n",
       "      <td>3445.0</td>\n",
       "      <td>2021-03-12</td>\n",
       "      <td>13.650</td>\n",
       "      <td>0.315108</td>\n",
       "      <td>145.491294</td>\n",
       "      <td>0.129067</td>\n",
       "      <td>0.000966</td>\n",
       "    </tr>\n",
       "    <tr>\n",
       "      <th>2307</th>\n",
       "      <td>SPY</td>\n",
       "      <td>put</td>\n",
       "      <td>387.029999</td>\n",
       "      <td>279.0</td>\n",
       "      <td>2021-03-31</td>\n",
       "      <td>0.305</td>\n",
       "      <td>0.487206</td>\n",
       "      <td>4.324437</td>\n",
       "      <td>-0.013839</td>\n",
       "      <td>0.000593</td>\n",
       "    </tr>\n",
       "  </tbody>\n",
       "</table>\n",
       "</div>"
      ],
      "text/plain": [
       "     ticker  type        Close  strike    maturity  option_price  vol_bisect  \\\n",
       "4554   AMZN   put  3180.739990  3140.0  2021-03-19        79.900    0.304210   \n",
       "3695   AMZN  call  3180.739990  2920.0  2021-03-05       272.225    0.419980   \n",
       "4694   AMZN  call  3180.739990  3090.0  2021-03-26       168.250    0.319499   \n",
       "4840   AMZN   put  3180.739990  3130.0  2021-03-26        90.325    0.308690   \n",
       "1897    SPY  call   387.029999   391.0  2021-03-26         5.855    0.168379   \n",
       "1651    SPY   put   387.029999   308.0  2021-03-19         0.345    0.444571   \n",
       "396     SPY  call   387.029999   362.0  2021-03-05        26.040    0.320146   \n",
       "4492   AMZN   put  3180.739990  1840.0  2021-03-19         0.625    0.800641   \n",
       "4095   AMZN  call  3180.739990  3445.0  2021-03-12        13.650    0.315108   \n",
       "2307    SPY   put   387.029999   279.0  2021-03-31         0.305    0.487206   \n",
       "\n",
       "            vega     delta     gamma  \n",
       "4554  320.890537 -0.419182  0.001564  \n",
       "3695   95.957102  0.895659  0.000813  \n",
       "4694  349.472375  0.639164  0.001256  \n",
       "4840  363.180595 -0.411580  0.001350  \n",
       "1897   44.575925  0.428334  0.020524  \n",
       "1651    4.900049 -0.020301  0.001104  \n",
       "396    11.342191  0.899738  0.008515  \n",
       "4492    7.441463 -0.002968  0.000014  \n",
       "4095  145.491294  0.129067  0.000966  \n",
       "2307    4.324437 -0.013839  0.000593  "
      ]
     },
     "execution_count": 66,
     "metadata": {},
     "output_type": "execute_result"
    }
   ],
   "source": [
    "greeks[['ticker', 'type', 'Close', 'strike', 'maturity', 'option_price', 'vol_bisect', 'vega', 'delta', 'gamma']].sample(10)"
   ]
  },
  {
   "cell_type": "markdown",
   "metadata": {},
   "source": [
    "**Numerical approximation**:\n",
    "$$\\frac{\\partial C}{\\partial S} \\approx \\frac{C(S+\\delta) - C(S-\\delta)}{2\\delta}$$\n",
    "$$\\frac{\\partial^2 C}{\\partial S^2} \\approx \\frac{C(S+\\delta) - 2 C(S) + C(S-\\delta)}{\\delta^2}$$"
   ]
  },
  {
   "cell_type": "code",
   "execution_count": 67,
   "metadata": {},
   "outputs": [],
   "source": [
    "# using the values below for the numerical differences\n",
    "delta_vol = 0.01\n",
    "delta_spot = 10"
   ]
  },
  {
   "cell_type": "code",
   "execution_count": 68,
   "metadata": {},
   "outputs": [],
   "source": [
    "greeks['vega_approx'] = (greeks.apply(lambda x: bsm_value(x['type'], x['Close'], x['strike'], x['time_to_maturity'], r,\n",
    "                                                         x['vol_bisect'] + delta_vol), axis=1)\n",
    "                        - greeks.apply(lambda x: bsm_value(x['type'], x['Close'], x['strike'], x['time_to_maturity'], r,\n",
    "                                                         x['vol_bisect'] - delta_vol), axis=1)\n",
    "                        )/2*delta_vol\n",
    "\n",
    "greeks['delta_approx'] = (greeks.apply(lambda x: bsm_value(x['type'], x['Close']+delta_spot,\n",
    "                                                           x['strike'], x['time_to_maturity'], r, x['vol_bisect']), axis=1)\n",
    "                        - greeks.apply(lambda x: bsm_value(x['type'], x['Close']-delta_spot, \n",
    "                                                           x['strike'], x['time_to_maturity'], r, x['vol_bisect']), axis=1)\n",
    "                        )/2*delta_spot\n",
    "\n",
    "greeks['gamma_approx'] = (greeks.apply(lambda x: bsm_value(x['type'], x['Close']+delta_spot,\n",
    "                                                           x['strike'], x['time_to_maturity'], r, x['vol_bisect']), axis=1)\n",
    "                        - 2*greeks.apply(lambda x: bsm_value(x['type'], x['Close'], \n",
    "                                                           x['strike'], x['time_to_maturity'], r, x['vol_bisect']), axis=1)\n",
    "                        + greeks.apply(lambda x: bsm_value(x['type'], x['Close']-delta_spot, \n",
    "                                                           x['strike'], x['time_to_maturity'], r, x['vol_bisect']), axis=1)\n",
    "                        )/(delta_spot)**2"
   ]
  },
  {
   "cell_type": "markdown",
   "metadata": {},
   "source": [
    "Plotting to check how similar they are:"
   ]
  },
  {
   "cell_type": "code",
   "execution_count": 69,
   "metadata": {},
   "outputs": [
    {
     "data": {
      "image/png": "[encoded data removed]",
      "text/plain": [
       "<Figure size 432x288 with 1 Axes>"
      ]
     },
     "metadata": {
      "needs_background": "light"
     },
     "output_type": "display_data"
    },
    {
     "data": {
      "image/png": "[encoded data removed]",
      "text/plain": [
       "<Figure size 432x288 with 1 Axes>"
      ]
     },
     "metadata": {
      "needs_background": "light"
     },
     "output_type": "display_data"
    },
    {
     "data": {
      "image/png": "[encoded data removed]",
      "text/plain": [
       "<Figure size 432x288 with 1 Axes>"
      ]
     },
     "metadata": {
      "needs_background": "light"
     },
     "output_type": "display_data"
    }
   ],
   "source": [
    "for greek in ['vega', 'delta', 'gamma']:\n",
    "    greeks.plot.scatter(x=greek, y=f'{greek}_approx', alpha=0.2)"
   ]
  },
  {
   "cell_type": "markdown",
   "metadata": {},
   "source": [
    "## Exercise 12"
   ]
  },
  {
   "cell_type": "code",
   "execution_count": 70,
   "metadata": {},
   "outputs": [],
   "source": [
    "data_2 = options[(options['day_identifier'] == 'DATA_2') & (options['ticker'] != '^VIX')]"
   ]
  },
  {
   "cell_type": "code",
   "execution_count": 71,
   "metadata": {},
   "outputs": [],
   "source": [
    "data_2 = data_2.merge(data_1.dropna()[['contractSymbol', 'vol_bisect']], how='inner')"
   ]
  },
  {
   "cell_type": "code",
   "execution_count": 72,
   "metadata": {},
   "outputs": [],
   "source": [
    "data_2['calculated_price'] = data_2.apply(lambda row: bsm_value(row['type'], row['Close'], row['strike'], row['time_to_maturity'], r, row['vol_bisect']), axis=1)"
   ]
  },
  {
   "cell_type": "markdown",
   "metadata": {},
   "source": [
    "Save for future use"
   ]
  },
  {
   "cell_type": "code",
   "execution_count": 73,
   "metadata": {},
   "outputs": [],
   "source": [
    "data_2.to_csv('%doctest_mode2/data_2.csv')"
   ]
  },
  {
   "cell_type": "code",
   "execution_count": 361,
   "metadata": {},
   "outputs": [
    {
     "data": {
      "text/plain": [
       "<AxesSubplot:xlabel='option_price', ylabel='calculated_price'>"
      ]
     },
     "execution_count": 361,
     "metadata": {},
     "output_type": "execute_result"
    },
    {
     "data": {
      "image/png": "[encoded data removed]",
      "text/plain": [
       "<Figure size 432x288 with 1 Axes>"
      ]
     },
     "metadata": {
      "needs_background": "light"
     },
     "output_type": "display_data"
    }
   ],
   "source": [
    "data_2[['option_price', 'calculated_price']].plot.scatter(x='option_price', y='calculated_price')"
   ]
  },
  {
   "cell_type": "markdown",
   "metadata": {},
   "source": [
    "# (Part 3) - Numerical Integration\n",
    "\n",
    "1 - (a) Trapezoidal Method"
   ]
  },
  {
   "cell_type": "code",
   "execution_count": 386,
   "metadata": {},
   "outputs": [],
   "source": [
    "from math import sin, e, pi"
   ]
  },
  {
   "cell_type": "code",
   "execution_count": 387,
   "metadata": {},
   "outputs": [],
   "source": [
    "#function f(x) = sin(x)/x\n",
    "\n",
    "def f(x):\n",
    "    if x !=0:\n",
    "        return sin(x)/x\n",
    "    if x ==0:\n",
    "        return 1"
   ]
  },
  {
   "cell_type": "code",
   "execution_count": 404,
   "metadata": {},
   "outputs": [],
   "source": [
    "def Trapezoidal (f,a,b,N):\n",
    "    h = (b-a)/N\n",
    "    s = 0.5*f(a) + 0.5*f(b)\n",
    "\n",
    "    for k in (range(1,N)):\n",
    "        s+= f(a+k*h)\n",
    "\n",
    "    return h*s"
   ]
  },
  {
   "cell_type": "code",
   "execution_count": 405,
   "metadata": {},
   "outputs": [
    {
     "data": {
      "text/plain": [
       "3.141782455598503"
      ]
     },
     "execution_count": 405,
     "metadata": {},
     "output_type": "execute_result"
    }
   ],
   "source": [
    "integral_trap = Trapezoidal(f, -10**4, 10**4, 100000)\n",
    "integral_trap"
   ]
  },
  {
   "cell_type": "code",
   "execution_count": 406,
   "metadata": {},
   "outputs": [
    {
     "data": {
      "text/plain": [
       "0.00018980200870988284"
      ]
     },
     "execution_count": 406,
     "metadata": {},
     "output_type": "execute_result"
    }
   ],
   "source": [
    "erro_trap = integral_trap - pi\n",
    "erro_trap"
   ]
  },
  {
   "cell_type": "markdown",
   "metadata": {},
   "source": [
    "1 - (b) Simpson's Method"
   ]
  },
  {
   "cell_type": "code",
   "execution_count": 407,
   "metadata": {},
   "outputs": [],
   "source": [
    "def Simpson(f, a, b, n):\n",
    "   \n",
    "    h = (b - a) / n\n",
    "    k = 0\n",
    "    z = 0\n",
    "\n",
    "    for i in (range(1, n // 2)):\n",
    "        k += 2 * f(a + 2 * i * h)\n",
    "\n",
    "    for i in (range(1, n // 2 + 1)):\n",
    "        z += 4 * f(a + (2 * i - 1) * h)\n",
    "\n",
    "    return h * (f(a) + k + z + f(b)) / 3.0"
   ]
  },
  {
   "cell_type": "code",
   "execution_count": 408,
   "metadata": {},
   "outputs": [
    {
     "data": {
      "text/plain": [
       "3.1416126409773426"
      ]
     },
     "execution_count": 408,
     "metadata": {},
     "output_type": "execute_result"
    }
   ],
   "source": [
    "integral_simp = Simpson(f, -10**5, 10**5, 1000000)\n",
    "integral_simp"
   ]
  },
  {
   "cell_type": "code",
   "execution_count": 409,
   "metadata": {},
   "outputs": [
    {
     "data": {
      "text/plain": [
       "1.9987387549491586e-05"
      ]
     },
     "execution_count": 409,
     "metadata": {},
     "output_type": "execute_result"
    }
   ],
   "source": [
    "erro_simp = integral_simp - pi\n",
    "erro_simp"
   ]
  },
  {
   "cell_type": "markdown",
   "metadata": {},
   "source": [
    "2 - Truncation Error"
   ]
  },
  {
   "cell_type": "code",
   "execution_count": 443,
   "metadata": {},
   "outputs": [],
   "source": [
    "def truncation_error(f, int_method, a, N):\n",
    "    integration = int_method(f, -a, a, N)\n",
    "    error = np.abs(integration - pi)\n",
    "    return error"
   ]
  },
  {
   "cell_type": "code",
   "execution_count": 444,
   "metadata": {},
   "outputs": [],
   "source": [
    "from itertools import product"
   ]
  },
  {
   "cell_type": "code",
   "execution_count": 445,
   "metadata": {},
   "outputs": [],
   "source": [
    "a_range = [100, 500, 1000, 5000, 10000]\n",
    "N_range = range(10000, 1000000, 100000)"
   ]
  },
  {
   "cell_type": "code",
   "execution_count": 446,
   "metadata": {},
   "outputs": [],
   "source": [
    "error = np.zeros((len(a_range), len(N_range)))"
   ]
  },
  {
   "cell_type": "code",
   "execution_count": 447,
   "metadata": {},
   "outputs": [],
   "source": [
    "for i, a in enumerate(a_range):\n",
    "    for j, N in enumerate(N_range):\n",
    "        error[i][j] = truncation_error(f, Trapezoidal, a, N)"
   ]
  },
  {
   "cell_type": "code",
   "execution_count": 449,
   "metadata": {},
   "outputs": [
    {
     "data": {
      "image/png": "[encoded data removed]",
      "text/plain": [
       "<Figure size 432x288 with 2 Axes>"
      ]
     },
     "metadata": {},
     "output_type": "display_data"
    }
   ],
   "source": [
    "import seaborn as sns; sns.set_theme()\n",
    "ax = sns.heatmap(error)"
   ]
  },
  {
   "cell_type": "markdown",
   "metadata": {},
   "source": [
    "Very little sensitivity to $N$ (horizontal axis); for a given $a$, convergence is pretty fast for sufficiently high $N$"
   ]
  },
  {
   "cell_type": "markdown",
   "metadata": {},
   "source": [
    "3 - Convergence"
   ]
  },
  {
   "cell_type": "code",
   "execution_count": 466,
   "metadata": {},
   "outputs": [],
   "source": [
    "n_list = range(10,10000,10)"
   ]
  },
  {
   "cell_type": "markdown",
   "metadata": {},
   "source": [
    "For trapezoidal:"
   ]
  },
  {
   "cell_type": "code",
   "execution_count": 467,
   "metadata": {},
   "outputs": [
    {
     "data": {
      "application/vnd.jupyter.widget-view+json": {
       "model_id": "29323f850bdf4374ad5766f335ef6b69",
       "version_major": 2,
       "version_minor": 0
      },
      "text/plain": [
       "HBox(children=(HTML(value=''), FloatProgress(value=0.0, max=999.0), HTML(value='')))"
      ]
     },
     "metadata": {},
     "output_type": "display_data"
    },
    {
     "name": "stdout",
     "output_type": "stream",
     "text": [
      "\n"
     ]
    }
   ],
   "source": [
    "trap_iters = pd.DataFrame({'n': n_list,\n",
    "                           'int': [Trapezoidal(f, -10**4, 10**4, n) for n in tqdm(n_list)]})"
   ]
  },
  {
   "cell_type": "code",
   "execution_count": 469,
   "metadata": {},
   "outputs": [],
   "source": [
    "trap_iters['error'] = np.abs(trap_iters['int'] - trap_iters['int'].shift(1))\n",
    "trap_iters['log_error'] = np.log10(trap_iters['error'])"
   ]
  },
  {
   "cell_type": "markdown",
   "metadata": {},
   "source": [
    "Show where error becomes smaller than 10-4, or in log scale, <-4:"
   ]
  },
  {
   "cell_type": "code",
   "execution_count": 478,
   "metadata": {},
   "outputs": [
    {
     "data": {
      "image/png": "[encoded data removed]",
      "text/plain": [
       "<Figure size 432x288 with 1 Axes>"
      ]
     },
     "metadata": {},
     "output_type": "display_data"
    }
   ],
   "source": [
    "aux = trap_iters.set_index('n')['log_error']\n",
    "aux.plot()\n",
    "aux[aux<-4].plot(color='orange')\n",
    "plt.title(f\"Error gets < -4 at n= {aux[aux<-4].head(1).index[0]}\")\n",
    "plt.show()"
   ]
  },
  {
   "cell_type": "markdown",
   "metadata": {},
   "source": [
    "For Simpson:"
   ]
  },
  {
   "cell_type": "code",
   "execution_count": 479,
   "metadata": {},
   "outputs": [
    {
     "data": {
      "application/vnd.jupyter.widget-view+json": {
       "model_id": "232f0cb1474144c48ab3b822c807d5a5",
       "version_major": 2,
       "version_minor": 0
      },
      "text/plain": [
       "HBox(children=(HTML(value=''), FloatProgress(value=0.0, max=999.0), HTML(value='')))"
      ]
     },
     "metadata": {},
     "output_type": "display_data"
    },
    {
     "name": "stdout",
     "output_type": "stream",
     "text": [
      "\n"
     ]
    }
   ],
   "source": [
    "simps_iters = pd.DataFrame({'n': n_list,\n",
    "                           'int': [Simpson(f, -10**4, 10**4, n) for n in tqdm(n_list)]})"
   ]
  },
  {
   "cell_type": "code",
   "execution_count": 480,
   "metadata": {},
   "outputs": [],
   "source": [
    "simps_iters['error'] = np.abs(simps_iters['int'] - simps_iters['int'].shift(1))\n",
    "simps_iters['log_error'] = np.log10(simps_iters['error'])"
   ]
  },
  {
   "cell_type": "markdown",
   "metadata": {},
   "source": [
    "Show where error becomes smaller than 10-4, or in log scale, <-4:"
   ]
  },
  {
   "cell_type": "code",
   "execution_count": 481,
   "metadata": {},
   "outputs": [
    {
     "data": {
      "image/png": "[encoded data removed]",
      "text/plain": [
       "<Figure size 432x288 with 1 Axes>"
      ]
     },
     "metadata": {},
     "output_type": "display_data"
    }
   ],
   "source": [
    "aux = simps_iters.set_index('n')['log_error']\n",
    "aux.plot()\n",
    "aux[aux<-4].plot(color='orange')\n",
    "plt.title(f\"Error gets < -4 at n= {aux[aux<-4].head(1).index[0]}\")\n",
    "plt.show()"
   ]
  },
  {
   "cell_type": "markdown",
   "metadata": {},
   "source": [
    "We see that the trapezoidal method oscillates but converges faster, whereas Simpson has a monotnic decrease in error but converges at higher values of $n$"
   ]
  },
  {
   "cell_type": "markdown",
   "metadata": {},
   "source": [
    "4 - g(x)"
   ]
  },
  {
   "cell_type": "code",
   "execution_count": 482,
   "metadata": {},
   "outputs": [],
   "source": [
    "TOL = 1e-4"
   ]
  },
  {
   "cell_type": "code",
   "execution_count": 484,
   "metadata": {},
   "outputs": [],
   "source": [
    "#function g(x) = 1 + e^(-x^2)*sin(8x^(2/3))\n",
    "\n",
    "def g(x):\n",
    "    return (1 + (e**(-x**2))*sin(8*(x**(2/3))))"
   ]
  },
  {
   "cell_type": "code",
   "execution_count": 528,
   "metadata": {},
   "outputs": [],
   "source": [
    "def integrate(g, method):\n",
    "    i0 = 0.01\n",
    "    for n in range(1,100000,10000):\n",
    "        i1 = method(g, 0, 2, n)\n",
    "        error = np.abs((i1-i0)/i0)\n",
    "        if error < TOL:\n",
    "            break\n",
    "        else:\n",
    "            i0 = i1\n",
    "\n",
    "    return round(i1,4)"
   ]
  },
  {
   "cell_type": "code",
   "execution_count": 529,
   "metadata": {},
   "outputs": [
    {
     "data": {
      "text/plain": [
       "2.0375"
      ]
     },
     "execution_count": 529,
     "metadata": {},
     "output_type": "execute_result"
    }
   ],
   "source": [
    "integrate(g, Trapezoidal)"
   ]
  },
  {
   "cell_type": "code",
   "execution_count": 530,
   "metadata": {},
   "outputs": [
    {
     "data": {
      "text/plain": [
       "2.0374"
      ]
     },
     "execution_count": 530,
     "metadata": {},
     "output_type": "execute_result"
    }
   ],
   "source": [
    "integrate(g, Simpson)"
   ]
  }
 ],
 "metadata": {
  "kernelspec": {
   "display_name": "Python 3",
   "language": "python",
   "name": "python3"
  },
  "language_info": {
   "codemirror_mode": {
    "name": "ipython",
    "version": 3
   },
   "file_extension": ".py",
   "mimetype": "text/x-python",
   "name": "python",
   "nbconvert_exporter": "python",
   "pygments_lexer": "ipython3",
   "version": "3.7.9"
  },
  "toc": {
   "base_numbering": 1,
   "nav_menu": {},
   "number_sections": true,
   "sideBar": true,
   "skip_h1_title": false,
   "title_cell": "Table of Contents",
   "title_sidebar": "Contents",
   "toc_cell": false,
   "toc_position": {},
   "toc_section_display": true,
   "toc_window_display": false
  }
 },
 "nbformat": 4,
 "nbformat_minor": 4
}
